{
 "cells": [
  {
   "cell_type": "code",
   "execution_count": 47,
   "metadata": {
    "collapsed": true
   },
   "outputs": [],
   "source": [
    "import itertools\n",
    "import random\n",
    "%matplotlib inline"
   ]
  },
  {
   "cell_type": "code",
   "execution_count": 48,
   "metadata": {
    "collapsed": false
   },
   "outputs": [],
   "source": [
    "def strategy(self, opponent):\n",
    "    lookup_table = {\n",
    "            'C' : 'C',\n",
    "            'D' : 'D'\n",
    "        }\n",
    "\n",
    "    # First move\n",
    "    if len(self.history) == 0:\n",
    "        return C\n",
    "\n",
    "    # Get the opponent's last action\n",
    "    last_action = opponent.history[-1]\n",
    "    # Use it to look up my action\n",
    "    my_action = lookup_table[last_action]\n",
    "    return my_action"
   ]
  },
  {
   "cell_type": "code",
   "execution_count": 56,
   "metadata": {
    "collapsed": false
   },
   "outputs": [
    {
     "ename": "NameError",
     "evalue": "name 'player' is not defined",
     "output_type": "error",
     "traceback": [
      "\u001b[0;31m---------------------------------------------------------------------------\u001b[0m",
      "\u001b[0;31mNameError\u001b[0m                                 Traceback (most recent call last)",
      "\u001b[0;32m<ipython-input-56-3009f84db74d>\u001b[0m in \u001b[0;36m<module>\u001b[0;34m()\u001b[0m\n\u001b[0;32m----> 1\u001b[0;31m \u001b[0mstrategy\u001b[0m\u001b[0;34m(\u001b[0m\u001b[0mplayer\u001b[0m\u001b[0;34m)\u001b[0m\u001b[0;34m\u001b[0m\u001b[0m\n\u001b[0m",
      "\u001b[0;31mNameError\u001b[0m: name 'player' is not defined"
     ]
    }
   ],
   "source": [
    "strategy(player)"
   ]
  },
  {
   "cell_type": "code",
   "execution_count": 34,
   "metadata": {
    "collapsed": false
   },
   "outputs": [
    {
     "ename": "NameError",
     "evalue": "name 'Player' is not defined",
     "output_type": "error",
     "traceback": [
      "\u001b[0;31m---------------------------------------------------------------------------\u001b[0m",
      "\u001b[0;31mNameError\u001b[0m                                 Traceback (most recent call last)",
      "\u001b[0;32m<ipython-input-34-22983c4f0df1>\u001b[0m in \u001b[0;36m<module>\u001b[0;34m()\u001b[0m\n\u001b[0;32m----> 1\u001b[0;31m \u001b[0;32mclass\u001b[0m \u001b[0mLookerUp\u001b[0m\u001b[0;34m(\u001b[0m\u001b[0mPlayer\u001b[0m\u001b[0;34m)\u001b[0m\u001b[0;34m:\u001b[0m\u001b[0;34m\u001b[0m\u001b[0m\n\u001b[0m\u001b[1;32m      2\u001b[0m \u001b[0;34m\u001b[0m\u001b[0m\n\u001b[1;32m      3\u001b[0m     \u001b[0;32mdef\u001b[0m \u001b[0m__init__\u001b[0m\u001b[0;34m(\u001b[0m\u001b[0mself\u001b[0m\u001b[0;34m,\u001b[0m \u001b[0mlookup_table\u001b[0m\u001b[0;34m)\u001b[0m\u001b[0;34m:\u001b[0m\u001b[0;34m\u001b[0m\u001b[0m\n\u001b[1;32m      4\u001b[0m         \u001b[0mself\u001b[0m\u001b[0;34m.\u001b[0m\u001b[0mlookup_table\u001b[0m \u001b[0;34m=\u001b[0m \u001b[0mlookup_table\u001b[0m\u001b[0;34m\u001b[0m\u001b[0m\n\u001b[1;32m      5\u001b[0m \u001b[0;34m\u001b[0m\u001b[0m\n",
      "\u001b[0;31mNameError\u001b[0m: name 'Player' is not defined"
     ]
    }
   ],
   "source": [
    "class LookerUp(Player):\n",
    "\n",
    "    def __init__(self, lookup_table): \n",
    "        self.lookup_table = lookup_table\n",
    "\n",
    "\n",
    "    def strategy(self, opponent):\n",
    "        # If there isn't enough history to lookup an action, cooperate.\n",
    "        if len(self.history) < 2:\n",
    "            return C\n",
    "\n",
    "        # Get my own last two actions\n",
    "        my_history = ''.join(self.history[-2:])\n",
    "\n",
    "        # Do the same for the opponent.\n",
    "        opponent_history = ''.join(opponent.history[-2:])\n",
    "\n",
    "        # Get the opponents first two actions.\n",
    "        opponent_start = ''.join(opponent.history[:2])\n",
    "\n",
    "        # Put these three strings together in a tuple.\n",
    "        key = (opponent_start, my_history, opponent_history)\n",
    "\n",
    "        # Look up the action associated with that tuple in the lookup table.\n",
    "        action = self.lookup_table[key]\n",
    "\n",
    "        return action"
   ]
  },
  {
   "cell_type": "code",
   "execution_count": 35,
   "metadata": {
    "collapsed": false
   },
   "outputs": [
    {
     "ename": "NameError",
     "evalue": "name 'axelrod_utils' is not defined",
     "output_type": "error",
     "traceback": [
      "\u001b[0;31m---------------------------------------------------------------------------\u001b[0m",
      "\u001b[0;31mNameError\u001b[0m                                 Traceback (most recent call last)",
      "\u001b[0;32m<ipython-input-35-a0aa9ce57e18>\u001b[0m in \u001b[0;36m<module>\u001b[0;34m()\u001b[0m\n\u001b[0;32m----> 1\u001b[0;31m \u001b[0;32mprint\u001b[0m\u001b[0;34m(\u001b[0m\u001b[0maxelrod_utils\u001b[0m\u001b[0;34m.\u001b[0m\u001b[0mscore_for\u001b[0m\u001b[0;34m(\u001b[0m\u001b[0;32mlambda\u001b[0m \u001b[0;34m:\u001b[0m \u001b[0maxelrod\u001b[0m\u001b[0;34m.\u001b[0m\u001b[0mLookerUp\u001b[0m\u001b[0;34m(\u001b[0m\u001b[0mcooperator_table\u001b[0m\u001b[0;34m)\u001b[0m\u001b[0;34m)\u001b[0m\u001b[0;34m)\u001b[0m\u001b[0;34m\u001b[0m\u001b[0m\n\u001b[0m\u001b[1;32m      2\u001b[0m \u001b[0;32mprint\u001b[0m\u001b[0;34m(\u001b[0m\u001b[0maxelrod_utils\u001b[0m\u001b[0;34m.\u001b[0m\u001b[0mscore_for\u001b[0m\u001b[0;34m(\u001b[0m\u001b[0;32mlambda\u001b[0m \u001b[0;34m:\u001b[0m \u001b[0maxelrod\u001b[0m\u001b[0;34m.\u001b[0m\u001b[0mCooperator\u001b[0m\u001b[0;34m(\u001b[0m\u001b[0;34m)\u001b[0m\u001b[0;34m)\u001b[0m\u001b[0;34m)\u001b[0m\u001b[0;34m\u001b[0m\u001b[0m\n",
      "\u001b[0;31mNameError\u001b[0m: name 'axelrod_utils' is not defined"
     ]
    }
   ],
   "source": [
    "print(axelrod_utils.score_for(lambda : axelrod.LookerUp(cooperator_table)))\n",
    "print(axelrod_utils.score_for(lambda : axelrod.Cooperator()))"
   ]
  },
  {
   "cell_type": "markdown",
   "metadata": {},
   "source": [
    "** Search method one:** sample random tables\n",
    "Let's take a sample of randomly-generated lookup tables and examine their scores. Rather than type out the list of keys each time we want to create a new table, we can generate them using itertools. We can use product() to generate all the possible two-character strings of C and D:"
   ]
  },
  {
   "cell_type": "code",
   "execution_count": 36,
   "metadata": {
    "collapsed": false
   },
   "outputs": [
    {
     "name": "stdout",
     "output_type": "stream",
     "text": [
      "['CC', 'CD', 'DC', 'DD']\n"
     ]
    }
   ],
   "source": [
    "import itertools\n",
    "print([''.join(x) for x in itertools.product('CD', repeat=2)])"
   ]
  },
  {
   "cell_type": "code",
   "execution_count": 42,
   "metadata": {
    "collapsed": false
   },
   "outputs": [
    {
     "name": "stdout",
     "output_type": "stream",
     "text": [
      "[('CC', 'CC', 'CC'), ('CC', 'CC', 'CD'), ('CC', 'CC', 'DC'), ('CC', 'CC', 'DD'), ('CC', 'CD', 'CC'), ('CC', 'CD', 'CD'), ('CC', 'CD', 'DC'), ('CC', 'CD', 'DD'), ('CC', 'DC', 'CC'), ('CC', 'DC', 'CD'), ('CC', 'DC', 'DC'), ('CC', 'DC', 'DD'), ('CC', 'DD', 'CC'), ('CC', 'DD', 'CD'), ('CC', 'DD', 'DC'), ('CC', 'DD', 'DD'), ('CD', 'CC', 'CC'), ('CD', 'CC', 'CD'), ('CD', 'CC', 'DC'), ('CD', 'CC', 'DD'), ('CD', 'CD', 'CC'), ('CD', 'CD', 'CD'), ('CD', 'CD', 'DC'), ('CD', 'CD', 'DD'), ('CD', 'DC', 'CC'), ('CD', 'DC', 'CD'), ('CD', 'DC', 'DC'), ('CD', 'DC', 'DD'), ('CD', 'DD', 'CC'), ('CD', 'DD', 'CD'), ('CD', 'DD', 'DC'), ('CD', 'DD', 'DD'), ('DC', 'CC', 'CC'), ('DC', 'CC', 'CD'), ('DC', 'CC', 'DC'), ('DC', 'CC', 'DD'), ('DC', 'CD', 'CC'), ('DC', 'CD', 'CD'), ('DC', 'CD', 'DC'), ('DC', 'CD', 'DD'), ('DC', 'DC', 'CC'), ('DC', 'DC', 'CD'), ('DC', 'DC', 'DC'), ('DC', 'DC', 'DD'), ('DC', 'DD', 'CC'), ('DC', 'DD', 'CD'), ('DC', 'DD', 'DC'), ('DC', 'DD', 'DD'), ('DD', 'CC', 'CC'), ('DD', 'CC', 'CD'), ('DD', 'CC', 'DC'), ('DD', 'CC', 'DD'), ('DD', 'CD', 'CC'), ('DD', 'CD', 'CD'), ('DD', 'CD', 'DC'), ('DD', 'CD', 'DD'), ('DD', 'DC', 'CC'), ('DD', 'DC', 'CD'), ('DD', 'DC', 'DC'), ('DD', 'DC', 'DD'), ('DD', 'DD', 'CC'), ('DD', 'DD', 'CD'), ('DD', 'DD', 'DC'), ('DD', 'DD', 'DD')]\n"
     ]
    }
   ],
   "source": [
    "# and then use product() again to get all possible combinations of three such strings:\n",
    "import itertools\n",
    "strings = [''.join(x) for x in itertools.product('CD', repeat=2)]\n",
    "lookup_table_keys = list(itertools.product(strings,strings, strings))\n",
    "print lookup_table_keys"
   ]
  },
  {
   "cell_type": "code",
   "execution_count": 41,
   "metadata": {
    "collapsed": false
   },
   "outputs": [
    {
     "name": "stdout",
     "output_type": "stream",
     "text": [
      "{('DD', 'CC', 'CD'): 'D', ('DC', 'CD', 'CD'): 'D', ('DD', 'CD', 'CD'): 'D', ('DC', 'DC', 'DC'): 'C', ('DD', 'DD', 'CC'): 'D', ('CD', 'CC', 'DC'): 'C', ('CD', 'CD', 'CD'): 'D', ('CC', 'CC', 'DD'): 'C', ('DD', 'DD', 'CD'): 'C', ('DC', 'CC', 'CD'): 'D', ('DD', 'DC', 'DD'): 'C', ('DD', 'CC', 'CC'): 'D', ('CD', 'DD', 'DC'): 'D', ('CC', 'DC', 'DC'): 'D', ('CD', 'DC', 'CD'): 'D', ('CC', 'DD', 'CD'): 'D', ('CD', 'DD', 'DD'): 'C', ('DC', 'DD', 'CD'): 'C', ('DD', 'CD', 'DD'): 'C', ('DC', 'DD', 'CC'): 'D', ('CC', 'CD', 'DC'): 'D', ('CC', 'CC', 'CD'): 'D', ('CD', 'CC', 'DD'): 'C', ('CC', 'CD', 'DD'): 'D', ('DC', 'DC', 'CC'): 'C', ('DD', 'CC', 'DC'): 'D', ('DC', 'CD', 'CC'): 'C', ('DC', 'CC', 'CC'): 'C', ('DD', 'CD', 'DC'): 'D', ('CD', 'CD', 'DD'): 'C', ('DD', 'DD', 'DD'): 'D', ('CC', 'DC', 'DD'): 'D', ('CD', 'CD', 'DC'): 'C', ('DD', 'DC', 'DC'): 'C', ('CC', 'DD', 'DD'): 'C', ('CD', 'DD', 'CD'): 'C', ('CD', 'DC', 'CC'): 'C', ('CC', 'DD', 'DC'): 'D', ('DC', 'CD', 'DC'): 'D', ('DC', 'DD', 'DC'): 'C', ('DD', 'CD', 'CC'): 'C', ('DC', 'DC', 'CD'): 'C', ('CD', 'CC', 'CD'): 'D', ('CC', 'CD', 'CD'): 'D', ('CC', 'CC', 'CC'): 'C', ('DD', 'DD', 'DC'): 'D', ('CD', 'CC', 'CC'): 'D', ('DC', 'CC', 'DC'): 'C', ('DD', 'DC', 'CC'): 'C', ('DD', 'CC', 'DD'): 'D', ('DC', 'CD', 'DD'): 'D', ('DC', 'CC', 'DD'): 'C', ('CC', 'DC', 'CD'): 'D', ('CD', 'DC', 'DC'): 'D', ('CD', 'CD', 'CC'): 'D', ('CD', 'DD', 'CC'): 'C', ('CC', 'DC', 'CC'): 'D', ('DC', 'DD', 'DD'): 'D', ('DD', 'DC', 'CD'): 'C', ('CC', 'CC', 'DC'): 'D', ('CC', 'DD', 'CC'): 'C', ('CC', 'CD', 'CC'): 'D', ('CD', 'DC', 'DD'): 'D', ('DC', 'DC', 'DD'): 'C'}\n"
     ]
    }
   ],
   "source": [
    "# To generate a complete lookup table, we just generate a random string of C and D to be the values, \n",
    "# and zip the keys and values up into a dict:\n",
    "\n",
    "import random\n",
    "def get_random_table():\n",
    "    strings = [''.join(x) for x in itertools.product('CD', repeat=2)]\n",
    "    keys = list(itertools.product(strings,strings, strings))\n",
    "    values = ''.join([random.choice(\"CD\") for _ in keys])\n",
    "    return dict(zip(keys, values))\n",
    "\n",
    "print(get_random_table())"
   ]
  },
  {
   "cell_type": "code",
   "execution_count": 39,
   "metadata": {
    "collapsed": true
   },
   "outputs": [],
   "source": [
    "# Because the keys to the tables are all going to be exactly the same, \n",
    "# we'll write a helper function which will take a table and return the values as a string:\n",
    "\n",
    "def id_for_table(table):\n",
    "    \"\"\"Return a string representing the values of a lookup table dict\"\"\"\n",
    "    return ''.join([v for k, v in sorted(table.items())])"
   ]
  },
  {
   "cell_type": "code",
   "execution_count": 40,
   "metadata": {
    "collapsed": false
   },
   "outputs": [
    {
     "name": "stdout",
     "output_type": "stream",
     "text": [
      "DDDDCCDCCCDCDCCCCCCDCDCCDCDDCDCCDCDCDDCDCDDCDDCCCDCDCCCCCDCDDDCC\n",
      "CCCDCCCCCCCCCDDCDDCDDDCDDCCCDCCDCDCCCCDCDDDCDDDCCDDDDDDDCDDDCCDC\n",
      "CDDCCDDDCCDDDDDDDCCCDCCDDCDCDCCCCDDDDCDCDCDDDCCDCDCCDCDDCCCCDDDC\n",
      "DDDCDDCDDDDCCCDCDCCDDDCDDCCCDDDCCDDDCDCDDCDCDDDCDDDCDCDDDDDCCCDD\n",
      "DCCDDDCDDCDDCDDCCCCDCDCCDCCDCCDCDCDDCDDCDCCDDDDCCDDDCCDCCCDDDDDC\n",
      "DCCDDCDCDDCCCDDCCDCDCCCCDCCDCCCCDCCCCDDCCDCCCDDDCCDCCCDDCDCCDDDD\n",
      "DCDCCDDDCCCDDDCCCCDCDCDDCDCCDDCDDDCCDCCCCDCCDCDDDDCCDDDCCDCCCCDD\n",
      "CCCDDCDDCDCCCDDCDDCCCDDCCCDDCCCDDCDDCDCDDDDDCCCCDCDDCDCDCDDCDDCD\n",
      "CDDCCDDCDDDCCDCCCDDCCDCDDDDDDDDDCCCDDDCCDDDDCDDCDCCCDCCDCDCDCCCD\n",
      "DCDDDCCCDCCDCCCCDCCCCDCDDDCCCCDDCDDCCDCCDDCCDCDCCDCDCDCDDDCCDDCC\n"
     ]
    }
   ],
   "source": [
    "for i in range(10):\n",
    "    random_table= get_random_table()\n",
    "    print(id_for_table(random_table))\n",
    "    #print(axelrod_utils.score_for(lambda : axelrod.LookerUp(random_table)))\n"
   ]
  },
  {
   "cell_type": "code",
   "execution_count": null,
   "metadata": {
    "collapsed": true
   },
   "outputs": [],
   "source": []
  },
  {
   "cell_type": "code",
   "execution_count": null,
   "metadata": {
    "collapsed": true
   },
   "outputs": [],
   "source": []
  }
 ],
 "metadata": {
  "kernelspec": {
   "display_name": "Python [Root]",
   "language": "python",
   "name": "Python [Root]"
  },
  "language_info": {
   "codemirror_mode": {
    "name": "ipython",
    "version": 2
   },
   "file_extension": ".py",
   "mimetype": "text/x-python",
   "name": "python",
   "nbconvert_exporter": "python",
   "pygments_lexer": "ipython2",
   "version": "2.7.12"
  }
 },
 "nbformat": 4,
 "nbformat_minor": 0
}
