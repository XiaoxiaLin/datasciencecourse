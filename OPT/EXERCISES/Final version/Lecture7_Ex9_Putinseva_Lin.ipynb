{
 "cells": [
  {
   "cell_type": "markdown",
   "metadata": {},
   "source": [
    "<b>Authors</b><br>\n",
    "Xiaoxia Lin, Ekaterina Putintseva"
   ]
  },
  {
   "cell_type": "markdown",
   "metadata": {},
   "source": [
    "----------------------------------------------------------------------------------------------------------------------"
   ]
  },
  {
   "cell_type": "markdown",
   "metadata": {},
   "source": [
    "<b>Exercise 9</b><br><br>\n",
    "Use a genetic algorithm to learn a strategy for a game known as\n",
    "the prisoner's dilemma.<br>\n",
    "-- Two members of a criminal gang are arrested and imprisoned.<br>\n",
    "-- Each prisoner is in solitary confinement with no means of communicating\n",
    "with the other.<br>\n",
    "-- They hope to get both sentenced to a year in prison on a lesser charge.<br>\n",
    "-- Simultaneously, the judge offers each prisoner a bargain: each prisoner is given the opportunity either to: betray the other by testifying that the other committed the crime, or to cooperate with the other by remaining silent.<br>\n",
    "-- The offer is:\n",
    "<img src=\"offer.png\" style=\"width: 600px\">\n",
    "\n",
    "The prisoner's dilemma is to decide whether to betray or cooperate with the other prisoner."
   ]
  },
  {
   "cell_type": "markdown",
   "metadata": {},
   "source": [
    "<b>Solution</b><br><br>\n",
    "To solve this problem using a genetic algorithm, we use a strategy of the player as one 'chromosome'. The game takes several rounds, each round the player's decision is based on the cumulated history of the other player's moves during the previous rounds."
   ]
  },
  {
   "cell_type": "code",
   "execution_count": 12,
   "metadata": {
    "collapsed": false
   },
   "outputs": [],
   "source": [
    "import numpy as np\n",
    "from matplotlib import pyplot as plt\n",
    "import random\n",
    "import itertools\n",
    "import random\n",
    "from collections import OrderedDict\n",
    "from __future__ import division\n",
    "\n",
    "%matplotlib inline"
   ]
  },
  {
   "cell_type": "markdown",
   "metadata": {},
   "source": [
    "To code all the possible outcomes of the game, we create a list of all possible combinations of a certain size (that is equal to the number of rounds of the game). Then, we use this list as keys of the strategy dictionary, where the values are the decision our player should take."
   ]
  },
  {
   "cell_type": "code",
   "execution_count": 13,
   "metadata": {
    "collapsed": true
   },
   "outputs": [],
   "source": [
    "def sq_size(n):\n",
    "    size = 1\n",
    "    for i in range(1, n+1):\n",
    "        size += len([''.join(p) for p in itertools.product('01', repeat = i)])\n",
    "    return size"
   ]
  },
  {
   "cell_type": "code",
   "execution_count": 14,
   "metadata": {
    "collapsed": false
   },
   "outputs": [],
   "source": [
    "def answer_generator(size):\n",
    "    return ''.join(random.choice(['0', '1']) for _ in range(size))"
   ]
  },
  {
   "cell_type": "markdown",
   "metadata": {},
   "source": [
    "We use this function to extract the strategy from the 'chromosome' and put it into the strategy dictionary. Thus, for example, if the length of the game is 2 rounds, the chromosome will consist of 3 values (each being 0s or 1s), corresponding to:<br>\n",
    "1) the first move, which is not based on any history<br>\n",
    "2) the second move:<br>\n",
    "---> in case the first move of the opponent was 0<br>\n",
    "---> in case the first move of the opponent was 1<br>"
   ]
  },
  {
   "cell_type": "code",
   "execution_count": 15,
   "metadata": {
    "collapsed": false
   },
   "outputs": [],
   "source": [
    "def extract_strategy(sq, size):\n",
    "    perm_list = []\n",
    "    for i in range(1, size+1):\n",
    "        perm_list += [''.join(p) for p in itertools.product('01', repeat = i)]\n",
    "    decision_dict = OrderedDict()\n",
    "    for index in range(len(perm_list)):\n",
    "        decision_dict[perm_list[index]] = sq[index + 1]\n",
    "    return decision_dict"
   ]
  },
  {
   "cell_type": "code",
   "execution_count": 16,
   "metadata": {
    "collapsed": true
   },
   "outputs": [],
   "source": [
    "def evaluate(pl1, pl2):\n",
    "    if pl1 == '0' and pl2 == '0':\n",
    "        return 1\n",
    "    if pl1 == '1' and pl2 == '0':\n",
    "        return 0\n",
    "    if pl1 == '0' and pl2 == '1':\n",
    "        return 3\n",
    "    if pl1 == '1' and pl2 == '1':\n",
    "        return 6"
   ]
  },
  {
   "cell_type": "markdown",
   "metadata": {},
   "source": [
    "As the method of selection, we are using the roulette wheel selection. Therefore, since the initial problem is to minimize the amount of years the player gets, it should be transformed into a maximization problem. Here, we subtract the score that a player gets in the end of one game from the maximum score that can be obtained (number of rounds multiplied by 6).<br><br>\n",
    "Each game, the player is playing against a randomly generated <i>synthetic player</i>. In other words, against a randomly generated sequence of 0s and 1s of the length equal to the number of rounds in the game."
   ]
  },
  {
   "cell_type": "code",
   "execution_count": 17,
   "metadata": {
    "collapsed": true
   },
   "outputs": [],
   "source": [
    "def score(sq, size):\n",
    "    synthetic_player = answer_generator(size)\n",
    "    decision_dict = extract_strategy(sq, size)\n",
    "    score = 0\n",
    "    answer = ''\n",
    "    score += evaluate(sq[0], synthetic_player[0])\n",
    "    answer += sq[0]\n",
    "    for i in range(1, len(synthetic_player)):\n",
    "        score += evaluate(decision_dict[synthetic_player[:i+1]], synthetic_player[i])\n",
    "        answer += decision_dict[synthetic_player[:i+1]]\n",
    "    score = 6*size - score\n",
    "    return score"
   ]
  },
  {
   "cell_type": "markdown",
   "metadata": {},
   "source": [
    "To account for many possible outcomes of the game, the fitness function constituted a normalized cumulative score that is collected across 100 games."
   ]
  },
  {
   "cell_type": "code",
   "execution_count": 18,
   "metadata": {
    "collapsed": true
   },
   "outputs": [],
   "source": [
    "def cum_score(sq, size, rounds = 100):\n",
    "    cum_score = 0\n",
    "    for x in xrange(100):\n",
    "        cum_score += score(sq, size)\n",
    "    return cum_score/100"
   ]
  },
  {
   "cell_type": "markdown",
   "metadata": {},
   "source": [
    "The crossover function is introduced here with the probability of a crossover constituting 50%. The 'chromosomes' to undergo the crossover as well as the point of crossover are selected randomly."
   ]
  },
  {
   "cell_type": "code",
   "execution_count": 19,
   "metadata": {
    "collapsed": true
   },
   "outputs": [],
   "source": [
    "def crossover(sq_list, size):\n",
    "    p = .5\n",
    "    to_cross = []\n",
    "    new_sq_list = []\n",
    "    for sq in sq_list:\n",
    "        x = random.random()\n",
    "        if x <= p:\n",
    "            to_cross.append(sq)\n",
    "        else:\n",
    "            new_sq_list.append(sq)\n",
    "    if len(to_cross)%2 != 0:\n",
    "        new_sq_list.append(to_cross[-1])\n",
    "        to_cross.remove(to_cross[-1])\n",
    "    for sq_id in range(0, len(to_cross), 2):\n",
    "        x = int(np.random.randint(len(to_cross[sq_id]), size=1))\n",
    "        new_sq_list.append(to_cross[sq_id][:x]+to_cross[sq_id+1][x:])\n",
    "        new_sq_list.append(to_cross[sq_id+1][:x]+to_cross[sq_id][x:])\n",
    "    return new_sq_list  "
   ]
  },
  {
   "cell_type": "markdown",
   "metadata": {},
   "source": [
    "The mutation function is introduced here with the probability of a mutation constituting 1%."
   ]
  },
  {
   "cell_type": "code",
   "execution_count": 20,
   "metadata": {
    "collapsed": false,
    "scrolled": true
   },
   "outputs": [],
   "source": [
    "def mutate(sq, p = 0.01):\n",
    "    mutation = {'0':'1', '1':'0'}\n",
    "    for i in range(len(sq)):\n",
    "        x = random.random()\n",
    "        if x <= p:\n",
    "            sq = sq[:i] + mutation[sq[i]] + sq[i+1:]\n",
    "    return sq"
   ]
  },
  {
   "cell_type": "markdown",
   "metadata": {},
   "source": [
    "The probability of being selected is assigned according to the normalized cumulative score obtained."
   ]
  },
  {
   "cell_type": "code",
   "execution_count": 21,
   "metadata": {
    "collapsed": false
   },
   "outputs": [],
   "source": [
    "def prob_assignment(sq_list, size):\n",
    "    score_list = []\n",
    "    max_score = 0\n",
    "    for sq_id in range(len(sq_list)):\n",
    "        score = cum_score(sq_list[sq_id], size)\n",
    "        score_list.append(score)\n",
    "        \n",
    "        if score > max_score:\n",
    "            max_score = score\n",
    "            best_sq = sq_list[sq_id]\n",
    "    \n",
    "    F = sum([score_list[sq_id] for sq_id in range(len(sq_list))])\n",
    "    selection_prob = []\n",
    "    cum_selection_prob = []\n",
    "    cum = [0, 0]\n",
    "    for sq_id in range(len(sq_list)):\n",
    "        selection_prob.append(score_list[sq_id]/F)\n",
    "        cum[1] += selection_prob[sq_id]\n",
    "        cum_selection_prob.append(list(cum))\n",
    "        cum[0] += selection_prob[sq_id]\n",
    "    \n",
    "    return cum_selection_prob, F, max_score, best_sq"
   ]
  },
  {
   "cell_type": "markdown",
   "metadata": {},
   "source": [
    "The selection process is performed according to the roulette wheel strategy."
   ]
  },
  {
   "cell_type": "code",
   "execution_count": 22,
   "metadata": {
    "collapsed": false,
    "scrolled": true
   },
   "outputs": [],
   "source": [
    "def selection(sq_list, size):\n",
    "    new_sq_list = []\n",
    "    cum_selection_prob, F, max_score, best_sq = prob_assignment(sq_list, size)\n",
    "    for sq_id in range(len(sq_list)):\n",
    "        x = random.random()\n",
    "        for sq_id in range(len(cum_selection_prob)):\n",
    "            if cum_selection_prob[sq_id][0] <= x < cum_selection_prob[sq_id][1]:\n",
    "                new_sq_list.append(sq_list[sq_id])\n",
    "        if x == 1.:\n",
    "            new_sq_list += [sq for sq in sq_list if cum_selection_prob[sq][1] == 0] \n",
    "    return new_sq_list, F, max_score, best_sq"
   ]
  },
  {
   "cell_type": "markdown",
   "metadata": {},
   "source": [
    "A random list of 20 initial 'chromosomes' is generated here. The game length constitutes 10 rounds."
   ]
  },
  {
   "cell_type": "code",
   "execution_count": 36,
   "metadata": {
    "collapsed": false
   },
   "outputs": [],
   "source": [
    "number_of_rounds = 10\n",
    "sq_list = [answer_generator(sq_size(number_of_rounds)) for x in xrange(20)]"
   ]
  },
  {
   "cell_type": "markdown",
   "metadata": {},
   "source": [
    "Over the course of 100 rounds of selection the cumulative score of the population, the maximum score of the iteration and the best strategy of the iteration are being recorded."
   ]
  },
  {
   "cell_type": "code",
   "execution_count": 37,
   "metadata": {
    "collapsed": false,
    "scrolled": false
   },
   "outputs": [],
   "source": [
    "max_score_history = []\n",
    "best_sq_history = []\n",
    "F_cum = []\n",
    "\n",
    "for x in xrange(100):\n",
    "    sq_list_new, F, max_score, best_sq = selection(sq_list, number_of_rounds)\n",
    "    F_cum.append(F)\n",
    "    max_score_history.append(max_score)\n",
    "    best_sq_history.append(best_sq)\n",
    "    sq_list = list(sq_list_new)\n",
    "    sq_list = crossover(sq_list, number_of_rounds)\n",
    "    mutated = []\n",
    "    for sq in sq_list:\n",
    "        mutated.append(mutate(sq))\n",
    "    sq_list = list(mutated)"
   ]
  },
  {
   "cell_type": "code",
   "execution_count": 38,
   "metadata": {
    "collapsed": false
   },
   "outputs": [
    {
     "data": {
      "image/png": "[encoded data removed]",
      "text/plain": [
       "<matplotlib.figure.Figure at 0x108947550>"
      ]
     },
     "metadata": {},
     "output_type": "display_data"
    }
   ],
   "source": [
    "plt.figure(figsize=[15,10])\n",
    "plt.plot(F_cum)\n",
    "plt.xlabel('Number of game')\n",
    "plt.ylabel('Cumulative population score')\n",
    "plt.title('Cumulative population score over the course of 100 rounds of selection');"
   ]
  },
  {
   "cell_type": "markdown",
   "metadata": {},
   "source": [
    "Extracting the best strategy evolved over the course of evolution (not necessarily being a part of the last rounds of selection):"
   ]
  },
  {
   "cell_type": "code",
   "execution_count": 35,
   "metadata": {
    "collapsed": false
   },
   "outputs": [
    {
     "data": {
      "text/plain": [
       "OrderedDict([('0', '0'),\n",
       "             ('1', '1'),\n",
       "             ('00', '1'),\n",
       "             ('01', '0'),\n",
       "             ('10', '1'),\n",
       "             ('11', '0'),\n",
       "             ('000', '1'),\n",
       "             ('001', '1'),\n",
       "             ('010', '1'),\n",
       "             ('011', '0'),\n",
       "             ('100', '0'),\n",
       "             ('101', '0'),\n",
       "             ('110', '1'),\n",
       "             ('111', '1'),\n",
       "             ('0000', '0'),\n",
       "             ('0001', '0'),\n",
       "             ('0010', '1'),\n",
       "             ('0011', '1'),\n",
       "             ('0100', '1'),\n",
       "             ('0101', '0'),\n",
       "             ('0110', '1'),\n",
       "             ('0111', '0'),\n",
       "             ('1000', '1'),\n",
       "             ('1001', '0'),\n",
       "             ('1010', '0'),\n",
       "             ('1011', '0'),\n",
       "             ('1100', '0'),\n",
       "             ('1101', '0'),\n",
       "             ('1110', '0'),\n",
       "             ('1111', '1'),\n",
       "             ('00000', '1'),\n",
       "             ('00001', '1'),\n",
       "             ('00010', '0'),\n",
       "             ('00011', '0'),\n",
       "             ('00100', '1'),\n",
       "             ('00101', '0'),\n",
       "             ('00110', '0'),\n",
       "             ('00111', '0'),\n",
       "             ('01000', '1'),\n",
       "             ('01001', '1'),\n",
       "             ('01010', '0'),\n",
       "             ('01011', '0'),\n",
       "             ('01100', '1'),\n",
       "             ('01101', '1'),\n",
       "             ('01110', '0'),\n",
       "             ('01111', '1'),\n",
       "             ('10000', '0'),\n",
       "             ('10001', '1'),\n",
       "             ('10010', '0'),\n",
       "             ('10011', '0'),\n",
       "             ('10100', '1'),\n",
       "             ('10101', '0'),\n",
       "             ('10110', '0'),\n",
       "             ('10111', '0'),\n",
       "             ('11000', '1'),\n",
       "             ('11001', '0'),\n",
       "             ('11010', '0'),\n",
       "             ('11011', '0'),\n",
       "             ('11100', '1'),\n",
       "             ('11101', '1'),\n",
       "             ('11110', '0'),\n",
       "             ('11111', '1'),\n",
       "             ('000000', '1'),\n",
       "             ('000001', '0'),\n",
       "             ('000010', '1'),\n",
       "             ('000011', '0'),\n",
       "             ('000100', '0'),\n",
       "             ('000101', '0'),\n",
       "             ('000110', '1'),\n",
       "             ('000111', '0'),\n",
       "             ('001000', '0'),\n",
       "             ('001001', '0'),\n",
       "             ('001010', '0'),\n",
       "             ('001011', '1'),\n",
       "             ('001100', '0'),\n",
       "             ('001101', '0'),\n",
       "             ('001110', '0'),\n",
       "             ('001111', '1'),\n",
       "             ('010000', '1'),\n",
       "             ('010001', '1'),\n",
       "             ('010010', '1'),\n",
       "             ('010011', '0'),\n",
       "             ('010100', '0'),\n",
       "             ('010101', '0'),\n",
       "             ('010110', '1'),\n",
       "             ('010111', '0'),\n",
       "             ('011000', '0'),\n",
       "             ('011001', '0'),\n",
       "             ('011010', '0'),\n",
       "             ('011011', '0'),\n",
       "             ('011100', '0'),\n",
       "             ('011101', '0'),\n",
       "             ('011110', '0'),\n",
       "             ('011111', '1'),\n",
       "             ('100000', '0'),\n",
       "             ('100001', '0'),\n",
       "             ('100010', '0'),\n",
       "             ('100011', '1'),\n",
       "             ('100100', '1'),\n",
       "             ('100101', '1'),\n",
       "             ('100110', '1'),\n",
       "             ('100111', '1'),\n",
       "             ('101000', '1'),\n",
       "             ('101001', '1'),\n",
       "             ('101010', '1'),\n",
       "             ('101011', '1'),\n",
       "             ('101100', '0'),\n",
       "             ('101101', '0'),\n",
       "             ('101110', '0'),\n",
       "             ('101111', '1'),\n",
       "             ('110000', '1'),\n",
       "             ('110001', '1'),\n",
       "             ('110010', '0'),\n",
       "             ('110011', '0'),\n",
       "             ('110100', '1'),\n",
       "             ('110101', '0'),\n",
       "             ('110110', '1'),\n",
       "             ('110111', '1'),\n",
       "             ('111000', '0'),\n",
       "             ('111001', '0'),\n",
       "             ('111010', '1'),\n",
       "             ('111011', '1'),\n",
       "             ('111100', '0'),\n",
       "             ('111101', '1'),\n",
       "             ('111110', '0'),\n",
       "             ('111111', '1'),\n",
       "             ('0000000', '0'),\n",
       "             ('0000001', '0'),\n",
       "             ('0000010', '1'),\n",
       "             ('0000011', '0'),\n",
       "             ('0000100', '0'),\n",
       "             ('0000101', '1'),\n",
       "             ('0000110', '0'),\n",
       "             ('0000111', '0'),\n",
       "             ('0001000', '1'),\n",
       "             ('0001001', '0'),\n",
       "             ('0001010', '1'),\n",
       "             ('0001011', '0'),\n",
       "             ('0001100', '0'),\n",
       "             ('0001101', '1'),\n",
       "             ('0001110', '1'),\n",
       "             ('0001111', '0'),\n",
       "             ('0010000', '0'),\n",
       "             ('0010001', '0'),\n",
       "             ('0010010', '0'),\n",
       "             ('0010011', '1'),\n",
       "             ('0010100', '0'),\n",
       "             ('0010101', '1'),\n",
       "             ('0010110', '0'),\n",
       "             ('0010111', '1'),\n",
       "             ('0011000', '1'),\n",
       "             ('0011001', '1'),\n",
       "             ('0011010', '0'),\n",
       "             ('0011011', '1'),\n",
       "             ('0011100', '1'),\n",
       "             ('0011101', '0'),\n",
       "             ('0011110', '1'),\n",
       "             ('0011111', '0'),\n",
       "             ('0100000', '0'),\n",
       "             ('0100001', '0'),\n",
       "             ('0100010', '0'),\n",
       "             ('0100011', '0'),\n",
       "             ('0100100', '0'),\n",
       "             ('0100101', '0'),\n",
       "             ('0100110', '1'),\n",
       "             ('0100111', '0'),\n",
       "             ('0101000', '0'),\n",
       "             ('0101001', '0'),\n",
       "             ('0101010', '0'),\n",
       "             ('0101011', '0'),\n",
       "             ('0101100', '1'),\n",
       "             ('0101101', '0'),\n",
       "             ('0101110', '1'),\n",
       "             ('0101111', '0'),\n",
       "             ('0110000', '1'),\n",
       "             ('0110001', '1'),\n",
       "             ('0110010', '1'),\n",
       "             ('0110011', '1'),\n",
       "             ('0110100', '0'),\n",
       "             ('0110101', '1'),\n",
       "             ('0110110', '0'),\n",
       "             ('0110111', '1'),\n",
       "             ('0111000', '1'),\n",
       "             ('0111001', '1'),\n",
       "             ('0111010', '1'),\n",
       "             ('0111011', '1'),\n",
       "             ('0111100', '0'),\n",
       "             ('0111101', '1'),\n",
       "             ('0111110', '0'),\n",
       "             ('0111111', '0'),\n",
       "             ('1000000', '0'),\n",
       "             ('1000001', '0'),\n",
       "             ('1000010', '0'),\n",
       "             ('1000011', '0'),\n",
       "             ('1000100', '0'),\n",
       "             ('1000101', '1'),\n",
       "             ('1000110', '0'),\n",
       "             ('1000111', '0'),\n",
       "             ('1001000', '1'),\n",
       "             ('1001001', '0'),\n",
       "             ('1001010', '0'),\n",
       "             ('1001011', '0'),\n",
       "             ('1001100', '0'),\n",
       "             ('1001101', '1'),\n",
       "             ('1001110', '0'),\n",
       "             ('1001111', '0'),\n",
       "             ('1010000', '0'),\n",
       "             ('1010001', '0'),\n",
       "             ('1010010', '1'),\n",
       "             ('1010011', '0'),\n",
       "             ('1010100', '0'),\n",
       "             ('1010101', '1'),\n",
       "             ('1010110', '0'),\n",
       "             ('1010111', '0'),\n",
       "             ('1011000', '0'),\n",
       "             ('1011001', '0'),\n",
       "             ('1011010', '0'),\n",
       "             ('1011011', '1'),\n",
       "             ('1011100', '1'),\n",
       "             ('1011101', '1'),\n",
       "             ('1011110', '0'),\n",
       "             ('1011111', '0'),\n",
       "             ('1100000', '0'),\n",
       "             ('1100001', '1'),\n",
       "             ('1100010', '1'),\n",
       "             ('1100011', '0'),\n",
       "             ('1100100', '1'),\n",
       "             ('1100101', '1'),\n",
       "             ('1100110', '1'),\n",
       "             ('1100111', '1'),\n",
       "             ('1101000', '1'),\n",
       "             ('1101001', '1'),\n",
       "             ('1101010', '0'),\n",
       "             ('1101011', '0'),\n",
       "             ('1101100', '0'),\n",
       "             ('1101101', '0'),\n",
       "             ('1101110', '1'),\n",
       "             ('1101111', '1'),\n",
       "             ('1110000', '1'),\n",
       "             ('1110001', '0'),\n",
       "             ('1110010', '0'),\n",
       "             ('1110011', '1'),\n",
       "             ('1110100', '1'),\n",
       "             ('1110101', '1'),\n",
       "             ('1110110', '1'),\n",
       "             ('1110111', '0'),\n",
       "             ('1111000', '1'),\n",
       "             ('1111001', '0'),\n",
       "             ('1111010', '1'),\n",
       "             ('1111011', '0'),\n",
       "             ('1111100', '0'),\n",
       "             ('1111101', '0'),\n",
       "             ('1111110', '0'),\n",
       "             ('1111111', '0')])"
      ]
     },
     "execution_count": 35,
     "metadata": {},
     "output_type": "execute_result"
    }
   ],
   "source": [
    "for i in range(len(max_score_history)):\n",
    "    if max_score_history[i] == max(max_score_history):\n",
    "        index = i\n",
    "        \n",
    "extract_strategy(best_sq_history[index], number_of_rounds)"
   ]
  }
 ],
 "metadata": {
  "anaconda-cloud": {},
  "kernelspec": {
   "display_name": "Python [conda root]",
   "language": "python",
   "name": "conda-root-py"
  },
  "language_info": {
   "codemirror_mode": {
    "name": "ipython",
    "version": 2
   },
   "file_extension": ".py",
   "mimetype": "text/x-python",
   "name": "python",
   "nbconvert_exporter": "python",
   "pygments_lexer": "ipython2",
   "version": "2.7.12"
  }
 },
 "nbformat": 4,
 "nbformat_minor": 1
}
