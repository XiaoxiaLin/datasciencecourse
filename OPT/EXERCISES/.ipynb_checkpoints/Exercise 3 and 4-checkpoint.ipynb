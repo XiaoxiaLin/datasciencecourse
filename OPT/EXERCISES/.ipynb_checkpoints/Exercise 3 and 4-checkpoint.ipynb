{
 "cells": [
  {
   "cell_type": "markdown",
   "metadata": {},
   "source": [
    "\n",
    "\n",
    "\n",
    "\n"
   ]
  },
  {
   "cell_type": "markdown",
   "metadata": {},
   "source": [
    "Authors: Xiaoxia Lin, Samuel Noriega\n",
    "\n",
    "----------------------------------------------------------------------------------------------------------------------"
   ]
  },
  {
   "cell_type": "markdown",
   "metadata": {},
   "source": [
    "<b>Exercise 3</b><br> \n",
    "\n",
    "Suppose that we evaluate f at three points $x_1 < x_2 < x_3$.\n",
    "Show that the inequalities $f(x_1) > f(x_2)$ and $f(x_3) > f(x_2)$ imply that the coeffcient $c$ of the quadratic approximation \u001e",
    "$\\phi(x) = a + bx + cx^2$ is positive and that the predicted stationary point of $\\phi$ is indeed a minimum."
   ]
  },
  {
   "cell_type": "markdown",
   "metadata": {},
   "source": [
    "<b>Solution:</b><br>\n",
    "\n",
    "<br>\n",
    "\u001e",
    "Let $\\phi(x) = a + bx + cx^2$ be the cuadratic function that approximate $f$ at $x_1,x_2, x_3$, where $x_1 < x_2 < x_3$. \n",
    "<br>\n",
    "Hence  $f(x_1) = \\phi(x_1)$, $f(x_2) = \\phi(x_2)$, and $f(x_3) = \\phi(x_1)$, using the hypotesis $x_1 < x_2 < x_3$ then:\n",
    "\n",
    "\\begin{equation}\n",
    " \\left.\\begin{aligned}\n",
    "     f(x_1) > f(x_2) \\implies  \\phi(x_1) > \\phi(x_2) & \\\\\n",
    "                                             x_1<x_2 & \\\\\n",
    " \\end{aligned}\n",
    " \\right\\}\n",
    " \\text{ $\\implies \\phi $ decreases at $x_1$, i.e. $\\frac{d\\phi}{dx}(x_1) < 0$  }\n",
    "\\end{equation}\n",
    "\n",
    "\\begin{equation}\n",
    " \\left.\\begin{aligned}\n",
    "     f(x_3) > f(x_2) \\implies \\phi(x_3) > \\phi(x_2) & \\\\\n",
    "                                          x_2 < x_3 & \\\\\n",
    "     \\end{aligned}\n",
    " \\right\\}\n",
    " \\text{ $\\implies \\phi$  increases at $x_3$, i.e. $\\frac{d\\phi}{dx}(x_3) > 0$}\n",
    "\\end{equation}\n",
    "\n",
    "<br>\n",
    "As $\\frac{d\\phi}{dx}(x_1) < 0$ and $\\frac{d\\phi}{dx}(x_3) > 0$, there exists a minimum $x^*$ between $x_1$ and $x_3$, such that $\\frac{d\\phi}{dx}(x^*) = 0$, i.e. the coeffcient $c$ of the quadratic approximation \u001e",
    "$\\phi(x) = a + bx + cx^2$ is positive. \n"
   ]
  },
  {
   "cell_type": "markdown",
   "metadata": {},
   "source": [
    "----------------------------------------------------------------------------------------------------------------------"
   ]
  },
  {
   "cell_type": "markdown",
   "metadata": {},
   "source": [
    "<b>Exercise 4</b><br><br> \n",
    "Let $f$ be a real function on $R^n$. Also, let $x_0 \\in {R^n}, z \\in {R^n}$, and $\\theta \\in R$. Define\n",
    "\n",
    "$$F(\\theta) = f(x_0 + \\theta z)$$\n",
    "\n",
    "and suppose that we are looking for the minimum of $F$ (that is, for the minimum of $f$ in the direction $z$ through the point $x_0$). Let $x_0 + \\theta_1 z, x_0 + \\theta_2 z$, and $x_0 + \\theta_3 z$ be three points, where $f$ is evaluated. Show that the minimum predicetd by applying the quadratic approximation method is $x_0 + \\theta^* z$, where<br><br>\n",
    "$$\\theta^* = \\frac{[\\theta_2^2 - \\theta_3^2]F(\\theta_1) + [\\theta_3^2 - \\theta_1^2]F(\\theta_2) + [\\theta_1^2 - \\theta_2^2]F(\\theta_3)}{2[(\\theta_2- \\theta_3)F(\\theta_1) + (\\theta_3 - \\theta_1)F(\\theta_2) + (\\theta_1 - \\theta_2)F(\\theta_3)]}$$\n",
    "<br>\n",
    "and it is indeed the minimum of the parabola passing through the above three\n",
    "points if<br><br>\n",
    "$$\\frac{(\\theta_2 - \\theta_3)F(\\theta_1) + (\\theta_3 - \\theta_1)F(\\theta_2) + (\\theta_1 - \\theta_2)F(\\theta_3)}{(\\theta_2 - \\theta_3)(\\theta_3 - \\theta_1)(\\theta_1 - \\theta_2)} < 0$$"
   ]
  },
  {
   "cell_type": "markdown",
   "metadata": {},
   "source": [
    "<b>Solution:</b><br>\n",
    "\n",
    "Let \u001e",
    "$\\phi(x) = a + bx + cx^2$ be the quadratic approximation of $F$ evaluated at three points $\\theta_1$, $\\theta_2$ and $\\theta_3$, where $F(\\theta) = f(x_0 + \\theta z)$, we have:\n",
    "\n",
    "$$\\begin{cases}\n",
    "F(\\theta_1) = f(x_0 + \\theta_1 z) =\\phi(\\theta_1)  \\implies  F(\\theta_1) = c\\theta_1^2 + b\\theta_1 + a\\\\\n",
    "F(\\theta_2) = f(x_0 + \\theta_2 z) =\\phi(\\theta_2)  \\implies  F(\\theta_2) = c\\theta_2^2 + b\\theta_2 + a\\\\\n",
    "F(\\theta_3) = f(x_0 + \\theta_3 z) =\\phi(\\theta_3)  \\implies  F(\\theta_3) = c\\theta_3^2 + b\\theta_3 + a\n",
    "\\end{cases}$$\n",
    "<br>\n",
    "\n",
    "Solving the obtained system of equations gives us the following expressions for $a$, $b$ and $c$ coefficients of the quadratic approximation:<br><br>\n",
    "\n",
    "$$a = \\frac{F(\\theta_1)(\\theta_2^2 \\theta_3 - \\theta_2 \\theta_3^2) + \\theta_1 (F(\\theta_2) \\theta_3^2 - F(\\theta_3) \\theta_2^2) + \\theta_1^2 (F(\\theta_3) \\theta_2 - F(\\theta_2) ~ \\theta_3)}{(\\theta_2 - \\theta_3)(\\theta_3 - \\theta_1)(\\theta_1 - \\theta_2)}$$<br>\n",
    "\n",
    "$$b = \\frac{(\\theta_2^2 - \\theta_3^2)F(\\theta_1) + (\\theta_3^2 - \\theta_1^2) F(\\theta_2) + (\\theta_1^2 - \\theta_2^2)F(\\theta_3)} {(\\theta_2 - \\theta_3)(\\theta_3 - \\theta_1)(\\theta_1 - \\theta_2)}$$<br>\n",
    "\n",
    "$$c = - \\frac{(\\theta_2- \\theta_3)F(\\theta_1) + (\\theta_3 - \\theta_1)F(\\theta_2) + (\\theta_1 - \\theta_2)F(\\theta_3)} {(\\theta_2 - \\theta_3)(\\theta_3 - \\theta_1)(\\theta_1 - \\theta_2)}$$\n"
   ]
  },
  {
   "cell_type": "markdown",
   "metadata": {},
   "source": [
    "For the quadratic function to have a minimum, the $c$ coefficient has to be positive. Therefore, in our case<br><br>\n",
    "\n",
    "$$ c = \\frac{(\\theta_3 - \\theta_2)F(\\theta_1) + (\\theta_1 - \\theta_3)F(\\theta_2) + (\\theta_2 - \\theta_1)F(\\theta_3)}{(\\theta_2 - \\theta_3)(\\theta_3 - \\theta_1)(\\theta_1 - \\theta_2)} > 0$$"
   ]
  },
  {
   "cell_type": "markdown",
   "metadata": {},
   "source": [
    "This is equivalent to <br><br>\n",
    "$$-c = \\frac{(\\theta_2 - \\theta_3)F(\\theta_1) + (\\theta_3 - \\theta_1)F(\\theta_2) + (\\theta_1 - \\theta_2)F(\\theta_3)}{(\\theta_2 - \\theta_3)(\\theta_3 - \\theta_1)(\\theta_1 - \\theta_2)} < 0$$"
   ]
  },
  {
   "cell_type": "markdown",
   "metadata": {},
   "source": [
    "And the minimum of the quadratic funtion that approximate $F$ is determined by $\\theta^* = -\\frac{b}{2c}$. Using the previously obtained expressions for the $b$ and $c$ coefficients, we obtain:<br>\n",
    "\n",
    "$$\\theta^* = \\frac{(\\theta_2^2 - \\theta_3^2)F(\\theta_1) + (\\theta_3^2 - \\theta_1^2)F(\\theta_2) + (\\theta_1^2 - \\theta_2^2)F(\\theta_3)}{2[(\\theta_2- \\theta_3)F(\\theta_1) + (\\theta_3 - \\theta_1)F(\\theta_2) + (\\theta_1 - \\theta_2)F(\\theta_3)]}$$\n"
   ]
  },
  {
   "cell_type": "markdown",
   "metadata": {},
   "source": [
    "Finally, $F(\\theta) = f(x_0 + \\theta z)$ implies that the minimum of the function $f$, predicetd by applying the quadratic approximation method passing through the points $x_0 + \\theta_1 z, x_0 + \\theta_2 z$, and $x_0 + \\theta_3 z$, is indeed $x_0 + \\theta^* z$, where<br><br>\n",
    "\n",
    "$$\\theta^* = \\frac{(\\theta_2^2 - \\theta_3^2)F(\\theta_1) + (\\theta_3^2 - \\theta_1^2)F(\\theta_2) + (\\theta_1^2 - \\theta_2^2)F(\\theta_3)}{2[(\\theta_2- \\theta_3)F(\\theta_1) + (\\theta_3 - \\theta_1)F(\\theta_2) + (\\theta_1 - \\theta_2)F(\\theta_3)]},$$\n",
    "<br>\n",
    "and it is in deed the minimum of the parabola passing through the above three points if<br><br>\n",
    "$$-c = \\frac{(\\theta_2 - \\theta_3)F(\\theta_1) + (\\theta_3 - \\theta_1)F(\\theta_2) + (\\theta_1 - \\theta_2)F(\\theta_3)}{(\\theta_2 - \\theta_3)(\\theta_3 - \\theta_1)(\\theta_1 - \\theta_2)} < 0$$"
   ]
  },
  {
   "cell_type": "markdown",
   "metadata": {},
   "source": [
    "----------------------------------------------------------------------------------------------------------------------"
   ]
  }
 ],
 "metadata": {
  "anaconda-cloud": {},
  "kernelspec": {
   "display_name": "Python [Root]",
   "language": "python",
   "name": "Python [Root]"
  },
  "language_info": {
   "codemirror_mode": {
    "name": "ipython",
    "version": 2
   },
   "file_extension": ".py",
   "mimetype": "text/x-python",
   "name": "python",
   "nbconvert_exporter": "python",
   "pygments_lexer": "ipython2",
   "version": "2.7.12"
  }
 },
 "nbformat": 4,
 "nbformat_minor": 1
}
