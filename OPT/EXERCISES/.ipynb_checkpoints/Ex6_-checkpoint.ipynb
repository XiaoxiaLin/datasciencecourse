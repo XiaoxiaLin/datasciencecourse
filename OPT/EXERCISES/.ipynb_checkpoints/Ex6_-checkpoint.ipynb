{
 "cells": [
  {
   "cell_type": "markdown",
   "metadata": {
    "collapsed": true
   },
   "source": [
    "## Exercise 6:\n",
    "\n",
    "Given a vector y, consider the problem\n",
    "\n",
    "$$ maximize~~ y^T x $$\n",
    "$$ subject~~ to: ~~ x^TQx ≤ 1$$\n",
    "\n",
    "where Q is a positive definite symmetric matrix. Show that the optimal value is $ \\sqrt{y^TQ^{−1}y}$ and use this fact to establish the inequality\n",
    "\n",
    "$$ (x^Ty)^2 ≤ (x^TQ x)(y^TQ^{−1}y)$$"
   ]
  },
  {
   "cell_type": "markdown",
   "metadata": {
    "collapsed": true
   },
   "source": [
    "** Answer: ** \n",
    "\n",
    "We have 1 inequality constraint, we define the Lagrangian associated with\n",
    "problem as:\n",
    "\n",
    "$$\n",
    "L(x,y,\\mu) = y^T x + \\mu (1-x^TQx) = 0\n",
    "$$\n",
    "\n",
    "According to the KKT, there exist $\\mu_i$ such that:  \n",
    "\n",
    "\\begin{align*}\n",
    "       \\frac{\\delta L}{\\delta x} = y^T -  2\\mu x^T Q & = 0  ~~~~  (1) \\\\\n",
    "       \\mu (1-x^TQx) & = 0  ~~~~  (2) \\\\\n",
    "       0 \\leq & \\mu\n",
    "\\end{align*}\n",
    "\n",
    "From (1) and the fact that Q is a positive definite symmetric matrix,  $ \\mu = \\frac{1}{2} y^TQ^{-1}x^{-T} $. Substitute it into (2),  \n",
    "\n",
    "\n",
    "\\begin{align*}\n",
    "       \\frac{1}{2} y^TQ^{-1}x^{-T} (1 - x^TQx) & = 0  \\\\\n",
    "        y^TQ^{-1}x^{-T} - y^TQ^{-1}x^{-T} x^TQx & = 0  \\\\\n",
    "          y^T x x^T Q & = y^T  \\\\\n",
    "           Q^{-1} & = xx^T  ~~~~  (3) \\\\\n",
    "\\end{align*}\n",
    "\n",
    "\n",
    "The escalar product $ y^T x  =  x^T y$, using (3), \n",
    "$$ y^T x  =  x^T y = \\sqrt{(y^T x)(x^T y)}  = \\sqrt{y^T Q^{-1} y} $$\n",
    "\n",
    "\n",
    "Now let us see the inequality:\n",
    "\n",
    "+ The hyperplane $y^Tx$ under the constrain reaches its maximum value when intersecting with the quadratic function $x^TQx$, i.e. when $ x^TQx = 1$, therefore $(x^Ty)^2 \\leq (x^TQx)(y^TQ^{−1}y)$.     "
   ]
  },
  {
   "cell_type": "code",
   "execution_count": null,
   "metadata": {
    "collapsed": true
   },
   "outputs": [],
   "source": []
  }
 ],
 "metadata": {
  "anaconda-cloud": {},
  "kernelspec": {
   "display_name": "Python [Root]",
   "language": "python",
   "name": "Python [Root]"
  },
  "language_info": {
   "codemirror_mode": {
    "name": "ipython",
    "version": 2
   },
   "file_extension": ".py",
   "mimetype": "text/x-python",
   "name": "python",
   "nbconvert_exporter": "python",
   "pygments_lexer": "ipython2",
   "version": "2.7.12"
  }
 },
 "nbformat": 4,
 "nbformat_minor": 1
}
