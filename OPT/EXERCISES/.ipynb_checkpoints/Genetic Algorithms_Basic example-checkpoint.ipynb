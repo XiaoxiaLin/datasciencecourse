{
 "cells": [
  {
   "cell_type": "code",
   "execution_count": 1,
   "metadata": {
    "collapsed": false
   },
   "outputs": [
    {
     "data": {
      "text/plain": [
       "[13, 48, 20, 70, 95]"
      ]
     },
     "execution_count": 1,
     "metadata": {},
     "output_type": "execute_result"
    }
   ],
   "source": [
    "from random import randint, random\n",
    "from operator import add\n",
    "\n",
    "def individual(length, min, max):\n",
    "    'Create a member of the population.'\n",
    "    return [ randint(min,max) for x in xrange(length) ]\n",
    "\n",
    "individual(5,0,100)"
   ]
  },
  {
   "cell_type": "code",
   "execution_count": 2,
   "metadata": {
    "collapsed": false
   },
   "outputs": [
    {
     "data": {
      "text/plain": [
       "[[57, 61, 85, 21, 2], [62, 21, 16, 37, 10], [11, 69, 7, 60, 38]]"
      ]
     },
     "execution_count": 2,
     "metadata": {},
     "output_type": "execute_result"
    }
   ],
   "source": [
    "def population(count, length, min, max):\n",
    "    \"\"\"\n",
    "    Create a number of individuals (i.e. a population).\n",
    "\n",
    "    count: the number of individuals in the population\n",
    "    length: the number of values per individual\n",
    "    min: the minimum possible value in an individual's list of values\n",
    "    max: the maximum possible value in an individual's list of values\n",
    "\n",
    "    \"\"\"\n",
    "    return [ individual(length, min, max) for x in xrange(count) ]\n",
    "population(3,5,0,100)"
   ]
  },
  {
   "cell_type": "code",
   "execution_count": 3,
   "metadata": {
    "collapsed": false
   },
   "outputs": [
    {
     "name": "stdout",
     "output_type": "stream",
     "text": [
      "[61, 35, 21, 55, 3]\n"
     ]
    },
    {
     "data": {
      "text/plain": [
       "25"
      ]
     },
     "execution_count": 3,
     "metadata": {},
     "output_type": "execute_result"
    }
   ],
   "source": [
    "def fitness(individual, target):\n",
    "    \"\"\"\n",
    "    Determine the fitness of an individual. Higher is better.\n",
    "\n",
    "    individual: the individual to evaluate\n",
    "    target: the target number individuals are aiming for\n",
    "    \"\"\"\n",
    "    sum = reduce(add, individual, 0)\n",
    "    return abs(target-sum)\n",
    "\n",
    "x = individual(5,0,100)\n",
    "print x\n",
    "fitness(x, 200)"
   ]
  },
  {
   "cell_type": "code",
   "execution_count": 4,
   "metadata": {
    "collapsed": false
   },
   "outputs": [
    {
     "name": "stdout",
     "output_type": "stream",
     "text": [
      "[[47, 4, 68, 51, 47], [62, 79, 47, 46, 30], [33, 65, 84, 96, 20]] length= 3\n"
     ]
    },
    {
     "data": {
      "text/plain": [
       "59.666666666666664"
      ]
     },
     "execution_count": 4,
     "metadata": {},
     "output_type": "execute_result"
    }
   ],
   "source": [
    "def grade(pop, target):\n",
    "    'Find average fitness for a population.'\n",
    "    summed = reduce(add, (fitness(x, target) for x in pop))\n",
    "    return summed / (len(pop) * 1.0)\n",
    "\n",
    "x = population(3,5,0,100)\n",
    "print x, \"length=\",len(x)\n",
    "target = 200\n",
    "grade(x, target)"
   ]
  },
  {
   "cell_type": "code",
   "execution_count": 5,
   "metadata": {
    "collapsed": true
   },
   "outputs": [],
   "source": [
    "def evolve(pop, target, retain=0.2, random_select=0.05, mutate=0.01):\n",
    "    \n",
    "    graded = [ (fitness(x, target), x) for x in pop]\n",
    "    graded = [ x[1] for x in sorted(graded)]\n",
    "    retain_length = int(len(graded)*retain)\n",
    "    parents = graded[:retain_length]\n",
    "    \n",
    "    # randomly add other individuals to promote genetic diversity\n",
    "    for individual in graded[retain_length:]:\n",
    "        if random_select > random():\n",
    "            parents.append(individual)\n",
    "    \n",
    "    # mutate some individuals\n",
    "    for individual in parents:\n",
    "        if mutate > random():\n",
    "            pos_to_mutate = randint(0, len(individual)-1)\n",
    "            # this mutation is not ideal, because it restricts the range of possible values,\n",
    "            # but the function is unaware of the min/max values used to create the individuals,\n",
    "            individual[pos_to_mutate] = randint(min(individual), max(individual))\n",
    "    \n",
    "    # crossover parents to create children\n",
    "    parents_length = len(parents)\n",
    "    desired_length = len(pop) - parents_length\n",
    "    \n",
    "    children = []\n",
    "    while len(children) < desired_length:\n",
    "        male = randint(0, parents_length-1)\n",
    "        female = randint(0, parents_length-1)\n",
    "        if male != female:\n",
    "            male = parents[male]\n",
    "            female = parents[female]\n",
    "            half = len(male) / 2\n",
    "            child = male[:half] + female[half:]\n",
    "            children.append(child)\n",
    "    parents.extend(children)\n",
    "    return parents"
   ]
  },
  {
   "cell_type": "code",
   "execution_count": 7,
   "metadata": {
    "collapsed": false
   },
   "outputs": [
    {
     "name": "stdout",
     "output_type": "stream",
     "text": [
      "125.08\n",
      "69.29\n",
      "35.21\n",
      "28.12\n",
      "27.18\n",
      "16.68\n",
      "13.02\n",
      "11.46\n",
      "10.4\n",
      "18.21\n",
      "22.21\n",
      "14.68\n",
      "3.18\n",
      "3.18\n",
      "2.12\n",
      "0.0\n",
      "0.0\n",
      "0.0\n",
      "0.0\n",
      "0.0\n",
      "0.0\n",
      "0.0\n",
      "0.0\n",
      "0.0\n",
      "0.56\n",
      "0.0\n",
      "0.0\n",
      "0.0\n",
      "2.36\n",
      "0.0\n",
      "0.0\n",
      "0.0\n",
      "0.75\n",
      "3.3\n",
      "0.0\n",
      "0.0\n",
      "0.0\n",
      "0.0\n",
      "0.0\n",
      "0.72\n",
      "0.0\n",
      "0.0\n",
      "0.0\n",
      "0.0\n",
      "3.9\n",
      "3.32\n",
      "3.18\n",
      "2.12\n",
      "0.0\n",
      "0.0\n",
      "0.0\n",
      "0.87\n",
      "0.0\n",
      "1.94\n",
      "0.0\n",
      "0.0\n",
      "0.0\n",
      "0.0\n",
      "0.0\n",
      "0.0\n",
      "0.0\n",
      "0.0\n",
      "1.55\n",
      "0.0\n",
      "0.27\n",
      "0.0\n",
      "0.32\n",
      "0.24\n",
      "0.8\n",
      "0.32\n",
      "0.0\n",
      "1.6\n",
      "0.96\n",
      "1.53\n",
      "0.0\n",
      "0.0\n",
      "0.0\n",
      "0.0\n",
      "1.14\n",
      "0.0\n",
      "0.0\n",
      "0.0\n",
      "1.55\n",
      "0.0\n",
      "0.0\n",
      "0.33\n",
      "0.0\n",
      "0.0\n",
      "0.0\n",
      "0.0\n",
      "0.0\n",
      "2.73\n",
      "2.02\n",
      "1.56\n",
      "1.95\n",
      "1.56\n",
      "0.0\n",
      "0.0\n",
      "2.2\n",
      "0.0\n",
      "0.0\n"
     ]
    }
   ],
   "source": [
    "target = 371\n",
    "\n",
    "p_count = 100\n",
    "i_length = 5\n",
    "i_min = 0\n",
    "i_max = 100\n",
    "p = population(p_count, i_length, i_min, i_max)\n",
    "\n",
    "fitness_history = [grade(p, target),]\n",
    "for i in xrange(100):\n",
    "    p = evolve(p, target)\n",
    "    fitness_history.append(grade(p, target))\n",
    "for datum in fitness_history:\n",
    "    print datum"
   ]
  },
  {
   "cell_type": "code",
   "execution_count": null,
   "metadata": {
    "collapsed": true
   },
   "outputs": [],
   "source": []
  },
  {
   "cell_type": "code",
   "execution_count": null,
   "metadata": {
    "collapsed": true
   },
   "outputs": [],
   "source": []
  }
 ],
 "metadata": {
  "kernelspec": {
   "display_name": "Python [Root]",
   "language": "python",
   "name": "Python [Root]"
  },
  "language_info": {
   "codemirror_mode": {
    "name": "ipython",
    "version": 2
   },
   "file_extension": ".py",
   "mimetype": "text/x-python",
   "name": "python",
   "nbconvert_exporter": "python",
   "pygments_lexer": "ipython2",
   "version": "2.7.12"
  }
 },
 "nbformat": 4,
 "nbformat_minor": 0
}
