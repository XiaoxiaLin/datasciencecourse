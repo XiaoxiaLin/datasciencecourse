{
 "cells": [
  {
   "cell_type": "markdown",
   "metadata": {},
   "source": [
    "<b>Authors</b><br>\n",
    "\n",
    "Gabrielle Gantos, Xiaoxia Lin"
   ]
  },
  {
   "cell_type": "markdown",
   "metadata": {},
   "source": [
    "----------------------------------------------------------------------------------------------------------------------"
   ]
  },
  {
   "cell_type": "markdown",
   "metadata": {},
   "source": [
    "<b>Exercise 7</b><br>\n",
    "\n",
    "Prove that the number of faces of dimension $p$ of a $n$-dimensional simplex is equal to ${n+1 \\choose p+1}=\\frac{(n+1)!}{(p+1)!(n-p)!}$."
   ]
  },
  {
   "cell_type": "markdown",
   "metadata": {},
   "source": [
    "<b>Solution</b><br>\n",
    "\n",
    "The number of vertices in a $0$-simplex is one, $1$-simplex is two, $2$-simplex is three, $3$-simplex is four, and so on. So, the number of vertices in a $n$-dimensional simplex is equal to $n+1$ and the number of vertices in an $p$-dimensional face of an $n$-dimensional simplex is equal to $p+1$.\n",
    "\n",
    "The $0$- through $3$-dimensional simplices are pictured below. Combining 1, 2, 3, and 4 vertices, without caring about order, creates points, lines, triangles, tetrahedrons, and so on.\n",
    "\n",
    "<img src=\"03-simplex.jpeg\">\n",
    "\n",
    "Using the combination formula, $C(t,r)=\\frac {t!}{r!(t−r)!}$ where $t$ objects are taken $r$ at a time, it is possible to calculate the number $p$-dimentional faces of an $n$-dimensional simplex. \n",
    "\n",
    "We want to combine $p+1$ vertices, without caring about order, for any $p$-dimensional simplex, up to a maxium of $n+1$ vertices. In this case, $t=n+1$ and $r=p+1$, where $p$ represents the dimension of the face being counted and $n$ represents the dimension of the simplex. Simply, $p+1$ vertices are combined out of $n+1$ possible vertices and the calculation of the number of $p$-dimensional faces becomes:\n",
    "\n",
    "$$C(n+1,p+1)=\\frac {(n+1)!}{(p+1)!(n−p)!}$$"
   ]
  },
  {
   "cell_type": "markdown",
   "metadata": {},
   "source": [
    "\n",
    "\n",
    "For an $n$-simplex, the $n+1$ vertices can be represented by the barycentric coordinate points $e_i \\in \\mathbb{R}^{n+1}$. Each barycentric coordinate point is representative of a vector where only one element can be 1 and the rest of the elements are 0. \n",
    "\n",
    "<img src=\"barycentric_2D_3D.png\">\n",
    "\n",
    "For the 3-simplex above, the $n+1$ vertices are represented as follows:\n",
    "\n",
    "$$v_1 = e_1 = (1, 0, 0, 0)\\\\\n",
    "v_2 = e_2 = (0, 1, 0, 0)\\\\\n",
    "v_3 = e_3 = (0, 0, 1, 0)\\\\\n",
    "v_4 = e_4 = (0, 0, 0, 1)$$"
   ]
  },
  {
   "cell_type": "markdown",
   "metadata": {},
   "source": [
    "Let us go on to define the edge ($1$-dimensional face) connecting $e_1$ and $e_2$ as $(1,1,0,0)$, the edge connecting $e_1$ and $e_3$ as $(1,0,1,0)$, the edge connecting $e_2$ and $e_3$ as $(0,1,1,0)$, and so on. So the number of edges is the number of unordered $p+1$-length combinations of $n+1$ available vertices, which in this case is ${4 \\choose 2}$. Analogously, we can define the triangle ($2$-dimensional face) connecting $e_1$, $e_2$, and $e_3$ as $(1,1,1,0)$, the tetrahedron ($3$-dimensional face) connecting $e_1$, $e_2$, $e_3$, and $e_4$ as $(1,1,1,1)$, and so on. The number of $0$-, $2$-, and $3$-dimensional faces in this case is ${4 \\choose 1}$, ${4 \\choose 3}$, and ${4 \\choose 4}$.\n",
    "\n",
    "For an $n$-dimensional simplex, the $p$-dimensional face will be defined as the addition of the $p+1$ barycentric coordinates of $n+1$ length, or ${n+1 \\choose p+1}$. Defined in this way, we can clearly see that ${n+1 \\choose p+1}=\\frac{(n+1)!}{(p+1)!(n-p)!}$."
   ]
  },
  {
   "cell_type": "markdown",
   "metadata": {},
   "source": [
    "----------------------------------------------------------------------------------------------------------------------"
   ]
  },
  {
   "cell_type": "markdown",
   "metadata": {},
   "source": [
    "<b>Exercise 8</b><br>\n",
    "\n",
    "If $f$ is convex, then $DE(f)$ is also a convex set. Prove that the converse of the previous statement generally does not hold."
   ]
  },
  {
   "cell_type": "markdown",
   "metadata": {},
   "source": [
    "<b>Solution</b><br>\n",
    "\n",
    "The epigraph of a convex function is defined as the following:\n",
    "\n",
    "$$P(f)= \\left\\{(x, \\alpha) \\in \\mathbb{R} \\mid f(x) \\leq \\alpha \\right\\} \\subset \\mathbb{R}^{n+1}$$\n",
    "\n",
    "and is illustrated by the orange portion labeled $P(f)$ on the graph of $f(x) = x^4-x^2+1$ below:"
   ]
  },
  {
   "cell_type": "code",
   "execution_count": 1,
   "metadata": {
    "collapsed": false
   },
   "outputs": [
    {
     "data": {
      "image/png": "[encoded data removed]",
      "text/plain": [
       "<matplotlib.figure.Figure at 0x1046ecc90>"
      ]
     },
     "metadata": {},
     "output_type": "display_data"
    }
   ],
   "source": [
    "import numpy as np\n",
    "import matplotlib.pyplot as plt\n",
    "\n",
    "X = np.linspace(-2, 2, 10000, endpoint=True)\n",
    "Y = X**4 - X**2 +1\n",
    "\n",
    "Z = 2\n",
    "invy = np.sqrt((1+np.sqrt(4*Z-3))/2)\n",
    "invyn = -np.sqrt((1+np.sqrt(4*Z-3))/2)\n",
    "DEf = np.linspace(invy, invyn, 10000)\n",
    "\n",
    "plt.axes([-1.5, 1.5, 1, 1])\n",
    "\n",
    "plt.plot(X, Y, color='blue', label='f')\n",
    "plt.fill_between(X, Y, Z, where=((invyn<X)&(X<invy)), color='orange', alpha=.35, label='P(f)')\n",
    "\n",
    "plt.legend(loc='upper center')\n",
    "\n",
    "plt.text(invy-.04, -1.25, '$]$', color='cyan', fontsize=30, fontweight='bold')\n",
    "plt.text(invyn-.04, -1.25, '$[$', color='cyan', fontsize=30, fontweight='bold')\n",
    "plt.annotate('', xy=(-.75, .85), xytext=(.75, .85),\n",
    "            arrowprops=dict(arrowstyle=\"->\",facecolor='black'))\n",
    "\n",
    "plt.xlim(-2, 2)\n",
    "plt.ylim(-1, 10)\n",
    "\n",
    "plt.show()"
   ]
  },
  {
   "cell_type": "markdown",
   "metadata": {},
   "source": [
    "The effective domain, $DE(f)$, of $f$ is shown by the range of $x$ between the cyan brackets in the plot above. $DE(f)$ is defined as follows:\n",
    "\n",
    "$$DE(f)= \\left\\{ x \\in \\mathbb{R}^n \\mid f(x)< + \\infty \\right\\}$$\n",
    "\n",
    "Although the effective domain of this plot is convex, the function $f(x) = x^4-x^2+1$ is not convex because the epigraph, $P(f)$ is not convex. The black arrow in the above graph illustrates that the epigraph of $f$ is not convex. If the epigraph were convex, all points on the line between any two points in the epigraph would also be included in the epigraph. As we cannot say that all such points are included, $f$ is not convex despite having a convex effective domain.  "
   ]
  }
 ],
 "metadata": {
  "anaconda-cloud": {},
  "kernelspec": {
   "display_name": "Python [Root]",
   "language": "python",
   "name": "Python [Root]"
  },
  "language_info": {
   "codemirror_mode": {
    "name": "ipython",
    "version": 2
   },
   "file_extension": ".py",
   "mimetype": "text/x-python",
   "name": "python",
   "nbconvert_exporter": "python",
   "pygments_lexer": "ipython2",
   "version": "2.7.12"
  }
 },
 "nbformat": 4,
 "nbformat_minor": 1
}
