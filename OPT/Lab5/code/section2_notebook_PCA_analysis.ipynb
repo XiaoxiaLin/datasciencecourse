{
 "cells": [
  {
   "cell_type": "markdown",
   "metadata": {},
   "source": [
    "## PCA analysis\n",
    "\n",
    "Let us know focus on the Principal Component Analysis problem, that is,\n",
    "\n",
    "$\\underset{w}{max} ~ w^TAw$ subject to $w^Tw = 1$, i.e. if w=(x,y), then $x^2+y^2=1$\n",
    "\n",
    "where A is the covariance matrix of the considered data."
   ]
  },
  {
   "cell_type": "code",
   "execution_count": 6,
   "metadata": {
    "collapsed": false,
    "scrolled": false
   },
   "outputs": [
    {
     "data": {
      "text/plain": [
       "[<matplotlib.lines.Line2D at 0x10838c650>]"
      ]
     },
     "execution_count": 6,
     "metadata": {},
     "output_type": "execute_result"
    },
    {
     "data": {
      "image/png": "[encoded data removed]",
      "text/plain": [
       "<matplotlib.figure.Figure at 0x1057e36d0>"
      ]
     },
     "metadata": {},
     "output_type": "display_data"
    }
   ],
   "source": [
    "import numpy as np\n",
    "import matplotlib.pyplot as plt\n",
    "\n",
    "%matplotlib inline\n",
    "\n",
    "m1 = [4.,-1.]                                    #  mean\n",
    "s1 = [[1,0.9],[0.9,1]]                           #  cov\n",
    "c1 = np.random.multivariate_normal(m1,s1,100)    #  multivariate_normal(mean, cov[, size])\n",
    "plt.plot(c1[:,0],c1[:,1],'r.')\n"
   ]
  },
  {
   "cell_type": "code",
   "execution_count": 11,
   "metadata": {
    "collapsed": false
   },
   "outputs": [
    {
     "name": "stdout",
     "output_type": "stream",
     "text": [
      "1 [-0.70123854 -0.71292672]\n"
     ]
    },
    {
     "data": {
      "text/plain": [
       "<matplotlib.patches.FancyArrow at 0x10833af50>"
      ]
     },
     "execution_count": 11,
     "metadata": {},
     "output_type": "execute_result"
    },
    {
     "data": {
      "image/png": "[encoded data removed]",
      "text/plain": [
       "<matplotlib.figure.Figure at 0x10833af10>"
      ]
     },
     "metadata": {},
     "output_type": "display_data"
    }
   ],
   "source": [
    "# Analytical solution\n",
    "\n",
    "vaps,veps = np.linalg.eig(np.cov(c1.T))\n",
    "idx = np.argmax(vaps)\n",
    "\n",
    "print idx, veps[:,idx]\n",
    "\n",
    "plt.plot(c1[:,0],c1[:,1],'r.')\n",
    "plt.arrow(np.mean(c1[:,0]),np.mean(c1[:,1]),        # arrow(x, y, dx, dy, **kwargs)\n",
    "          vaps[idx]*veps[0,idx],vaps[idx]*veps[1,idx],0.5,\n",
    "          linewidth=1,head_width=0.1,color='blue')\n"
   ]
  },
  {
   "cell_type": "code",
   "execution_count": 12,
   "metadata": {
    "collapsed": false
   },
   "outputs": [],
   "source": [
    "def wtw(w,A):\n",
    "    return np.dot(w.T,w)\n",
    "\n",
    "def wtAw(w,A):\n",
    "    return np.dot(w.T, np.dot(A,w))"
   ]
  },
  {
   "cell_type": "markdown",
   "metadata": {
    "collapsed": true
   },
   "source": [
    "\n",
    "# Projection method"
   ]
  },
  {
   "cell_type": "code",
   "execution_count": 13,
   "metadata": {
    "collapsed": false
   },
   "outputs": [
    {
     "name": "stdout",
     "output_type": "stream",
     "text": [
      "Initial values:\n",
      "  Function value = -1.73122267669  (x, y) = [1 3]\n",
      "\n",
      "Final values:\n",
      "  Number of iterations 2979\n",
      "  Function value  -2.11884795916\n",
      "  Obtained values are (x,y)= [ 0.70123854  0.71292672] \n",
      "  lambda = 2.11884795916 \n",
      "  alpha 7.45058059692e-09\n"
     ]
    }
   ],
   "source": [
    "import numpy as np\n",
    "\n",
    "tol=1e-8\n",
    "alpha=1.0\n",
    "A = np.cov(c1.T)\n",
    "\n",
    "w0 = np.array([1,3])\n",
    "w=w0\n",
    "w = w0 / np.sqrt(wtw(w,A)) # Projection of (x,y) over the cicle.\n",
    "lam = wtAw(w,A)/wtw(w,A)  # lambda that minimizes the modulus of the gradient of the Lagrangian\n",
    "\n",
    "cicle = wtw(w,A) - 1\n",
    "f= -wtAw(w,A) + lam * cicle\n",
    "\n",
    "cont=0\n",
    "print \"Initial values:\"\n",
    "print \"  Function value =\", f, \" (x, y) =\", w0\n",
    "\n",
    "aux = np.zeros(2)\n",
    "\n",
    "while ((alpha > tol) and (cont < 100000)):\n",
    "    cont=cont+1\n",
    "    \n",
    "    # Gradient of the Lagrangian\n",
    "    gr = np.dot(-A - A.T + 2*lam *(np.eye(2)),w)\n",
    "    \n",
    "    finished = 0\n",
    "    while ((finished == 0) and (alpha > tol)):\n",
    "        \n",
    "        aux_w = w - alpha * gr\n",
    "        aux_w= aux_w / np.sqrt(wtw(aux_w,A))    # projection\n",
    "        \n",
    "        cicle = wtw(aux_w,A) - 1\n",
    "        aux_lam = wtAw(aux_w,A)/wtw(aux_w,A)\n",
    "        aux_f= -wtAw(aux_w,A) + lam * cicle\n",
    "        \n",
    "        # Check if this is a descent\n",
    "        if aux_f<f:\n",
    "            w = aux_w\n",
    "            lam=aux_lam\n",
    "            f=aux_f\n",
    "            alpha=1.0\n",
    "            finished = 1\n",
    "        else:\n",
    "            alpha=alpha/2.0\n",
    "            \n",
    "print \"\\nFinal values:\"\n",
    "print \"  Number of iterations\", cont\n",
    "print \"  Function value \", f\n",
    "print \"  Obtained values are (x,y)=\", w, \"\\n  lambda =\", lam, \"\\n  alpha\",alpha"
   ]
  },
  {
   "cell_type": "markdown",
   "metadata": {
    "collapsed": true
   },
   "source": [
    "# Penalization method\n"
   ]
  },
  {
   "cell_type": "code",
   "execution_count": 11,
   "metadata": {
    "collapsed": false,
    "scrolled": true
   },
   "outputs": [
    {
     "name": "stdout",
     "output_type": "stream",
     "text": [
      "Initial values:\n",
      "  Function value = -12.00756355  (x, y) = [1 3]\n",
      "9\n",
      "[ 0.31622511  0.94868418] [1 3]\n",
      "Alpha 7.45058059692e-09\n",
      "\n",
      "Finished values:\n",
      "  Number of iterations 1\n",
      "  Function value  -12.00756355\n",
      "  Obtained values are (x,y)= [1 3] \n",
      "  alpha 7.45058059692e-09\n"
     ]
    }
   ],
   "source": [
    "\n",
    "c = 20000.0  # Penalty\n",
    "tol=1e-8\n",
    "alpha=0.50\n",
    "A = np.cov(c1.T)\n",
    "\n",
    "w = np.array([1,3])   # Initial values\n",
    "\n",
    "cicle = wtw(w,A) - 1\n",
    "g = (min(0,cicle))**2\n",
    "\n",
    "f= -wtAw(w,A) + (c/2.)* cicle**2\n",
    "cont=0\n",
    "print \"Initial values:\"\n",
    "print \"  Function value =\", f, \" (x, y) =\", w\n",
    "while ((alpha > tol) and (cont < 10000)):\n",
    "    print cicle\n",
    "    cont=cont+1\n",
    "    gr = np.dot(-A - A.T + 2*c*cicle*(np.eye(2)),w)\n",
    "    \n",
    "    # Normalization of the gradient. Just to avoid \"jumping\" too\n",
    "    # far away with the line search\n",
    "    modulus2 = gr[0]**2.0 + gr[1]**2.0\n",
    "    modulus  = np.sqrt(modulus2)\n",
    "    gr = gr/ modulus\n",
    "    print gr, w\n",
    "    \n",
    "    finished = 0\n",
    "    while ((finished == 0) and (alpha > tol)):\n",
    "        \n",
    "        aux_w = w-alpha*gr\n",
    "        cicle = wtw(aux_w,A) - 1\n",
    "        g = (min(0,cicle))**2\n",
    "        aux_f= -wtAw(aux_w,A) + (c/2.)*g\n",
    "\n",
    "        # Check if this is a descent\n",
    "        if aux_f<f:\n",
    "            w=aux_w\n",
    "            f=aux_f\n",
    "            alpha=1.0\n",
    "            finished = 1\n",
    "        else:\n",
    "            alpha=alpha/2.0\n",
    "\n",
    "print \"Alpha\", alpha\n",
    "            \n",
    "print \"\\nFinished values:\"\n",
    "print \"  Number of iterations\", cont\n",
    "print \"  Function value \", f\n",
    "print \"  Obtained values are (x,y)=\", w,  \"\\n  alpha\",alpha"
   ]
  },
  {
   "cell_type": "code",
   "execution_count": 11,
   "metadata": {
    "collapsed": false,
    "scrolled": true
   },
   "outputs": [
    {
     "name": "stdout",
     "output_type": "stream",
     "text": [
      "Initial values:\n",
      "  Function value = -12.00756355  (x, y) = [1 3]\n",
      "9\n",
      "[ 0.31622511  0.94868418] [1 3]\n",
      "Alpha 7.45058059692e-09\n",
      "\n",
      "Finished values:\n",
      "  Number of iterations 1\n",
      "  Function value  -12.00756355\n",
      "  Obtained values are (x,y)= [1 3] \n",
      "  alpha 7.45058059692e-09\n"
     ]
    }
   ],
   "source": [
    "\n",
    "c = 20000.0  # Penalty\n",
    "tol=1e-8\n",
    "alpha=0.50\n",
    "A = np.cov(c1.T)\n",
    "\n",
    "w = np.array([1,3])   # Initial values\n",
    "\n",
    "cicle = wtw(w,A) - 1\n",
    "g = (min(0,cicle))**2\n",
    "\n",
    "f= -wtAw(w,A) + (c/2.)* cicle**2\n",
    "cont=0\n",
    "print \"Initial values:\"\n",
    "print \"  Function value =\", f, \" (x, y) =\", w\n",
    "while ((alpha > tol) and (cont < 10000)):\n",
    "    print cicle\n",
    "    cont=cont+1\n",
    "    gr = np.dot(-A - A.T + 2*c*cicle*(np.eye(2)),w)\n",
    "    \n",
    "    # Normalization of the gradient. Just to avoid \"jumping\" too\n",
    "    # far away with the line search\n",
    "    modulus2 = gr[0]**2.0 + gr[1]**2.0\n",
    "    modulus  = np.sqrt(modulus2)\n",
    "    gr = gr/ modulus\n",
    "    print gr, w\n",
    "    \n",
    "    finished = 0\n",
    "    while ((finished == 0) and (alpha > tol)):\n",
    "        \n",
    "        aux_w = w-alpha*gr\n",
    "        cicle = wtw(aux_w,A) - 1\n",
    "        g = (min(0,cicle))**2\n",
    "        aux_f= -wtAw(aux_w,A) + (c/2.)*g\n",
    "\n",
    "        # Check if this is a descent\n",
    "        if aux_f<f:\n",
    "            w=aux_w\n",
    "            f=aux_f\n",
    "            alpha=1.0\n",
    "            finished = 1\n",
    "        else:\n",
    "            alpha=alpha/2.0\n",
    "\n",
    "print \"Alpha\", alpha\n",
    "            \n",
    "print \"\\nFinished values:\"\n",
    "print \"  Number of iterations\", cont\n",
    "print \"  Function value \", f\n",
    "print \"  Obtained values are (x,y)=\", w,  \"\\n  alpha\",alpha"
   ]
  },
  {
   "cell_type": "code",
   "execution_count": null,
   "metadata": {
    "collapsed": true
   },
   "outputs": [],
   "source": []
  },
  {
   "cell_type": "code",
   "execution_count": null,
   "metadata": {
    "collapsed": true
   },
   "outputs": [],
   "source": []
  }
 ],
 "metadata": {
  "anaconda-cloud": {},
  "kernelspec": {
   "display_name": "Python [Root]",
   "language": "python",
   "name": "Python [Root]"
  },
  "language_info": {
   "codemirror_mode": {
    "name": "ipython",
    "version": 2
   },
   "file_extension": ".py",
   "mimetype": "text/x-python",
   "name": "python",
   "nbconvert_exporter": "python",
   "pygments_lexer": "ipython2",
   "version": "2.7.12"
  }
 },
 "nbformat": 4,
 "nbformat_minor": 0
}
