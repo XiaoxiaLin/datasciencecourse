{
 "cells": [
  {
   "cell_type": "code",
   "execution_count": 1,
   "metadata": {
    "collapsed": false
   },
   "outputs": [
    {
     "name": "stdout",
     "output_type": "stream",
     "text": [
      "Finished\n",
      "  Number of iterations 2307\n",
      "  Final values       x = 5.76888203934  y = 36.0555128526\n",
      "  Correct values are x = 5.65685424949  y = 35.3553390593\n"
     ]
    }
   ],
   "source": [
    "import numpy as np\n",
    "\n",
    "# Penalty\n",
    "c = 20000.0;\n",
    "\n",
    "# This is the ellipse\n",
    "a=8.0\n",
    "b=50.0\n",
    "\n",
    "# Tolerance\n",
    "tol=1e-8\n",
    "alpha=1.0\n",
    "\n",
    "# Initial values\n",
    "x=1.0\n",
    "y=1.0\n",
    "\n",
    "# Points x and y should be over the ellipse\n",
    "ellipse = (x**2.0 / a**2.0 + y**2.0 / b**2.0 - 1);\n",
    "f= -4.0*x*y + c/2.0 * ellipse**2.0;\n",
    "cont=0\n",
    "\n",
    "while ((alpha > tol) and (cont < 100000)):\n",
    "    cont=cont+1\n",
    "    \n",
    "    # Gradient. Point x and y should be over the ellipse  \n",
    "    ellipse = (x**2.0 / a**2.0 + y**2.0 / b**2.0 - 1);\n",
    "    grx= -4.0*y + c * ellipse * 2.0 * x / a**2.0;\n",
    "    gry= -4.0*x + c * ellipse * 2.0 * y / b**2.0;\n",
    "    \n",
    "    # Normalization of the gradient. Just to avoid \"jumping\" too\n",
    "    # far away with the line search\n",
    "    modulus2 = grx**2.0 + gry**2.0\n",
    "    modulus  = np.sqrt(modulus2)\n",
    "    grx = grx / modulus\n",
    "    gry = gry / modulus\n",
    "    \n",
    "    # Used to know if we finished line search\n",
    "    finished = 0\n",
    "    \n",
    "    while ((finished == 0) and (alpha > tol)):\n",
    "        # Update\n",
    "        aux_x=x-alpha*grx\n",
    "        aux_y=y-alpha*gry\n",
    "    \n",
    "        # Compute new value of the energy\n",
    "        ellipse = (aux_x**2.0 / a**2.0 + aux_y**2.0 / b**2.0 - 1);\n",
    "        aux_f=-4.0*aux_x*aux_y + c/2.0 * ellipse**2.0;\n",
    "\n",
    "        # Check if this is a descent\n",
    "        if aux_f<f:\n",
    "            x=aux_x\n",
    "            y=aux_y\n",
    "            f=aux_f\n",
    "            alpha=1.0\n",
    "            finished = 1\n",
    "        else:\n",
    "            alpha=alpha/2.0\n",
    "\n",
    "print \"Finished\"\n",
    "print \"  Number of iterations\", cont\n",
    "print \"  Final values       x =\", x, \" y =\", y\n",
    "print \"  Correct values are x =\", np.sqrt(a**2.0 / 2.0), \" y =\", np.sqrt(b**2.0 / 2.0)"
   ]
  },
  {
   "cell_type": "code",
   "execution_count": null,
   "metadata": {
    "collapsed": true
   },
   "outputs": [],
   "source": []
  }
 ],
 "metadata": {
  "anaconda-cloud": {},
  "kernelspec": {
   "display_name": "Python [Root]",
   "language": "python",
   "name": "Python [Root]"
  },
  "language_info": {
   "codemirror_mode": {
    "name": "ipython",
    "version": 2
   },
   "file_extension": ".py",
   "mimetype": "text/x-python",
   "name": "python",
   "nbconvert_exporter": "python",
   "pygments_lexer": "ipython2",
   "version": "2.7.12"
  }
 },
 "nbformat": 4,
 "nbformat_minor": 1
}
