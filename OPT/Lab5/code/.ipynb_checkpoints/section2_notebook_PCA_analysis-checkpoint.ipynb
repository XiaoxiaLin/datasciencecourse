{
 "cells": [
  {
   "cell_type": "markdown",
   "metadata": {},
   "source": [
    "## PCA analysis\n",
    "\n",
    "Let us know focus on the Principal Component Analysis problem, that is,\n",
    "\n",
    "$\\underset{w}{max} ~ w^TAw$ subject to $w^Tw = 1$, i.e. if w=(x,y), then $x^2+y^2=1$\n",
    "\n",
    "where A is the covariance matrix of the considered data."
   ]
  },
  {
   "cell_type": "code",
   "execution_count": 10,
   "metadata": {
    "collapsed": false,
    "scrolled": false
   },
   "outputs": [
    {
     "data": {
      "text/plain": [
       "[<matplotlib.lines.Line2D at 0x105855850>]"
      ]
     },
     "execution_count": 10,
     "metadata": {},
     "output_type": "execute_result"
    },
    {
     "data": {
      "image/png": "[encoded data removed]",
      "text/plain": [
       "<matplotlib.figure.Figure at 0x105855250>"
      ]
     },
     "metadata": {},
     "output_type": "display_data"
    }
   ],
   "source": [
    "import numpy as np\n",
    "import matplotlib.pyplot as plt\n",
    "\n",
    "%matplotlib inline\n",
    "\n",
    "m1 = [4.,-1.]                                    #  mean\n",
    "s1 = [[1,0.9],[0.9,1]]                           #  cov\n",
    "c1 = np.random.multivariate_normal(m1,s1,100)    #  multivariate_normal(mean, cov[, size])\n",
    "plt.plot(c1[:,0],c1[:,1],'r.')\n"
   ]
  },
  {
   "cell_type": "code",
   "execution_count": 11,
   "metadata": {
    "collapsed": false
   },
   "outputs": [
    {
     "name": "stdout",
     "output_type": "stream",
     "text": [
      "0 [ 0.70947081  0.70473482]\n"
     ]
    },
    {
     "data": {
      "text/plain": [
       "<matplotlib.patches.FancyArrow at 0x103cab450>"
      ]
     },
     "execution_count": 11,
     "metadata": {},
     "output_type": "execute_result"
    },
    {
     "data": {
      "image/png": "[encoded data removed]",
      "text/plain": [
       "<matplotlib.figure.Figure at 0x107b0c150>"
      ]
     },
     "metadata": {},
     "output_type": "display_data"
    }
   ],
   "source": [
    "# Analytical solution\n",
    "\n",
    "vaps,veps = np.linalg.eig(np.cov(c1.T))\n",
    "idx = np.argmax(vaps)\n",
    "\n",
    "print idx, veps[:,idx]\n",
    "\n",
    "plt.plot(c1[:,0],c1[:,1],'r.')\n",
    "plt.arrow(np.mean(c1[:,0]),np.mean(c1[:,1]),        # arrow(x, y, dx, dy, **kwargs)\n",
    "          vaps[idx]*veps[0,idx],vaps[idx]*veps[1,idx],0.5,\n",
    "          linewidth=1,head_width=0.1,color='blue')\n"
   ]
  },
  {
   "cell_type": "code",
   "execution_count": 17,
   "metadata": {
    "collapsed": false
   },
   "outputs": [],
   "source": [
    "def wtw(w,A):\n",
    "    return np.dot(w.T,w)\n",
    "\n",
    "def wtAw(w,A):\n",
    "    return np.dot(w.T, np.dot(A,w))"
   ]
  },
  {
   "cell_type": "markdown",
   "metadata": {
    "collapsed": true
   },
   "source": [
    "\n",
    "# Projection method"
   ]
  },
  {
   "cell_type": "code",
   "execution_count": 31,
   "metadata": {
    "collapsed": false
   },
   "outputs": [
    {
     "name": "stdout",
     "output_type": "stream",
     "text": [
      "Initial values:\n",
      "  Function value = -1.62656419251  (x, y) = [1 3]\n",
      "\n",
      "Final values:\n",
      "  Number of iterations 25\n",
      "  Function value  -2.01579409134\n",
      "  Obtained values are (x,y)= [ 0.70947081  0.70473482] \n",
      "  lambda = 2.01579409134 \n",
      "  alpha 7.45058059692e-09\n"
     ]
    }
   ],
   "source": [
    "import numpy as np\n",
    "\n",
    "tol=1e-8\n",
    "alpha=1.0\n",
    "A = np.cov(c1.T)\n",
    "\n",
    "w0 = np.array([1,3])\n",
    "w=w0\n",
    "w = w0 / np.sqrt(wtw(w,A)) # Projection of (x,y) over the cicle.\n",
    "lam = wtAw(w,A)/wtw(w,A)  # lambda that minimizes the modulus of the gradient of the Lagrangian\n",
    "\n",
    "cicle = wtw(w,A) - 1\n",
    "f= -wtAw(w,A) + lam * cicle\n",
    "\n",
    "cont=0\n",
    "print \"Initial values:\"\n",
    "print \"  Function value =\", f, \" (x, y) =\", w0\n",
    "\n",
    "aux = np.zeros(2)\n",
    "\n",
    "while ((alpha > tol) and (cont < 100000)):\n",
    "    cont=cont+1\n",
    "    \n",
    "    # Gradient of the Lagrangian\n",
    "    gr = np.dot(A + A.T + 2*lam *(np.eye(2)),w)\n",
    "    \n",
    "    finished = 0\n",
    "    while ((finished == 0) and (alpha > tol)):\n",
    "        \n",
    "        aux_w = w - alpha * gr\n",
    "        aux_w= aux_w / np.sqrt(wtw(aux_w,A))    # projection\n",
    "        \n",
    "        cicle = wtw(aux_w,A) - 1\n",
    "        aux_lam = wtAw(aux_w,A)/wtw(aux_w,A)\n",
    "        aux_f= -wtAw(aux_w,A) + lam * cicle\n",
    "        \n",
    "        # Check if this is a descent\n",
    "        if aux_f<f:\n",
    "            w = aux_w\n",
    "            lam=aux_lam\n",
    "            f=aux_f\n",
    "            alpha=1.0\n",
    "            finished = 1\n",
    "        else:\n",
    "            alpha=alpha/2.0\n",
    "            \n",
    "print \"\\nFinal values:\"\n",
    "print \"  Number of iterations\", cont\n",
    "print \"  Function value \", f\n",
    "print \"  Obtained values are (x,y)=\", w, \"\\n  lambda =\", lam, \"\\n  alpha\",alpha"
   ]
  },
  {
   "cell_type": "markdown",
   "metadata": {
    "collapsed": true
   },
   "source": [
    "# Penalization method\n"
   ]
  },
  {
   "cell_type": "code",
   "execution_count": 46,
   "metadata": {
    "collapsed": false,
    "scrolled": true
   },
   "outputs": [
    {
     "name": "stdout",
     "output_type": "stream",
     "text": [
      "Initial values:\n",
      "  Function value = 10889935.4073  (x, y) = [3 5]\n",
      "[ 0.51449635  0.85749257] [3 5]\n",
      "[ 0.51449642  0.85749253] [ 2.74275183  4.57125372]\n",
      "[ 0.51449664  0.8574924 ] [ 2.22825541  3.71376119]\n",
      "[ 0.51449715  0.85749209] [ 1.71375877  2.85626879]\n",
      "[ 0.51449879  0.8574911 ] [ 1.19926162  1.9987767 ]\n",
      "[ 0.51451647  0.8574805 ] [ 0.68476283  1.1412856 ]\n",
      "[-0.51441234 -0.85754297] [ 0.4275046   0.71254535]\n",
      "[ 0.51457748  0.85744389] [ 0.55610768  0.92693109]\n",
      "[-0.51421786 -0.8576596 ] [ 0.4917855  0.8197506]\n",
      "[ 0.51495728  0.85721584] [ 0.52392411  0.87335433]\n",
      "[-0.51364053 -0.85800548] [ 0.5078317   0.84656633]\n",
      "[ 0.51780808  0.85549681] [ 0.51585733  0.85997267]\n",
      "[-0.50484306 -0.86321115] [ 0.51383464  0.85663088]\n",
      "[ 0.52498019  0.85111445] [ 0.51482067  0.85831684]\n",
      "[-0.3299307  -0.94400516] [ 0.51430799  0.85748568]\n",
      "[ 0.56663815  0.82396675] [ 0.51438854  0.85771615]\n",
      "[ 0.66162948  0.74983094] [ 0.51431937  0.85761557]\n",
      "Alpha 5.82076609135e-11\n",
      "\n",
      "Finished values:\n",
      "  Number of iterations 17\n",
      "  Function value  -1.89963663816\n",
      "  Obtained values are (x,y)= [ 0.51431937  0.85761557] \n",
      "  alpha 5.82076609135e-11\n"
     ]
    }
   ],
   "source": [
    "\n",
    "c = 20000.0  # Penalty\n",
    "tol=1e-10\n",
    "alpha=0.50\n",
    "w = np.array([3,5])   # Initial values\n",
    "\n",
    "cicle = wtw(w,A) - 1\n",
    "f= -wtAw(w,A) + (c/2.)*(cicle**2.)\n",
    "cont=0\n",
    "print \"Initial values:\"\n",
    "print \"  Function value =\", f, \" (x, y) =\", w\n",
    "while ((alpha > tol) and (cont < 100000)):\n",
    "    cont=cont+1\n",
    "    gr = np.dot(A + A.T + 2*c*cicle*(np.eye(2)),w)\n",
    "    \n",
    "    # Normalization of the gradient. Just to avoid \"jumping\" too\n",
    "    # far away with the line search\n",
    "    modulus2 = gr[0]**2.0 + gr[1]**2.0\n",
    "    modulus  = np.sqrt(modulus2)\n",
    "    gr = gr/ modulus\n",
    "    print gr, w\n",
    "    \n",
    "    finished = 0\n",
    "    while ((finished == 0) and (alpha > tol)):\n",
    "        \n",
    "        aux_w = w-alpha*gr\n",
    "        cicle = wtw(aux_w,A) - 1\n",
    "        aux_f= -wtAw(aux_w,A) + (c/2.)*(cicle**2.)\n",
    "\n",
    "        # Check if this is a descent\n",
    "        if aux_f<f:\n",
    "            w=aux_w\n",
    "            f=aux_f\n",
    "            alpha=1.0\n",
    "            finished = 1\n",
    "        else:\n",
    "            alpha=alpha/2.0\n",
    "\n",
    "print \"Alpha\", alpha\n",
    "            \n",
    "print \"\\nFinished values:\"\n",
    "print \"  Number of iterations\", cont\n",
    "print \"  Function value \", f\n",
    "print \"  Obtained values are (x,y)=\", w,  \"\\n  alpha\",alpha"
   ]
  },
  {
   "cell_type": "code",
   "execution_count": null,
   "metadata": {
    "collapsed": true
   },
   "outputs": [],
   "source": []
  },
  {
   "cell_type": "code",
   "execution_count": null,
   "metadata": {
    "collapsed": true
   },
   "outputs": [],
   "source": []
  }
 ],
 "metadata": {
  "anaconda-cloud": {},
  "kernelspec": {
   "display_name": "Python [Root]",
   "language": "python",
   "name": "Python [Root]"
  },
  "language_info": {
   "codemirror_mode": {
    "name": "ipython",
    "version": 2
   },
   "file_extension": ".py",
   "mimetype": "text/x-python",
   "name": "python",
   "nbconvert_exporter": "python",
   "pygments_lexer": "ipython2",
   "version": "2.7.12"
  }
 },
 "nbformat": 4,
 "nbformat_minor": 0
}
