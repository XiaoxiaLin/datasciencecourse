{
 "cells": [
  {
   "cell_type": "markdown",
   "metadata": {},
   "source": [
    "This is called Shallow list copy"
   ]
  },
  {
   "cell_type": "code",
   "execution_count": 31,
   "metadata": {
    "collapsed": false
   },
   "outputs": [
    {
     "name": "stdout",
     "output_type": "stream",
     "text": [
      "pt:  [2.37806, -4.87806]\n",
      "aux:  [2.37806, -4.87806]\n"
     ]
    }
   ],
   "source": [
    "def df_X(X,Y):\n",
    "    return 8*X-8.4*(X**3)+2*(X**5)+Y\n",
    "\n",
    "def df_Y(X,Y):\n",
    "    return X-8*Y+16*(Y**3)\n",
    "\n",
    "alpha = 1\n",
    "pt = [-0.3,-0.5]   # initial point\n",
    "aux = pt\n",
    "\n",
    "aux[0] += - alpha * df_X(pt[0],pt[1])\n",
    "aux[1] += - alpha * df_Y(pt[0],pt[1]) \n",
    "\n",
    "print \"pt: \", pt\n",
    "print \"aux: \", aux"
   ]
  },
  {
   "cell_type": "code",
   "execution_count": 35,
   "metadata": {
    "collapsed": false
   },
   "outputs": [
    {
     "name": "stdout",
     "output_type": "stream",
     "text": [
      "pt:  [-0.3, -0.5]\n",
      "aux:  [2.37806, -2.2]\n",
      "pt:  [-0.3, -0.5]\n",
      "aux:  [5.05612, -3.9000000000000004]\n",
      "pt:  [-0.3, -0.5]\n",
      "aux:  [7.73418, -5.6000000000000005]\n"
     ]
    }
   ],
   "source": [
    "from copy import deepcopy\n",
    "\n",
    "alpha = 1\n",
    "pt = [-0.3,-0.5]   # initial point\n",
    "aux = deepcopy(pt)\n",
    "\n",
    "for k in range(1,4):\n",
    "    aux[0] += - alpha * df_X(pt[0],pt[1])\n",
    "    aux[1] += - alpha * df_Y(pt[0],pt[1]) \n",
    "\n",
    "    print \"pt: \", pt\n",
    "    print \"aux: \", aux\n",
    "    "
   ]
  },
  {
   "cell_type": "markdown",
   "metadata": {},
   "source": [
    "http://stackoverflow.com/questions/2612802/how-to-clone-or-copy-a-list-in-python\n",
    "\n",
    "This link provide a detail explaination about different kinds of methods to copy a list. "
   ]
  },
  {
   "cell_type": "code",
   "execution_count": 3,
   "metadata": {
    "collapsed": false
   },
   "outputs": [
    {
     "name": "stdout",
     "output_type": "stream",
     "text": [
      " original: ['foo', 5, 'baz']\n",
      " slice: ['foo', 5]\n",
      " list(): ['foo', 5]\n",
      " copy: ['foo', 5]\n",
      " deepcopy: ['foo', 1]\n"
     ]
    }
   ],
   "source": [
    "import copy\n",
    "\n",
    "class Foo(object):\n",
    "    def __init__(self, val):\n",
    "         self.val = val\n",
    "\n",
    "    def __repr__(self):\n",
    "        return str(self.val)\n",
    "\n",
    "foo = Foo(1)\n",
    "\n",
    "a = ['foo', foo]\n",
    "b = a[:]\n",
    "c = list(a)\n",
    "d = copy.copy(a)\n",
    "e = copy.deepcopy(a)\n",
    "\n",
    "# edit orignal list and instance \n",
    "a.append('baz')\n",
    "foo.val = 5\n",
    "\n",
    "print(' original: %r\\n slice: %r\\n list(): %r\\n copy: %r\\n deepcopy: %r' % (a, b, c, d, e))"
   ]
  },
  {
   "cell_type": "markdown",
   "metadata": {},
   "source": [
    "speed comparison of the various methods:"
   ]
  },
  {
   "cell_type": "markdown",
   "metadata": {},
   "source": [
    "10.59 sec (105.9us/itn) -  copy.deepcopy(old_list)\n",
    "10.16 sec (101.6us/itn) - pure python Copy() method copying classes with deepcopy\n",
    "1.488 sec (14.88us/itn) - pure python Copy() method not copying classes (only dicts/lists/tuples)\n",
    "0.325 sec (3.25us/itn) - for item in old_list: new_list.append(item)\n",
    "0.217 sec (2.17us/itn) - [i for i in old_list] (a list comprehension)\n",
    "0.186 sec (1.86us/itn) - copy.copy(old_list)\n",
    "0.075 sec (0.75us/itn) - list(old_list)\n",
    "0.053 sec (0.53us/itn) - new_list = []; new_list.extend(old_list)\n",
    "0.039 sec (0.39us/itn) - old_list[:] (list slicing)"
   ]
  },
  {
   "cell_type": "code",
   "execution_count": null,
   "metadata": {
    "collapsed": true
   },
   "outputs": [],
   "source": []
  }
 ],
 "metadata": {
  "anaconda-cloud": {},
  "kernelspec": {
   "display_name": "Python [Root]",
   "language": "python",
   "name": "Python [Root]"
  },
  "language_info": {
   "codemirror_mode": {
    "name": "ipython",
    "version": 2
   },
   "file_extension": ".py",
   "mimetype": "text/x-python",
   "name": "python",
   "nbconvert_exporter": "python",
   "pygments_lexer": "ipython2",
   "version": "2.7.12"
  }
 },
 "nbformat": 4,
 "nbformat_minor": 0
}
