{
 "cells": [
  {
   "cell_type": "code",
   "execution_count": 31,
   "metadata": {
    "collapsed": false
   },
   "outputs": [
    {
     "name": "stdout",
     "output_type": "stream",
     "text": [
      "pt:  [2.37806, -4.87806]\n",
      "aux:  [2.37806, -4.87806]\n"
     ]
    }
   ],
   "source": [
    "def df_X(X,Y):\n",
    "    return 8*X-8.4*(X**3)+2*(X**5)+Y\n",
    "\n",
    "def df_Y(X,Y):\n",
    "    return X-8*Y+16*(Y**3)\n",
    "\n",
    "alpha = 1\n",
    "pt = [-0.3,-0.5]   # initial point\n",
    "aux = pt\n",
    "\n",
    "aux[0] += - alpha * df_X(pt[0],pt[1])\n",
    "aux[1] += - alpha * df_Y(pt[0],pt[1]) \n",
    "\n",
    "print \"pt: \", pt\n",
    "print \"aux: \", aux"
   ]
  },
  {
   "cell_type": "code",
   "execution_count": 28,
   "metadata": {
    "collapsed": false
   },
   "outputs": [
    {
     "name": "stdout",
     "output_type": "stream",
     "text": [
      "[2.37806, -4.87806]\n"
     ]
    }
   ],
   "source": [
    "print aux"
   ]
  },
  {
   "cell_type": "code",
   "execution_count": 35,
   "metadata": {
    "collapsed": false
   },
   "outputs": [
    {
     "name": "stdout",
     "output_type": "stream",
     "text": [
      "pt:  [-0.3, -0.5]\n",
      "aux:  [2.37806, -2.2]\n",
      "pt:  [-0.3, -0.5]\n",
      "aux:  [5.05612, -3.9000000000000004]\n",
      "pt:  [-0.3, -0.5]\n",
      "aux:  [7.73418, -5.6000000000000005]\n"
     ]
    }
   ],
   "source": [
    "from copy import deepcopy\n",
    "\n",
    "alpha = 1\n",
    "pt = [-0.3,-0.5]   # initial point\n",
    "aux = deepcopy(pt)\n",
    "\n",
    "for k in range(1,4):\n",
    "    aux[0] += - alpha * df_X(pt[0],pt[1])\n",
    "    aux[1] += - alpha * df_Y(pt[0],pt[1]) \n",
    "\n",
    "    print \"pt: \", pt\n",
    "    print \"aux: \", aux\n",
    "    "
   ]
  }
 ],
 "metadata": {
  "anaconda-cloud": {},
  "kernelspec": {
   "display_name": "Python [Root]",
   "language": "python",
   "name": "Python [Root]"
  },
  "language_info": {
   "codemirror_mode": {
    "name": "ipython",
    "version": 2
   },
   "file_extension": ".py",
   "mimetype": "text/x-python",
   "name": "python",
   "nbconvert_exporter": "python",
   "pygments_lexer": "ipython2",
   "version": "2.7.12"
  }
 },
 "nbformat": 4,
 "nbformat_minor": 0
}
