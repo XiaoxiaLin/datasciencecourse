{
 "cells": [
  {
   "cell_type": "code",
   "execution_count": 2,
   "metadata": {
    "collapsed": false
   },
   "outputs": [
    {
     "name": "stdout",
     "output_type": "stream",
     "text": [
      "29 2.55943719977e+18\n"
     ]
    }
   ],
   "source": [
    "import numpy as np\n",
    "\n",
    "\n",
    "\n",
    "#  np.dot   is the product of matrix\n",
    "#  np.eye(n)     this put 1's in the diagonal   \n",
    "\n",
    "\n",
    "#  np.inf   suprem norm (infinit) \n",
    "\n",
    "\n",
    "\"\"\" \n",
    "el mismo problema, depende del metodo, la solucion puede ser mejor o peor. \n",
    "There is not an universal way to solve a problme,you have to choose the most suitable way.\n",
    "\n",
    "\"\"\"\"\"\"\n"
   ]
  },
  {
   "cell_type": "code",
   "execution_count": null,
   "metadata": {
    "collapsed": true
   },
   "outputs": [],
   "source": []
  }
 ],
 "metadata": {
  "kernelspec": {
   "display_name": "Python [Root]",
   "language": "python",
   "name": "Python [Root]"
  },
  "language_info": {
   "codemirror_mode": {
    "name": "ipython",
    "version": 2
   },
   "file_extension": ".py",
   "mimetype": "text/x-python",
   "name": "python",
   "nbconvert_exporter": "python",
   "pygments_lexer": "ipython2",
   "version": "2.7.12"
  }
 },
 "nbformat": 4,
 "nbformat_minor": 0
}
