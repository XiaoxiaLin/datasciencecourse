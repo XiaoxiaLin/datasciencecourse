{
 "cells": [
  {
   "cell_type": "code",
   "execution_count": 3,
   "metadata": {
    "collapsed": false
   },
   "outputs": [
    {
     "ename": "IndentationError",
     "evalue": "expected an indented block (<ipython-input-3-2f39eef9316d>, line 6)",
     "output_type": "error",
     "traceback": [
      "\u001b[0;36m  File \u001b[0;32m\"<ipython-input-3-2f39eef9316d>\"\u001b[0;36m, line \u001b[0;32m6\u001b[0m\n\u001b[0;31m    alph[j-1] = 1- 2* (j-1)/n-1\u001b[0m\n\u001b[0m       ^\u001b[0m\n\u001b[0;31mIndentationError\u001b[0m\u001b[0;31m:\u001b[0m expected an indented block\n"
     ]
    }
   ],
   "source": [
    "import numpy as np\n",
    "\n",
    "for n in range(2, 51):\n",
    "    alph = np.zeros(n);\n",
    "    for j in range(1, n+1):\n",
    "    alph[j-1] = 1- 2* (j-1)/(n-1)\n",
    "    \n",
    "V = np.zeros((n,n))\n",
    "for i in range(0,n):\n",
    "    V[i,j] = alph[j]**i\n",
    "    \n",
    "KV = np.linalg.norm(V, 2)*np.linalg.norm(np.linalg.inv(V),2)\n",
    "print n, KV\n"
   ]
  },
  {
   "cell_type": "code",
   "execution_count": null,
   "metadata": {
    "collapsed": true
   },
   "outputs": [],
   "source": []
  }
 ],
 "metadata": {
  "kernelspec": {
   "display_name": "Python [Root]",
   "language": "python",
   "name": "Python [Root]"
  },
  "language_info": {
   "codemirror_mode": {
    "name": "ipython",
    "version": 2
   },
   "file_extension": ".py",
   "mimetype": "text/x-python",
   "name": "python",
   "nbconvert_exporter": "python",
   "pygments_lexer": "ipython2",
   "version": "2.7.12"
  }
 },
 "nbformat": 4,
 "nbformat_minor": 0
}
