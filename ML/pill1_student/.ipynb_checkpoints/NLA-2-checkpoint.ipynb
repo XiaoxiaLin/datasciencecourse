{
 "cells": [
  {
   "cell_type": "code",
   "execution_count": 8,
   "metadata": {
    "collapsed": false
   },
   "outputs": [
    {
     "name": "stdout",
     "output_type": "stream",
     "text": [
      "[[ 1.          1.          1.         ...,  1.          1.          1.        ]\n",
      " [ 1.          0.95918367  0.91836735 ..., -0.91836735 -0.95918367 -1.        ]\n",
      " [ 1.          0.92003332  0.84339858 ...,  0.84339858  0.92003332  1.        ]\n",
      " ..., \n",
      " [ 1.          0.1410534   0.01827142 ..., -0.01827142 -0.1410534  -1.        ]\n",
      " [ 1.          0.13529612  0.01677988 ...,  0.01677988  0.13529612  1.        ]\n",
      " [ 1.          0.12977383  0.01541009 ..., -0.01541009 -0.12977383 -1.        ]]\n",
      "50 1.33797884444e+18\n"
     ]
    }
   ],
   "source": [
    "import numpy as np\n",
    "\n",
    "for n in range(2, 51):\n",
    "    alph = np.zeros(n);\n",
    "    for j in range(1, n+1):\n",
    "        alph[j-1] = 1- 2.* (j-1)/(n-1)\n",
    "    \n",
    "V = np.zeros((n,n))\n",
    "for i in range(0,n):\n",
    "    for j in range(0,n):\n",
    "        V[i,j] = alph[j]**i\n",
    "print V\n",
    "        \n",
    "KV = np.linalg.norm(V, 2)*np.linalg.norm(np.linalg.inv(V),2)\n",
    "print n, KV\n"
   ]
  },
  {
   "cell_type": "code",
   "execution_count": null,
   "metadata": {
    "collapsed": true
   },
   "outputs": [],
   "source": []
  }
 ],
 "metadata": {
  "kernelspec": {
   "display_name": "Python [Root]",
   "language": "python",
   "name": "Python [Root]"
  },
  "language_info": {
   "codemirror_mode": {
    "name": "ipython",
    "version": 2
   },
   "file_extension": ".py",
   "mimetype": "text/x-python",
   "name": "python",
   "nbconvert_exporter": "python",
   "pygments_lexer": "ipython2",
   "version": "2.7.12"
  }
 },
 "nbformat": 4,
 "nbformat_minor": 0
}
