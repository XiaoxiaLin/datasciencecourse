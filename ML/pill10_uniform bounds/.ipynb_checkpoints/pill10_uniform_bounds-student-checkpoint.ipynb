{
 "cells": [
  {
   "cell_type": "markdown",
   "metadata": {},
   "source": [
    "<small><i>(c) October 2016 - This notebook was created by [Oriol Pujol Vila](http://www.maia.ub.es/~oriol).</i></small>"
   ]
  },
  {
   "cell_type": "markdown",
   "metadata": {},
   "source": [
    "# pill 10 - Finishing learning theory. Rademacher complexity and uniform bounds."
   ]
  },
  {
   "cell_type": "markdown",
   "metadata": {},
   "source": [
    "There is still a missing point in the theoretical basis of machine learning. In previous lectures we saw that we could bound the generalization error in terms of the in-sample error, the number of examples, and a measure of complexity of the function model class.\n",
    "\n",
    "This notion of complexity can be naturally defined if the function class set size if finite. In that case it corresponds to the cardinality of the set. However in most cases the size of this set is not finite.\n",
    "\n",
    "In this pill we are addressing this problem and briefly point the most important results. Because these follow the same intuitions found in former bounds I will skip the proofs.\n"
   ]
  },
  {
   "cell_type": "markdown",
   "metadata": {},
   "source": [
    "## Rademacher Complexity\n",
    "\n",
    "Let us intuitively derive the concept of Rademacher complexity. Let us consider the empirical in-sample error\n",
    "\n",
    "$$E_{in} = \\frac{1}{N}\\sum_{i=1}^N\\mathbb{1}[h(x_i)\\neq y_i] $$\n",
    "\n",
    "where \n",
    "\n",
    "$$\\mathbb{1}[h(x_i)\\neq y_i] = \\left\\{ \\begin{align}1 &\\quad h(x_i)\\neq y_i,\\\\ 0 &\\quad \\text{otherwise.}\\end{align}\\right.$$\n",
    "We can rewrite this same expression as \n",
    "\n",
    "$$E_{in} = \\frac{1}{N}\\sum_{i=1}^N\\mathbb{1}[h(x_i)\\neq y_i] = \\frac{1}{N}\\sum_i \\frac{1-y_i h(x_i)}{2}$$\n",
    "\n",
    "( For the detail: https://www.cs.princeton.edu/courses/archive/spring13/cos511/scribe_notes/0305.pdf )\n",
    "\n",
    "we want a good correlation between predictions and labels. \n",
    "\n",
    "If our goal is to minimize the errors, this is equivalent to the problem of maximizing the correlation between labels and the hypothesis class, i.e.\n",
    "\n",
    "$$\\underset{h}{\\text{maximize}} \\sum_i y_i h(x_i)$$\n",
    "\n",
    "Let us now replace the labels with Rademacher random variables $\\sigma_i$, defined as\n",
    "\n",
    "$$\\sigma_i \\in \\{-1,+1\\}, \\quad P(\\sigma_i=-1) = P(\\sigma_i = +1) = 0.5$$\n",
    "\n",
    "Now, if we consider the expected value of the correlation between the Rademacher random variables and the hypothesis class we have\n",
    "\n",
    "$$\\hat{\\mathcal{R}}_{\\mathcal{S}}(\\mathcal{H}) = \\mathbb{E}_{\\sigma} \\big[\\underset{h \\in \\mathcal{H}}{\\max}\\frac{1}{N}\\sum_i \\sigma_i h(x_i)\\big]$$\n",
    "\n",
    "This is the expected value over the data set $\\mathcal{S}$ if we replaced the labels with random labels with probability $1/2$. This value considers the best case (the hypothesis that maximizes the correlation). This is called the **Empirical Rademacher Complexity** for the sample.\n"
   ]
  },
  {
   "cell_type": "markdown",
   "metadata": {},
   "source": [
    "Xiaoxia: This intuitively measures the expressiveness of H. We can bound this expression using two extreme cases: |H| = 1 where we only have one choice for a hypothesis, and |H| = 2m where H shatters S. In the first case, our expectation equals 0 since the max term disappears; in the second case our expectation equals 1 since there always exists a hypothesis matching any set of σi’s. Thus our measure, as defined above, must fall between 0 and 1."
   ]
  },
  {
   "cell_type": "markdown",
   "metadata": {},
   "source": [
    "<div class = \"alert alert-danger\" style = \"border-radius:10px\">**QUIZ: ** Consider the following cases. Which is the value of the Empirical Rademacher Complexity?\n",
    "<ol>\n",
    "<li>**CASE 1:** $|\\mathcal{H}| = 1$</li>\n",
    "<li>**CASE 2:** $|\\mathcal{H}| = 2^N$, where $N$ is the number of samples.</li>\n",
    "</ol>\n",
    "</div>"
   ]
  },
  {
   "cell_type": "code",
   "execution_count": 1,
   "metadata": {
    "collapsed": false
   },
   "outputs": [
    {
     "data": {
      "text/html": [
       "<iframe src=\"https://goo.gl/forms/HonoUzcUrjhWEIlx1\" width = 1000 height=400></iframe>"
      ],
      "text/plain": [
       "<IPython.core.display.HTML object>"
      ]
     },
     "execution_count": 1,
     "metadata": {},
     "output_type": "execute_result"
    }
   ],
   "source": [
    "from IPython.display import HTML\n",
    "HTML('<iframe src=\"https://goo.gl/forms/HonoUzcUrjhWEIlx1\" width = 1000 height=400></iframe>')"
   ]
  },
  {
   "cell_type": "markdown",
   "metadata": {},
   "source": [
    "We can generalize this notion for all sets of a particular size, instead to being constraint to a particular data set, as follows,\n",
    "$$\\mathcal{R}_N(\\mathcal{H}) = \\mathbb{E}_{\\mathcal{S}\\sim D^N}\\big[ \\hat{\\mathcal{R}}_{\\mathcal{S}}(\\mathcal{H})\\big]$$"
   ]
  },
  {
   "cell_type": "markdown",
   "metadata": {},
   "source": [
    "Intuitively, $\\mathcal{R}_N(\\mathcal{H})$ is large if we can find functions $h\\in \\mathcal{H}$ that \"look like\" random noise."
   ]
  },
  {
   "cell_type": "markdown",
   "metadata": {},
   "source": [
    "With this we can now find some new results:\n",
    "\n",
    "**Theorem: (Convergence uniform bounds)** Let $F$ be a family of functions mapping from $Z$ to $[0,1]$, and let sample $\\mathcal{S} = \\{z_1,\\dots,z_N\\}$, where $z_i\\sim D$ for some distribution $D$ over $Z$. Define $\\mathbb{E}[f] = \\mathbb{E}_{S\\sim D}[f(z)]$ and $\\hat{\\mathbb{E}}_S[f] = \\frac{1}{N}\\sum_i f(z_i)$. Then with probability greater than $1-\\delta$ and for any $f$ we have \n",
    "\n",
    "$$\\mathbb{E}[f] \\leq \\hat{\\mathbb{E}}_S[f] + 2\\mathcal{R}_N(\\mathcal{H})+  \\sqrt{\\frac{\\log{\\frac{2}{\\delta}}}{2N}}$$"
   ]
  },
  {
   "cell_type": "markdown",
   "metadata": {},
   "source": [
    "This is a similar result to what we obtained from `Hoefding`'s inequality and we have the same dependence from complexity and number of samples. We will skip the derivation of this and the following theorems, but you can check resources at campus."
   ]
  },
  {
   "cell_type": "markdown",
   "metadata": {},
   "source": [
    "# Shattering numbers and VC-dimension"
   ]
  },
  {
   "cell_type": "markdown",
   "metadata": {},
   "source": [
    "The Rademacher complexity is hard to compute and it is commonly replaced by an upper bound called *shattering number*. \n",
    "\n",
    "Let $Z$ be a set and let $F$ be a class of binary functions on $Z$. For each $f\\in F$ maps $Z$ to $\\{0,1\\}$. For any $z_1,\\dots,z_N$ we define \n",
    "\n",
    "$$F_{z_1,\\dots,z_N} = \\big\\{(f(z_1),\\dots,f(z_N)): f \\in F\\big\\}$$\n",
    "\n",
    "that defines all posible outcomes of the application of $f$ on the set. Observe that this is a finite set of vector with cardinality less or equal to $2^N$.\n",
    "\n",
    "**EXAMPLE: ** Consider $F = \\{f_t: t\\in \\mathbb{R}\\}$ where \n",
    "\n",
    "$$f_t(z) = \\left\\{\\begin{align}1 &\\quad \\text{if}\\; z>t\\\\ 0 & \\quad\\text{otherwise}\\end{align}\\right.$$"
   ]
  },
  {
   "cell_type": "markdown",
   "metadata": {},
   "source": [
    "We define the *growth function* or *shattering number* by \n",
    "\n",
    "$$s(F,N) = \\underset{z_1,\\dots,z_N}{\\sup}|F_{z_1,\\dots,z_N}|$$"
   ]
  },
  {
   "cell_type": "markdown",
   "metadata": {},
   "source": [
    "There is a connection between the *shattering number* and Rademacher complexity.\n",
    "\n",
    "**Theorem: ** Let $F$ be a set of binary functions. Then, for all N,\n",
    "\n",
    "$$\\mathcal{R}_N(\\mathcal{H}) \\leq \\sqrt{\\frac{2 \\log s(F,N)}{N}}$$"
   ]
  },
  {
   "cell_type": "markdown",
   "metadata": {},
   "source": [
    "Joining the results so far we obtain,\n",
    "\n",
    "$$\\mathbb{E}[f] \\leq \\hat{\\mathbb{E}}_S[f] + \\sqrt{\\frac{8 \\log s(F,N)}{N}} +  \\sqrt{\\frac{\\log{\\frac{2}{\\delta}}}{2N}}$$"
   ]
  },
  {
   "cell_type": "markdown",
   "metadata": {},
   "source": [
    "## VC-dimension\n",
    "\n",
    "The VC-dimension, named after Vapnik and Chervonenkis, is the size of the largest set than can be shattered by a function class F,\n",
    "\n",
    "$$VC(F) = \\sup \\{n : s(F,n) = 2^n\\}$$"
   ]
  },
  {
   "cell_type": "markdown",
   "metadata": {},
   "source": [
    "<div class = \"alert alert-info\" style=\"border-radius:10px\">**INTUITIVE IDEA: ** When evaluating the shattering number we can consider this as a two player game in which \n",
    "\n",
    "<ul>\n",
    "<li> I set the points in the way I like (I will obviously use a benefitial position of the points).</li>\n",
    "<li> You set the labels for those points.</li>\n",
    "<li> As long as there is a function of the hypothesis class that split those points we consider that the set is shattered. </li>\n",
    "</ul>\n",
    "\n",
    "The VC-dimension is the maximum number of points that can be split using this game.\n",
    "</div>"
   ]
  },
  {
   "cell_type": "markdown",
   "metadata": {},
   "source": [
    "<div class = \"alert alert-success\" style = \"border-radius:10px\"> **EXERCISE: ** What is the VC-dimension of the following cases?\n",
    "<ol>\n",
    "<li>Consider a hypothesis class of the close interval in a real line.</li>\n",
    "<li>Consider the cosine function with the frequency free parameter.</li>\n",
    "</ol>\n",
    "</div>"
   ]
  },
  {
   "cell_type": "markdown",
   "metadata": {},
   "source": [
    "We can connect Rademacher complexity with the VC dimension as follows,\n",
    "\n",
    "**Theorem: ** Supose taht F has finite VC dimension $d$. There exists a universal constant $C>0$ such that \n",
    "\n",
    "$$\\mathcal{R}_N(\\mathcal{H}) \\leq C \\sqrt{\\frac{d}{N}}$$"
   ]
  },
  {
   "cell_type": "markdown",
   "metadata": {},
   "source": [
    "Thus, \n",
    "\n",
    "$$\\mathbb{E}[f] \\leq \\hat{\\mathbb{E}}_S[f] + C \\sqrt{\\frac{d}{N}} +  \\sqrt{\\frac{\\log{\\frac{2}{\\delta}}}{2N}}$$"
   ]
  },
  {
   "cell_type": "markdown",
   "metadata": {},
   "source": [
    "# Some practicalities\n",
    "\n",
    "A final note, **Sauer's theorem** and ** Vapnik and Chervonenkis' theorem** with some practicalities.\n",
    "\n",
    "**Theorem (Sauer's) :** Suppose that F has finite VC dimension $d$. Then,\n",
    "\n",
    "$$s(F,N)\\leq \\sum_{i=0}^d\\big(\\begin{align}N\\\\i\\end{align}\\big)$$\n",
    "\n",
    "and for all $n\\geq d$,\n",
    "\n",
    "$$ s(F,N)\\leq \\big(\\frac{N}{d}\\big)^d  e^d$$\n",
    "\n",
    "\n",
    "**Theorem (Vapnik and Chervonenkis') :** Let F be a class of binary functions. For any, $\\epsilon>\\sqrt{2/N}$,\n",
    "\n",
    "$$\\mathbb{P}(\\sup_{f\\in F} |\\mathbb{E}[f]- \\hat{\\mathbb{E}}_S[f]| > \\epsilon) \\leq 4 s(F,2N) e^{-N\\epsilon^2/8}$$\n",
    "\n",
    "\n",
    "With these two results we can derive \n",
    "\n",
    "$$\\mathbb{P}(\\sup_{f\\in F} |\\mathbb{E}[f]- \\hat{\\mathbb{E}}_S[f]| > \\epsilon) \\leq 4 \\big(\\frac{N}{d}\\big)^d  e^d e^{-N\\epsilon^2/8} = \\delta$$\n",
    "\n",
    "\n",
    "For a given $\\epsilon$ we can approximate this expression with respect to the leading terms as\n",
    "\n",
    "$$\\delta \\propto N^d e^{-N} $$\n",
    "\n"
   ]
  },
  {
   "cell_type": "markdown",
   "metadata": {},
   "source": [
    "Let us display what is going on with this approximation."
   ]
  },
  {
   "cell_type": "code",
   "execution_count": 2,
   "metadata": {
    "collapsed": false
   },
   "outputs": [
    {
     "data": {
      "text/plain": [
       "<matplotlib.legend.Legend at 0x103de8750>"
      ]
     },
     "execution_count": 2,
     "metadata": {},
     "output_type": "execute_result"
    },
    {
     "data": {
      "image/png": "[encoded data removed]",
      "text/plain": [
       "<matplotlib.figure.Figure at 0x103dc4c50>"
      ]
     },
     "metadata": {},
     "output_type": "display_data"
    }
   ],
   "source": [
    "%matplotlib inline\n",
    "import numpy as np\n",
    "import matplotlib.pyplot as plt\n",
    "\n",
    "N=np.linspace(1,40.,100)\n",
    "D=[4,5,6,7,8,9]\n",
    "#\n",
    "for d in D:\n",
    "    plt.plot(N,N**d *np.exp(-N),label = str(d))\n",
    "    \n",
    "    \n",
    "plt.plot(N,np.ones((len(N),1)),'r')\n",
    "plt.gca().set_ylim([0,25])\n",
    "plt.grid()\n",
    "plt.legend()\n",
    "\n"
   ]
  },
  {
   "cell_type": "markdown",
   "metadata": {},
   "source": [
    "Remember that this quantitiy is a probability and this is just an approximation. This only is useful when $\\delta$ is below 1. Additionally, if we add all constant terms we will have a different quantity of samples, but the behavior will be the same.\n",
    "\n",
    "Let us plot this in log scale."
   ]
  },
  {
   "cell_type": "code",
   "execution_count": 3,
   "metadata": {
    "collapsed": false
   },
   "outputs": [
    {
     "data": {
      "text/plain": [
       "<matplotlib.legend.Legend at 0x10cdd3a50>"
      ]
     },
     "execution_count": 3,
     "metadata": {},
     "output_type": "execute_result"
    },
    {
     "data": {
      "image/png": "[encoded data removed]",
      "text/plain": [
       "<matplotlib.figure.Figure at 0x10cdd3ed0>"
      ]
     },
     "metadata": {},
     "output_type": "display_data"
    }
   ],
   "source": [
    "%matplotlib inline\n",
    "import numpy as np\n",
    "import matplotlib.pyplot as plt\n",
    "\n",
    "N=np.linspace(1,200,100)\n",
    "D=[5,10,15,20,25,30]\n",
    "\n",
    "for d in D:\n",
    "    plt.plot(N,N**d *np.exp(-N),label = str(d))\n",
    "    \n",
    "\n",
    "plt.plot(N,np.ones((len(N),1)),'r')\n",
    "ax = plt.gca()\n",
    "ax.set_yscale('log', basey=10)\n",
    "plt.gca().set_ylim([1e-4,1e10])\n",
    "plt.grid()\n",
    "plt.legend()\n"
   ]
  },
  {
   "cell_type": "code",
   "execution_count": 1,
   "metadata": {
    "collapsed": true
   },
   "outputs": [],
   "source": [
    "# y axis is the probability of something bad happen. we would like them to be as small as possible. "
   ]
  },
  {
   "cell_type": "code",
   "execution_count": null,
   "metadata": {
    "collapsed": true
   },
   "outputs": [],
   "source": []
  }
 ],
 "metadata": {
  "anaconda-cloud": {},
  "kernelspec": {
   "display_name": "Python [Root]",
   "language": "python",
   "name": "Python [Root]"
  },
  "language_info": {
   "codemirror_mode": {
    "name": "ipython",
    "version": 2
   },
   "file_extension": ".py",
   "mimetype": "text/x-python",
   "name": "python",
   "nbconvert_exporter": "python",
   "pygments_lexer": "ipython2",
   "version": "2.7.12"
  }
 },
 "nbformat": 4,
 "nbformat_minor": 0
}
