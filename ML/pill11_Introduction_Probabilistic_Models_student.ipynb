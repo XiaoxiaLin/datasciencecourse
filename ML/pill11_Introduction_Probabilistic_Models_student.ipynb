{
 "cells": [
  {
   "cell_type": "markdown",
   "metadata": {},
   "source": [
    "<small><i>(c) October 2016 - This notebook was created by [Oriol Pujol Vila](http://www.maia.ub.es/~oriol).</i></small>"
   ]
  },
  {
   "cell_type": "markdown",
   "metadata": {},
   "source": [
    "# Probabilistic models"
   ]
  },
  {
   "cell_type": "markdown",
   "metadata": {},
   "source": [
    "# Parametric versus non parametric\n",
    "\n",
    "\n",
    "Does the model have a finite set of parameteres of do the grow with the amount of data? The former is called **parametric models** and the latter is called a **non-parametric model**. Parametric models are faster to use but make stronger assumptions about the nature of the data distributions. Non-parametric models are more flexible but may be computationally intractable when the amount of data is large."
   ]
  },
  {
   "cell_type": "markdown",
   "metadata": {},
   "source": [
    "# A simple non-parametric model\n",
    "\n",
    "A simple example of a non-parametric classifier is the K nearest neighbor. This simple looks for the most similar K points in the training set and counts the amount of elements for each class and returns the empirical fraction as teh estimate,\n",
    "\n",
    "$$\\mathbb{P}(y=c|x,D,K) = \\frac{1}{K}\\sum_{i\\in N_K(x,D)} \\mathbb{1}(y_i=c)$$\n",
    "\n",
    "where $N_K(x,D)$ are the inidces of the $K$ nearest points to $x$ in $D$ and $\\mathbb{1}(c)$ is the indicator funtion. This is an example of **memory-based** or **instance-based learning**."
   ]
  },
  {
   "cell_type": "markdown",
   "metadata": {},
   "source": [
    "# Probabilistic models\n",
    "\n",
    "Probabilistic models are based on the modeling de distribution of data $p(x)$. In this sense they are a natural choice for unsupervised data analysis. As we will see later Tthe key concept in probabilistic models is going to be the factorization of the joint probability density function by assuming or explicitly showing independences.\n",
    "\n",
    "In the supervised setting we are looking for modeling the conditional distribution, $p(y|x)$. This is the probability of the labels having observed a certain sample. In this setting the joint probability of labels and data $p(x,y)$ is not necessary and we will be using Bayes Rule, that states the following,\n",
    "\n",
    "$$p(Y=y|X=x) = \\frac{p(X=x|Y=y)p(Y=y)}{p(X=x)} = \\frac{p(X=x|Y=y)p(Y)}{\\int p(X=x|Y=y)p(Y=y) dy}$$\n",
    "\n",
    "A classifier that takes into account the former rule is called **generative classifier** since it specifies how to generate data using **class conditional density or likelihood** $p(x|y)$ and the **class prior**, $p(y)$.\n",
    "\n",
    "An alternative probabilistic approach to generative classifiers are **discriminative classifiers** that directly fit the **class posterior** $p(y = c|x)$.\n",
    "\n"
   ]
  },
  {
   "cell_type": "markdown",
   "metadata": {},
   "source": [
    "# Generative models for discrete data"
   ]
  },
  {
   "cell_type": "markdown",
   "metadata": {},
   "source": [
    "Let us start our discusion on probabilistic models \n",
    "\n",
    "Recall that by applying Bayes rule we have that the probability of a sample to belong to one class is \n",
    "\n",
    "$$p(y=c|x,\\theta) \\propto p(x|y = c,\\theta)p(y = c|\\theta)$$\n",
    "\n",
    "The key to using these models is specifying a suitable form for the class-conditional density $p(x|y = c,\\theta)$ which defines what kind of data we expect to see in each class according to some parameters $\\theta$ governing the model. \n",
    "\n",
    "In this context the **likelihood** accounts for the probability of generating that particular data assuming it belongs to a certain model or class. The **prior** is a subjective belief of probable is this model.\n",
    "\n",
    "\n"
   ]
  },
  {
   "cell_type": "markdown",
   "metadata": {},
   "source": [
    "<div class = \"alert alert-success\" style = \"border-radius:10px\"> **EXERCISE: **\n",
    "\n",
    "Following Murphy's example, suppose that we are hypothesizing about a number generating function. Up to this point we don't have much information. We can, however, hypothesize about the process generating the values. We could think about many different hypothesis, such as `number generator`, `even number generator`, `odd number generator` , `numbers ended with 9`, `even numbers except 32`, `powers of 2`. With this information however we can check the different concepts involved.\n",
    "\n",
    "For example:\n",
    "<ol>\n",
    "<li>What is the likelihood for all these hypotheses?</li>\n",
    "<li>What is the prior for these hypotheses?</li>\n",
    "<li>How is our prior belief after seeing example $\\{16\\}$?</li>\n",
    "<li>and after seeing examples $\\{16, 64, 8\\}$?</li>\n",
    "</ol>\n",
    "\n",
    "</div>\n"
   ]
  },
  {
   "cell_type": "markdown",
   "metadata": {},
   "source": [
    "After applying the Bayesian rule we obtain a probability density function on the hypotheses space. If we have to report one we could proceed in different ways. We can report the **Maximum A Posteriori (MAP)**, which corresponds to the mode of the posterior and can be written as, \n",
    "\n",
    "$$\\hat{h}^{MAP} = \\arg\\max_h p(D|h)p(h) = \\arg\\max_h [\\log(p(D|h)) + \\log(p(h))]$$\n",
    "\n",
    "Usually the likelihood term depends on the number of samples. Then, as we get more data the MAP converges towards the **Maximum Likelihood Estimate (MLE)**\n",
    "\n",
    "$$\\hat{h}^{MLE} = \\arg\\max_h p(D|h) = \\arg\\max_h \\log(p(D|h))$$\n",
    "\n"
   ]
  },
  {
   "cell_type": "markdown",
   "metadata": {},
   "source": [
    "# The Beta-Binomial model\n",
    "\n",
    "Suppose a random variable $X_i\\sim \\text{Ber}(\\theta)$, where $X_i = 1$ represents \"heads\", $X_i = 0$ represents \"tails\", and $\\theta\\in [0,1]$ is the rate parameter (probability of heads). If data are iid, the likelihood has the form\n",
    "\n",
    "$$p(D|\\theta) = \\theta^{N_1}(1-\\theta)^{N_2}$$\n",
    "\n",
    "where $N_1$, and $N_2$ are the heads and tails counts. What we are working out in this exercise works also for Binomial distributions, i.e. the probability of observing $N_1$ heads in $N$ tosses\n",
    "\n",
    "$$\\text{Bin}(k|N,D) = \\big(\\begin{align}N\\\\k \\end{align}\\big) \\theta^k(1-\\theta)^{N-k}$$.\n",
    "\n",
    "\n",
    "We need a prior that has support over the interval $[0,1]$. We could use the same form as the likelihood. The prior could look like,\n",
    "\n",
    "$$p(\\theta) \\propto \\theta^{\\gamma_1}(1-\\theta)^{\\gamma_2}$$\n",
    "\n",
    "When the prior and the posterior have the same form, such as in this case, we say the prior is a **conjugate prior** for the corresponding likelihood. In the case of Bernoulli or Binomial, the conjugate prior is the beta distribution, that has the following form\n",
    "\n",
    "$$\\text{Beta}(\\theta|a,b) \\propto \\theta^{a-1}(1-\\theta)^{b-1}$$\n",
    "\n",
    "The parameters of the prior are called **hyperparameters** and we can set them to encode prior belief. \n"
   ]
  },
  {
   "cell_type": "code",
   "execution_count": 1,
   "metadata": {
    "collapsed": false
   },
   "outputs": [
    {
     "data": {
      "text/plain": [
       "(0, 1)"
      ]
     },
     "execution_count": 1,
     "metadata": {},
     "output_type": "execute_result"
    },
    {
     "data": {
      "image/png": "[encoded data removed]",
      "text/plain": [
       "<matplotlib.figure.Figure at 0x103dd3a10>"
      ]
     },
     "metadata": {},
     "output_type": "display_data"
    }
   ],
   "source": [
    "%matplotlib inline\n",
    "import numpy as np\n",
    "import matplotlib.pyplot as plt\n",
    "\n",
    "theta = np.linspace(0,1,30)\n",
    "\n",
    "a=2\n",
    "b=2\n",
    "\n",
    "beta = theta**(a-1)*(1-theta)**(b-1)\n",
    "prior= beta/np.sum(beta)\n",
    "\n",
    "plt.plot(theta,prior)\n",
    "plt.gca().set_ylim([0,1])"
   ]
  },
  {
   "cell_type": "markdown",
   "metadata": {},
   "source": [
    "If we multipy the likelihood by the beta prior we get the following posterior. Suppose that we observe one heads. Then the likehood is "
   ]
  },
  {
   "cell_type": "code",
   "execution_count": 2,
   "metadata": {
    "collapsed": false
   },
   "outputs": [
    {
     "data": {
      "text/plain": [
       "[<matplotlib.lines.Line2D at 0x10ce8d190>]"
      ]
     },
     "execution_count": 2,
     "metadata": {},
     "output_type": "execute_result"
    },
    {
     "data": {
      "image/png": "[encoded data removed]",
      "text/plain": [
       "<matplotlib.figure.Figure at 0x103dc4ed0>"
      ]
     },
     "metadata": {},
     "output_type": "display_data"
    }
   ],
   "source": [
    "likelihood = theta\n",
    "\n",
    "plt.plot(theta,likelihood)"
   ]
  },
  {
   "cell_type": "markdown",
   "metadata": {},
   "source": [
    "Observe that the likelihood does not necessarily is a probability density function and does not need to sum up to one."
   ]
  },
  {
   "cell_type": "code",
   "execution_count": 17,
   "metadata": {
    "collapsed": false
   },
   "outputs": [
    {
     "data": {
      "text/plain": [
       "[<matplotlib.lines.Line2D at 0x10ef13050>]"
      ]
     },
     "execution_count": 17,
     "metadata": {},
     "output_type": "execute_result"
    },
    {
     "data": {
      "image/png": "[encoded data removed]",
      "text/plain": [
       "<matplotlib.figure.Figure at 0x10e7de050>"
      ]
     },
     "metadata": {},
     "output_type": "display_data"
    }
   ],
   "source": [
    "posterior = likelihood*prior\n",
    "\n",
    "posterior = posterior/np.sum(posterior)\n",
    "plt.plot(theta,posterior)"
   ]
  },
  {
   "cell_type": "markdown",
   "metadata": {},
   "source": [
    "Interestingly enough we can now consider this last result as a new prior and repeat the process with a new observation. Consider a new head."
   ]
  },
  {
   "cell_type": "code",
   "execution_count": 22,
   "metadata": {
    "collapsed": false
   },
   "outputs": [
    {
     "data": {
      "text/plain": [
       "[<matplotlib.lines.Line2D at 0x10f3b9710>]"
      ]
     },
     "execution_count": 22,
     "metadata": {},
     "output_type": "execute_result"
    },
    {
     "data": {
      "image/png": "[encoded data removed]",
      "text/plain": [
       "<matplotlib.figure.Figure at 0x10f618190>"
      ]
     },
     "metadata": {},
     "output_type": "display_data"
    }
   ],
   "source": [
    "prior = posterior\n",
    "# a new head\n",
    "likelihood = theta\n",
    "\n",
    "# a new tail would be:\n",
    "#likelihood = (1-theta)  \n",
    "\n",
    "posterior = likelihood * prior\n",
    "posterior = posterior/np.sum(posterior)\n",
    "\n",
    "\n",
    "accum_likelihood = theta*theta\n",
    "accum_likelihood_normalized = accum_likelihood/np.sum(accum_likelihood)\n",
    "\n",
    "plt.plot(theta,posterior, label =\"posterior\")\n",
    "plt.plot(theta,accum_likelihood_normalized, label=\"Accum likelihood\")\n",
    "\n",
    "\n"
   ]
  },
  {
   "cell_type": "markdown",
   "metadata": {},
   "source": [
    "This resembles the effect of *online methods*. Observe that the MAP value is different than the mean posterior and the MLE. They correspond to \n",
    "\n",
    "$$\\hat{\\theta}_{MAP} = \\frac{a+N_1-1}{a+b+N-2} $$\n",
    "\n",
    "with a uniform prior, MAP is reduced to MLE,\n",
    "\n",
    "$$\\hat{\\theta}_{MLE} = \\frac{N_1}{N} $$\n",
    "\n",
    "By contrast the posterior mean is \n",
    "\n",
    "$$\\bar{\\theta} = \\frac{a+N_1}{a+b+N}$$"
   ]
  },
  {
   "cell_type": "markdown",
   "metadata": {},
   "source": [
    "# The Diritchlet-multinomial model\n",
    "\n",
    "In the case we have a multinomial random variable, for example, topics in a document text we have a probability simplex. The probability density function will operate over that simplex. \n",
    "\n",
    "## Likelihood\n",
    "\n",
    "Suppose we observe $N$ dice rolls, $D = \\{x_1,\\dots,x_N\\}$ if we assume the data is iid, the likelihood has the form\n",
    "\n",
    "$$p(D|\\theta) = \\prod_{k=1}^K \\theta_k^{N_k}$$\n",
    "\n",
    "where $N_k = \\sum_{i=1}^N \\mathbb{1}(y_i=k)$ is the number of times event $k$ occurred\n",
    "\n",
    "## Prior\n",
    "\n",
    "Since the parameter vector lives in the K-dimensional probability simplex, we need a prior that has support over this simplex. The Dirichlet distribution ahs the followin gprior\n",
    "\n",
    "$$\\text{Dir}(\\theta|\\alpha) = \\frac{1}{B(\\alpha)}\\prod_{k=1}^K \\theta_k^{\\alpha_k-1}\\mathbb{1}(x\\in S_k)$$\n",
    "\n",
    "\n",
    "\n",
    "## Posterior"
   ]
  },
  {
   "cell_type": "code",
   "execution_count": 23,
   "metadata": {
    "collapsed": false
   },
   "outputs": [
    {
     "data": {
      "image/png": "[encoded data removed]",
      "text/plain": [
       "<matplotlib.figure.Figure at 0x10e432850>"
      ]
     },
     "metadata": {},
     "output_type": "display_data"
    }
   ],
   "source": [
    "%matplotlib inline\n",
    "import numpy as np\n",
    "import matplotlib.pyplot as plt\n",
    "import matplotlib.tri as tri\n",
    "\n",
    "corners = np.array([[0, 0], [1, 0], [0.5, 0.75**0.5]])\n",
    "triangle = tri.Triangulation(corners[:, 0], corners[:, 1])\n",
    "\n",
    "refiner = tri.UniformTriRefiner(triangle)\n",
    "trimesh = refiner.refine_triangulation(subdiv=4)\n",
    "\n",
    "    \n",
    "# Mid-points of triangle sides opposite of each corner\n",
    "midpoints = [(corners[(i + 1) % 3] + corners[(i + 2) % 3]) / 2.0 for i in range(3)]\n",
    "def xy2bc(xy, tol=1.e-3):\n",
    "    '''Converts 2D Cartesian coordinates to barycentric.'''\n",
    "    s = [(corners[i] - midpoints[i]).dot(xy - midpoints[i]) / 0.75 for i in range(3)]\n",
    "    return np.clip(s, tol, 1.0 - tol)\n",
    "\n",
    "class Dirichlet(object):\n",
    "    def __init__(self, alpha):\n",
    "        from math import gamma\n",
    "        from operator import mul\n",
    "        self._alpha = np.array(alpha)\n",
    "        self._coef = gamma(np.sum(self._alpha)) / reduce(mul, [gamma(a) for a in self._alpha])\n",
    "    def pdf(self, x):\n",
    "        '''Returns pdf value for `x`.'''\n",
    "        from operator import mul\n",
    "        return self._coef * reduce(mul, [xx ** (aa - 1) for (xx, aa)in zip(x, self._alpha)])\n",
    "\n",
    "\n",
    "def draw_pdf_contours(dist, nlevels=200, subdiv=8, **kwargs):\n",
    "    import math\n",
    "\n",
    "    refiner = tri.UniformTriRefiner(triangle)\n",
    "    trimesh = refiner.refine_triangulation(subdiv=subdiv)\n",
    "    pvals = [dist.pdf(xy2bc(xy)) for xy in zip(trimesh.x, trimesh.y)]\n",
    "\n",
    "    plt.tricontourf(trimesh, pvals, nlevels, **kwargs)\n",
    "    plt.axis('equal')\n",
    "    plt.xlim(0, 1)\n",
    "    plt.ylim(0, 0.75**0.5)\n",
    "    plt.axis('off')\n",
    "    \n",
    "    \n",
    "draw_pdf_contours(Dirichlet([3,2,5]))"
   ]
  },
  {
   "cell_type": "markdown",
   "metadata": {},
   "source": [
    "# Naive Bayes"
   ]
  },
  {
   "cell_type": "markdown",
   "metadata": {},
   "source": [
    "## 2.1 Basic document representation\n",
    "\n",
    "In text classification, we are given a description $x \\in {\\bf R}^d$ of a document $\\delta$ and a fixed set of classes $y \\in \\{c_1, \\dots, c_K\\}$, for example the document topic. Given a new document, our goal is to predict the most probable class.\n",
    "\n",
    "A very simple description of a document is the **bag-of-words** description. This representation transforms a complete text to a vector of $d$ predefined words. The set of predefined words is selected by the practicioner. For example, the list can consist of the set of all words in a given language. \n",
    "\n",
    "<b>Example 1:</b>\n",
    "Suppose we are given four different documents belonging to the topics $y=\\{\\text{'economics'},\\text{'technology'}\\}$ and we select as our representation the following bag-of-words $x = \\{\\text{'market'}, \\text{'stock'}, \\text{'price'}, \\text{'application'}, \\text{'mobile'}, \\text{'google'}\\}$. We can count the number of times a certain term appears in that document and expect that this description is discriminative enough for identifying the document topic. Check the following example:\n",
    "\n",
    "<table border=\"1\">\n",
    "<tr>\n",
    "<td></td>\n",
    "<td>market</td>\n",
    "<td>stock</td>\n",
    "<td>price</td>\n",
    "<td>application</td>\n",
    "<td>mobile</td>\n",
    "<td>google</td>\n",
    "</tr>\n",
    "<tr>\n",
    "<td>document 1($\\text{'economics'}$)</td>\n",
    "<td>1</td>\n",
    "<td>2</td>\n",
    "<td>3</td>\n",
    "<td>0</td>\n",
    "<td>0</td>\n",
    "<td>0</td>\n",
    "</tr>\n",
    "<tr>\n",
    "<td>document 2($\\text{'economics'}$)</td>\n",
    "<td>0</td>\n",
    "<td>1</td>\n",
    "<td>2</td>\n",
    "<td>0</td>\n",
    "<td>0</td>\n",
    "<td>1</td>\n",
    "</tr>\n",
    "<tr>\n",
    "<td>document 3($\\text{'technology'}$)</td>\n",
    "<td>0</td>\n",
    "<td>0</td>\n",
    "<td>0</td>\n",
    "<td>2</td>\n",
    "<td>3</td>\n",
    "<td>1</td>\n",
    "</tr>\n",
    "<tr>\n",
    "<td>document 4($\\text{'technology'}$)</td>\n",
    "<td>1</td>\n",
    "<td>0</td>\n",
    "<td>1</td>\n",
    "<td>2</td>\n",
    "<td>3</td>\n",
    "<td>0</td>\n",
    "</tr>\n",
    "</table>\n",
    "\n",
    "In this representation, document 2 is represented by the vector (0,1,2,0,0,1). We can alternatively use a binary value representing whether a term appears or not in the document. In this last case document would be represesnted by (0,1,1,0,0,1).\n",
    "\n",
    "Observe that this is a context free representation, i.e. the order of the words is not considered. Consider the sentences \"Google reduces the prices of applications in App market\" and \"The number of aplications in Google App market with cheap prices is reduced by 20%\". The representation for both sentences is the same, though the exact meaning of both sentences is completely different. However, this kind of representation may be enough for identifying that both refers to $\\text{'technology'}$."
   ]
  },
  {
   "cell_type": "code",
   "execution_count": 24,
   "metadata": {
    "collapsed": false
   },
   "outputs": [
    {
     "data": {
      "text/plain": [
       "' \\n Xiaoxia: \\n     - multibinomial: p(doc3|y=\"tech\") = p(app|\"tech\")x p(app|\"tech\")xp(movile|\"tech\")...\\n     - binomial: p(doc3|y=\"tech\") = p(app=1|\"tech\") x p(mobile=1|\"tech\") x p(google=1|\"tech\") \\n'"
      ]
     },
     "execution_count": 24,
     "metadata": {},
     "output_type": "execute_result"
    }
   ],
   "source": [
    "\"\"\" \n",
    " Xiaoxia: \n",
    "     - multibinomial: p(doc3|y=\"tech\") = p(app|\"tech\")x p(app|\"tech\")xp(movile|\"tech\")...\n",
    "     - binomial: p(doc3|y=\"tech\") = p(app=1|\"tech\") x p(mobile=1|\"tech\") x p(google=1|\"tech\") \n",
    "\"\"\"\n"
   ]
  },
  {
   "cell_type": "markdown",
   "metadata": {},
   "source": [
    "## 2.2 The Naive Bayes classifier\n",
    "\n",
    "Naive Bayes is an instance of a Bayessian classifier. In this framework, the problem of classification consists of selecting the class with Maximum A Posteriori (MAP) probability, i.e. $$\\hat{y} = \\arg\\max_y p(y|x).$$\n",
    "\n",
    "Eg. If p(y = \"Tech\"|x= doc1) > p(y = \"economy\"|x= doc1), we would say that the doc1 topic probably is Tech\n",
    "\n",
    "In order to find this quantity we use the Bayes equation,\n",
    "\n",
    "$$ p(x,y) = p(x|y)p(y) = p(y|x)p(x),$$\n",
    "\n",
    "and\n",
    "\n",
    "$$ p(y|x) = \\frac{p(x|y)p(y)}{p(x)}.$$\n",
    "\n",
    "In order to compute the MAP the quantities $p(x|y)$, $p(y)$, $p(x)$ have to be estimated from observed data.\n",
    "\n",
    "In the problem of document classification, our goal is to select the class with MAP probability. For example, we will select the cathegory $\\text{'economics'}$ for a text with description (1,1,1,0,0,0) only if $P(y = \\text{'economics'}|x = (1,1,1,0,0,0)) > P(y = \\text{'technology'}|x = (1,1,1,0,0,0))$. \n",
    "\n",
    "Note that $p(x)$ is a constant value and it does not affect the decision, thus we just need to compute\n",
    "\n",
    "$$P(y|x) \\propto P(y)P(x|y)$$\n",
    "\n",
    "Estimating the likelihood term, $P(x|y)$, accounts for computing the probability of certain description vector in a given class, e.g. the probability of a text in $\\text{'economics'}$ having a description $x = (1,1,1,0,0,0)$ (the value of the probability that a description x = (1,1,1,0,0,0) has inside the category $\\text{'economics'}$), $p(x = (1,1,1,0,0,0)|y = \\text{'economics'})$\n",
    "\n",
    "Up to this point, the description of the classifier is general for any Bayessian classifier. *Naive Bayes additionally assumes that $x$ is composed of a set of $d$ independent variables.* This allows to rewrite the likelihood term as\n",
    "$$p(x_1,x_2,...,x_N | y) = p(x_1|y)p(x_2|y)...p(x_N|y) = \\prod\\limits_{i=1}^N p(x_i|y)$$\n",
    "\n",
    "For example, in our case \n",
    "$$P(x = (1,1,1,0,0,0)|y = \\text{'tech'}) = P(x_1=1|y = \\text{'tech'})P(x_2=1|y = \\text{'tech'})P(x_3=1|y = \\text{'tech'})P(x_4=0|y = \\text{'tech'})P(x_5=0|y = \\text{'tech'})P(x_6=0|y = \\text{'tech'})$$\n",
    "\n",
    "This is understood as the fact that the probability of a document described as x = (1,1,1,0,0,0) is described by the product of the probilities that the first to the third word are present, and the fourth to the sixth word are not.\n",
    "\n",
    "In the end, the Naive Bayes classifier has the following form,\n",
    "$$p(y|x) \\propto p(y)\\prod\\limits_{i=1}^N p(x_i|y)$$\n",
    "\n",
    "\n",
    "In many cases the prior $p(y)$ is unknown or simply we prefer to use a non-informative prior (all documents have the same probability of appearance in our context ($p(y)$)). In that case the formulation is simplified to the Maximum Likelihood Estimate."
   ]
  },
  {
   "cell_type": "markdown",
   "metadata": {},
   "source": [
    "## 2.3 Estimating conditioned probabilities \n",
    "\n",
    "The last remaining step is the estimation of the individual conditional probabilities. There are two classical variants the **Multinomial Naive Bayes** and the **Bernoulli Naive Bayes**. The difference between both lies in the goal of what they are modeling. **In Multinomial NB we compute the probability of generating the observed document.** In this sense, we multiply the conditional probability of each word in the document for all words present in the document. An alternative view is the *Bernoulli model*. **In the Bernoulli Naive Bayes we compute the probability of the binary bag-of-words descriptor.** Observe that in the Bernouilli Naive Bayes the final probability depends on the words that appear in the document but also on the words that do not appear while in the multinomial NB it only depends on the words that appear. On the contrary, multinomial naive bayes takes into account the multiplicity of the words in the document while Bernoulli does not. Let us consider in this example the *Bernoulli model* that is consistent with our representation where a zero indicates a word is not present in the document and a one represents it is present. In order to estimate this probability we can use a frequentist approximation to probability, i.e. we will estimate the probability as the frequency of appearance of each term in each category. This computation divides the number documents where the word appears over the total number of documents. \n",
    "\n",
    "In our previous example, $p(x_3=1 (\\text{the word 'price' appears})|y =\\text{'tech'}) = 1/2$ and $p(x_3=1 (\\text{the word 'price' appears})|y =\\text{'eco'}) = 2/2$. This is computed by dividing the number of documents where the word price appear in a given category over the number of documents of that category.\n",
    "\n",
    "### 2.3.1 The zero probability effect\n",
    "In the former example the probability $p(x_5=1|y=\\text{'eco'}) = 0$. This implies that if the word 'mobile' appears the document can not belong to the class $\\text{'economy'}$. It is unreasonable to completely penalize a whole class by the appearance or not appearance of a single word. It is customary to assign to those cases a very low probability value instead. One well known approach to correct this effect is the so called **Laplace correction**. It is computed as follows,\n",
    "\n",
    "$$p(x_i=1 | y=c_k ) = \\frac{\\text{# of documents of class } c_k \\text{ where word } x_i \\text{ appears} + 1}{\\text{# of documents of class } c_k + M}$$\n",
    "\n",
    "where $M$ is the amount of words in the description. \n",
    "\n",
    "### 2.3.2 Underflow effect\n",
    "\n",
    "As the number of words in the description increase there is a higher probability that many of those words will not be present in the document. The product of many very small values may lead to floating point underflow effects. For this reason it is usual to use the log probability instead. This transformation does not change the decision boundary. In our simplified case\n",
    "\n",
    "$$\\log p(x|y) = \\sum\\limits_{i=1}^N \\log p(x_i|y)$$"
   ]
  },
  {
   "cell_type": "markdown",
   "metadata": {},
   "source": [
    "Let us code an even more simpler version of Naive Bayes, a Bernoulli generative version. This is just to even simplify more our code, so don't expect to work well."
   ]
  },
  {
   "cell_type": "code",
   "execution_count": 25,
   "metadata": {
    "collapsed": true
   },
   "outputs": [],
   "source": [
    "import numpy as np\n",
    "\n",
    "class SimpleNaiveBayes():\n",
    "    def __init__(self):\n",
    "        self.prob_vec={}\n",
    "        self.classes =[]\n",
    "        \n",
    "    def fit(self,X,y):\n",
    "        # extract the probabilities for each element for different classes\n",
    "        self.classes = np.unique(y)\n",
    "        for c in self.classes:\n",
    "            idx=np.where(y==c)[0]\n",
    "            N = len(idx)\n",
    "            self.prob_vec[c] = np.log(np.sum(X[idx,:],axis=0)/N+1e-10)  # apply\n",
    "        \n",
    "    def predict_proba(self,X):\n",
    "        #Output matrix N_documents X N_classes\n",
    "        probs = np.zeros((X.shape[0],len(self.classes)))\n",
    "        i=0\n",
    "        for k in self.classes:\n",
    "\n",
    "            probs[:,i]=np.dot(X,self.prob_vec[k].T).ravel()\n",
    "            i+=1\n",
    "        return probs\n",
    "    \n",
    "    def predict(self,X):\n",
    "        return self.classes[np.argmax(self.predict_proba(X),axis =1)]"
   ]
  },
  {
   "cell_type": "markdown",
   "metadata": {},
   "source": [
    "Let us try "
   ]
  },
  {
   "cell_type": "code",
   "execution_count": 26,
   "metadata": {
    "collapsed": false
   },
   "outputs": [],
   "source": [
    "X=np.array([[1,1,1,0,0,0],[0,1,1,0,0,1],[0,0,0,1,1,1],[1,0,1,1,1,0]],dtype=np.float)"
   ]
  },
  {
   "cell_type": "code",
   "execution_count": 27,
   "metadata": {
    "collapsed": false
   },
   "outputs": [],
   "source": [
    "y = [0,0,1,1]"
   ]
  },
  {
   "cell_type": "code",
   "execution_count": 28,
   "metadata": {
    "collapsed": true
   },
   "outputs": [],
   "source": [
    "clf = SimpleNaiveBayes()"
   ]
  },
  {
   "cell_type": "code",
   "execution_count": 29,
   "metadata": {
    "collapsed": false
   },
   "outputs": [],
   "source": [
    "clf.fit(X,y)"
   ]
  },
  {
   "cell_type": "code",
   "execution_count": 30,
   "metadata": {
    "collapsed": false
   },
   "outputs": [
    {
     "data": {
      "text/plain": [
       "array([0, 1])"
      ]
     },
     "execution_count": 30,
     "metadata": {},
     "output_type": "execute_result"
    }
   ],
   "source": [
    "clf.classes"
   ]
  },
  {
   "cell_type": "code",
   "execution_count": 31,
   "metadata": {
    "collapsed": false
   },
   "outputs": [
    {
     "data": {
      "text/plain": [
       "{0: array([ -6.93147180e-01,   1.00000008e-10,   1.00000008e-10,\n",
       "         -2.30258509e+01,  -2.30258509e+01,  -6.93147180e-01]),\n",
       " 1: array([ -6.93147180e-01,  -2.30258509e+01,  -6.93147180e-01,\n",
       "          1.00000008e-10,   1.00000008e-10,  -6.93147180e-01])}"
      ]
     },
     "execution_count": 31,
     "metadata": {},
     "output_type": "execute_result"
    }
   ],
   "source": [
    "clf.prob_vec"
   ]
  },
  {
   "cell_type": "code",
   "execution_count": 32,
   "metadata": {
    "collapsed": false
   },
   "outputs": [
    {
     "data": {
      "text/plain": [
       "array([[ -0.69314718, -24.41214529],\n",
       "       [ -0.69314718, -24.41214529],\n",
       "       [-46.74484904,  -0.69314718],\n",
       "       [-46.74484904,  -1.38629436]])"
      ]
     },
     "execution_count": 32,
     "metadata": {},
     "output_type": "execute_result"
    }
   ],
   "source": [
    "clf.predict_proba(X)"
   ]
  },
  {
   "cell_type": "code",
   "execution_count": 33,
   "metadata": {
    "collapsed": false
   },
   "outputs": [
    {
     "data": {
      "text/plain": [
       "array([0, 0, 1, 1])"
      ]
     },
     "execution_count": 33,
     "metadata": {},
     "output_type": "execute_result"
    }
   ],
   "source": [
    "clf.predict(X)"
   ]
  },
  {
   "cell_type": "code",
   "execution_count": 34,
   "metadata": {
    "collapsed": false
   },
   "outputs": [
    {
     "ename": "IOError",
     "evalue": "File ./files/Boydstun_NYT_FrontPage_Dataset_1996-2006_0.csv does not exist",
     "output_type": "error",
     "traceback": [
      "\u001b[0;31m---------------------------------------------------------------------------\u001b[0m",
      "\u001b[0;31mIOError\u001b[0m                                   Traceback (most recent call last)",
      "\u001b[0;32m<ipython-input-34-c79b33aec340>\u001b[0m in \u001b[0;36m<module>\u001b[0;34m()\u001b[0m\n\u001b[1;32m      1\u001b[0m \u001b[0;31m#load data\u001b[0m\u001b[0;34m\u001b[0m\u001b[0;34m\u001b[0m\u001b[0m\n\u001b[1;32m      2\u001b[0m \u001b[0;32mimport\u001b[0m \u001b[0mpandas\u001b[0m \u001b[0;32mas\u001b[0m \u001b[0mpd\u001b[0m\u001b[0;34m\u001b[0m\u001b[0m\n\u001b[0;32m----> 3\u001b[0;31m \u001b[0mdata\u001b[0m\u001b[0;34m=\u001b[0m\u001b[0mpd\u001b[0m\u001b[0;34m.\u001b[0m\u001b[0mread_csv\u001b[0m\u001b[0;34m(\u001b[0m\u001b[0;34m'./files/Boydstun_NYT_FrontPage_Dataset_1996-2006_0.csv'\u001b[0m\u001b[0;34m)\u001b[0m\u001b[0;34m\u001b[0m\u001b[0m\n\u001b[0m\u001b[1;32m      4\u001b[0m \u001b[0mdata\u001b[0m\u001b[0;34m.\u001b[0m\u001b[0mhead\u001b[0m\u001b[0;34m(\u001b[0m\u001b[0;34m)\u001b[0m\u001b[0;34m\u001b[0m\u001b[0m\n\u001b[1;32m      5\u001b[0m \u001b[0;34m\u001b[0m\u001b[0m\n",
      "\u001b[0;32m//anaconda/lib/python2.7/site-packages/pandas/io/parsers.pyc\u001b[0m in \u001b[0;36mparser_f\u001b[0;34m(filepath_or_buffer, sep, delimiter, header, names, index_col, usecols, squeeze, prefix, mangle_dupe_cols, dtype, engine, converters, true_values, false_values, skipinitialspace, skiprows, skipfooter, nrows, na_values, keep_default_na, na_filter, verbose, skip_blank_lines, parse_dates, infer_datetime_format, keep_date_col, date_parser, dayfirst, iterator, chunksize, compression, thousands, decimal, lineterminator, quotechar, quoting, escapechar, comment, encoding, dialect, tupleize_cols, error_bad_lines, warn_bad_lines, skip_footer, doublequote, delim_whitespace, as_recarray, compact_ints, use_unsigned, low_memory, buffer_lines, memory_map, float_precision)\u001b[0m\n\u001b[1;32m    560\u001b[0m                     skip_blank_lines=skip_blank_lines)\n\u001b[1;32m    561\u001b[0m \u001b[0;34m\u001b[0m\u001b[0m\n\u001b[0;32m--> 562\u001b[0;31m         \u001b[0;32mreturn\u001b[0m \u001b[0m_read\u001b[0m\u001b[0;34m(\u001b[0m\u001b[0mfilepath_or_buffer\u001b[0m\u001b[0;34m,\u001b[0m \u001b[0mkwds\u001b[0m\u001b[0;34m)\u001b[0m\u001b[0;34m\u001b[0m\u001b[0m\n\u001b[0m\u001b[1;32m    563\u001b[0m \u001b[0;34m\u001b[0m\u001b[0m\n\u001b[1;32m    564\u001b[0m     \u001b[0mparser_f\u001b[0m\u001b[0;34m.\u001b[0m\u001b[0m__name__\u001b[0m \u001b[0;34m=\u001b[0m \u001b[0mname\u001b[0m\u001b[0;34m\u001b[0m\u001b[0m\n",
      "\u001b[0;32m//anaconda/lib/python2.7/site-packages/pandas/io/parsers.pyc\u001b[0m in \u001b[0;36m_read\u001b[0;34m(filepath_or_buffer, kwds)\u001b[0m\n\u001b[1;32m    313\u001b[0m \u001b[0;34m\u001b[0m\u001b[0m\n\u001b[1;32m    314\u001b[0m     \u001b[0;31m# Create the parser.\u001b[0m\u001b[0;34m\u001b[0m\u001b[0;34m\u001b[0m\u001b[0m\n\u001b[0;32m--> 315\u001b[0;31m     \u001b[0mparser\u001b[0m \u001b[0;34m=\u001b[0m \u001b[0mTextFileReader\u001b[0m\u001b[0;34m(\u001b[0m\u001b[0mfilepath_or_buffer\u001b[0m\u001b[0;34m,\u001b[0m \u001b[0;34m**\u001b[0m\u001b[0mkwds\u001b[0m\u001b[0;34m)\u001b[0m\u001b[0;34m\u001b[0m\u001b[0m\n\u001b[0m\u001b[1;32m    316\u001b[0m \u001b[0;34m\u001b[0m\u001b[0m\n\u001b[1;32m    317\u001b[0m     \u001b[0;32mif\u001b[0m \u001b[0;34m(\u001b[0m\u001b[0mnrows\u001b[0m \u001b[0;32mis\u001b[0m \u001b[0;32mnot\u001b[0m \u001b[0mNone\u001b[0m\u001b[0;34m)\u001b[0m \u001b[0;32mand\u001b[0m \u001b[0;34m(\u001b[0m\u001b[0mchunksize\u001b[0m \u001b[0;32mis\u001b[0m \u001b[0;32mnot\u001b[0m \u001b[0mNone\u001b[0m\u001b[0;34m)\u001b[0m\u001b[0;34m:\u001b[0m\u001b[0;34m\u001b[0m\u001b[0m\n",
      "\u001b[0;32m//anaconda/lib/python2.7/site-packages/pandas/io/parsers.pyc\u001b[0m in \u001b[0;36m__init__\u001b[0;34m(self, f, engine, **kwds)\u001b[0m\n\u001b[1;32m    643\u001b[0m             \u001b[0mself\u001b[0m\u001b[0;34m.\u001b[0m\u001b[0moptions\u001b[0m\u001b[0;34m[\u001b[0m\u001b[0;34m'has_index_names'\u001b[0m\u001b[0;34m]\u001b[0m \u001b[0;34m=\u001b[0m \u001b[0mkwds\u001b[0m\u001b[0;34m[\u001b[0m\u001b[0;34m'has_index_names'\u001b[0m\u001b[0;34m]\u001b[0m\u001b[0;34m\u001b[0m\u001b[0m\n\u001b[1;32m    644\u001b[0m \u001b[0;34m\u001b[0m\u001b[0m\n\u001b[0;32m--> 645\u001b[0;31m         \u001b[0mself\u001b[0m\u001b[0;34m.\u001b[0m\u001b[0m_make_engine\u001b[0m\u001b[0;34m(\u001b[0m\u001b[0mself\u001b[0m\u001b[0;34m.\u001b[0m\u001b[0mengine\u001b[0m\u001b[0;34m)\u001b[0m\u001b[0;34m\u001b[0m\u001b[0m\n\u001b[0m\u001b[1;32m    646\u001b[0m \u001b[0;34m\u001b[0m\u001b[0m\n\u001b[1;32m    647\u001b[0m     \u001b[0;32mdef\u001b[0m \u001b[0mclose\u001b[0m\u001b[0;34m(\u001b[0m\u001b[0mself\u001b[0m\u001b[0;34m)\u001b[0m\u001b[0;34m:\u001b[0m\u001b[0;34m\u001b[0m\u001b[0m\n",
      "\u001b[0;32m//anaconda/lib/python2.7/site-packages/pandas/io/parsers.pyc\u001b[0m in \u001b[0;36m_make_engine\u001b[0;34m(self, engine)\u001b[0m\n\u001b[1;32m    797\u001b[0m     \u001b[0;32mdef\u001b[0m \u001b[0m_make_engine\u001b[0m\u001b[0;34m(\u001b[0m\u001b[0mself\u001b[0m\u001b[0;34m,\u001b[0m \u001b[0mengine\u001b[0m\u001b[0;34m=\u001b[0m\u001b[0;34m'c'\u001b[0m\u001b[0;34m)\u001b[0m\u001b[0;34m:\u001b[0m\u001b[0;34m\u001b[0m\u001b[0m\n\u001b[1;32m    798\u001b[0m         \u001b[0;32mif\u001b[0m \u001b[0mengine\u001b[0m \u001b[0;34m==\u001b[0m \u001b[0;34m'c'\u001b[0m\u001b[0;34m:\u001b[0m\u001b[0;34m\u001b[0m\u001b[0m\n\u001b[0;32m--> 799\u001b[0;31m             \u001b[0mself\u001b[0m\u001b[0;34m.\u001b[0m\u001b[0m_engine\u001b[0m \u001b[0;34m=\u001b[0m \u001b[0mCParserWrapper\u001b[0m\u001b[0;34m(\u001b[0m\u001b[0mself\u001b[0m\u001b[0;34m.\u001b[0m\u001b[0mf\u001b[0m\u001b[0;34m,\u001b[0m \u001b[0;34m**\u001b[0m\u001b[0mself\u001b[0m\u001b[0;34m.\u001b[0m\u001b[0moptions\u001b[0m\u001b[0;34m)\u001b[0m\u001b[0;34m\u001b[0m\u001b[0m\n\u001b[0m\u001b[1;32m    800\u001b[0m         \u001b[0;32melse\u001b[0m\u001b[0;34m:\u001b[0m\u001b[0;34m\u001b[0m\u001b[0m\n\u001b[1;32m    801\u001b[0m             \u001b[0;32mif\u001b[0m \u001b[0mengine\u001b[0m \u001b[0;34m==\u001b[0m \u001b[0;34m'python'\u001b[0m\u001b[0;34m:\u001b[0m\u001b[0;34m\u001b[0m\u001b[0m\n",
      "\u001b[0;32m//anaconda/lib/python2.7/site-packages/pandas/io/parsers.pyc\u001b[0m in \u001b[0;36m__init__\u001b[0;34m(self, src, **kwds)\u001b[0m\n\u001b[1;32m   1211\u001b[0m         \u001b[0mkwds\u001b[0m\u001b[0;34m[\u001b[0m\u001b[0;34m'allow_leading_cols'\u001b[0m\u001b[0;34m]\u001b[0m \u001b[0;34m=\u001b[0m \u001b[0mself\u001b[0m\u001b[0;34m.\u001b[0m\u001b[0mindex_col\u001b[0m \u001b[0;32mis\u001b[0m \u001b[0;32mnot\u001b[0m \u001b[0mFalse\u001b[0m\u001b[0;34m\u001b[0m\u001b[0m\n\u001b[1;32m   1212\u001b[0m \u001b[0;34m\u001b[0m\u001b[0m\n\u001b[0;32m-> 1213\u001b[0;31m         \u001b[0mself\u001b[0m\u001b[0;34m.\u001b[0m\u001b[0m_reader\u001b[0m \u001b[0;34m=\u001b[0m \u001b[0m_parser\u001b[0m\u001b[0;34m.\u001b[0m\u001b[0mTextReader\u001b[0m\u001b[0;34m(\u001b[0m\u001b[0msrc\u001b[0m\u001b[0;34m,\u001b[0m \u001b[0;34m**\u001b[0m\u001b[0mkwds\u001b[0m\u001b[0;34m)\u001b[0m\u001b[0;34m\u001b[0m\u001b[0m\n\u001b[0m\u001b[1;32m   1214\u001b[0m \u001b[0;34m\u001b[0m\u001b[0m\n\u001b[1;32m   1215\u001b[0m         \u001b[0;31m# XXX\u001b[0m\u001b[0;34m\u001b[0m\u001b[0;34m\u001b[0m\u001b[0m\n",
      "\u001b[0;32mpandas/parser.pyx\u001b[0m in \u001b[0;36mpandas.parser.TextReader.__cinit__ (pandas/parser.c:3427)\u001b[0;34m()\u001b[0m\n",
      "\u001b[0;32mpandas/parser.pyx\u001b[0m in \u001b[0;36mpandas.parser.TextReader._setup_parser_source (pandas/parser.c:6861)\u001b[0;34m()\u001b[0m\n",
      "\u001b[0;31mIOError\u001b[0m: File ./files/Boydstun_NYT_FrontPage_Dataset_1996-2006_0.csv does not exist"
     ]
    }
   ],
   "source": [
    "#load data\n",
    "import pandas as pd\n",
    "data=pd.read_csv('./files/Boydstun_NYT_FrontPage_Dataset_1996-2006_0.csv')\n",
    "data.head()"
   ]
  },
  {
   "cell_type": "markdown",
   "metadata": {},
   "source": [
    "Let us split the data set in two set: \n",
    "    \n",
    "+ We will train the classifier with news up to 2004.\n",
    "+ We will test the classifier in news from 2005 and 2006."
   ]
  },
  {
   "cell_type": "code",
   "execution_count": null,
   "metadata": {
    "collapsed": false
   },
   "outputs": [],
   "source": [
    "import numpy as np\n",
    "#Let us train the classifier with data up to 1/1/2004 and test its performnace in data from 2004-2006\n",
    "split = pd.to_datetime(pd.Series(data['Date']))<pd.datetime(2004, 1, 1)\n",
    "raw_data = data['Title']\n",
    "raw_train = raw_data[split]\n",
    "raw_test = raw_data[np.logical_not(split)]\n",
    "y = data['Topic_2digit']\n",
    "y_train = y[split]\n",
    "y_test = y[np.logical_not(split)]\n",
    "print 'Check the split sizes, train, test and total amount of data:'\n",
    "print raw_train.shape, raw_test.shape, raw_data.shape\n",
    "print 'Display the labels:'\n",
    "print np.unique(y)\n"
   ]
  },
  {
   "cell_type": "code",
   "execution_count": 12,
   "metadata": {
    "collapsed": false
   },
   "outputs": [
    {
     "name": "stdout",
     "output_type": "stream",
     "text": [
      "Example: Nation's Smaller Jails Struggle To Cope With Surge in Inmates \n",
      "\n",
      "Preprocessed: nation's smaller jails struggle to cope with surge in inmates \n",
      "\n",
      "Tokenized:[u'Nation', u'Smaller', u'Jails', u'Struggle', u'To', u'Cope', u'With', u'Surge', u'in', u'Inmates']\n",
      "\n",
      "Analyzed data string:[u'nation', u'smaller', u'jails', u'struggle', u'cope', u'surge', u'inmates']\n",
      "\n",
      "Number of tokens: 8950\n",
      "\n",
      "Extract of tokens:\n",
      "[u'boeing', u'boiling', u'boils', u'bold', u'bolster', u'bolsters', u'bolt', u'bolts', u'bomb', u'bombay', u'bombed', u'bomber', u'bombers', u'bombing', u'bombings', u'bombs', u'bonanza', u'bond', u'bondage', u'bonds', u'bone', u'bones', u'bonn', u'bono', u'bonus', u'bonuses', u'book', u'books', u'booksellers', u'bookstore', u'boom', u'boomers', u'booming', u'booms', u'boost', u'boot', u'bora', u'border', u'borders', u'born', u'borough', u'boroughs', u'borrow', u'borrowing', u'bosnia', u'bosnian', u'bosnians', u'boss', u'bosses', u'boston', u'botched', u'bottle', u'bought', u'bounce', u'bound', u'bounty', u'bout', u'bow', u'bowing', u'bowl', u'bows', u'box', u'boxes', u'boxing', u'boy', u'boycott', u'boys', u'brace', u'braced', u'braces', u'bracket', u'bradley', u'brain', u'brains', u'branches', u'brand', u'brash', u'brave', u'bravery', u'braves', u'brawl', u'brawley', u'brazil', u'brazilian', u'breach', u'breaches', u'bread', u'break', u'breakdown', u'breaking', u'breaks', u'breakthrough', u'breakup', u'breast', u'breather', u'breed', u'brewers', u'brewing', u'bribery', u'bricks']\n"
     ]
    }
   ],
   "source": [
    "# Let us tokenize the data\n",
    "from sklearn.feature_extraction.text import CountVectorizer\n",
    "\n",
    "# We use the count number of instances considering that a word has a minimum support of two documents\n",
    "vectorizer = CountVectorizer(min_df=2, \n",
    "# stop words such as 'and', 'the', 'of' are removed                             \n",
    " stop_words='english', \n",
    " strip_accents='unicode')\n",
    "\n",
    "#example of the tokenization\n",
    "test_string = unicode(raw_train[0])\n",
    "print \"Example: \" + test_string +\"\\n\"\n",
    "print \"Preprocessed: \" + vectorizer.build_preprocessor()(test_string)+\"\\n\"\n",
    "print \"Tokenized:\" + str(vectorizer.build_tokenizer()(test_string))+\"\\n\"\n",
    "print \"Analyzed data string:\" + str(vectorizer.build_analyzer()(test_string))+\"\\n\"\n",
    "\n",
    "\n",
    "#Process and convert data\n",
    "X_train = vectorizer.fit_transform(raw_train)\n",
    "X_test = vectorizer.transform(raw_test)\n",
    "\n",
    "print \"Number of tokens: \" + str(len(vectorizer.get_feature_names())) +\"\\n\"\n",
    "print \"Extract of tokens:\"\n",
    "print vectorizer.get_feature_names()[1000:1100]\n"
   ]
  },
  {
   "cell_type": "code",
   "execution_count": 14,
   "metadata": {
    "collapsed": false
   },
   "outputs": [
    {
     "name": "stdout",
     "output_type": "stream",
     "text": [
      "classification accuracy: 0.439194630872\n",
      "Classification Report:\n",
      "             precision    recall  f1-score   support\n",
      "\n",
      "          1       0.44      0.30      0.35       169\n",
      "          2       0.24      0.31      0.27       219\n",
      "          3       0.47      0.51      0.49       406\n",
      "          4       0.07      0.10      0.08        21\n",
      "          5       0.27      0.30      0.28       162\n",
      "          6       0.30      0.36      0.32       166\n",
      "          7       0.20      0.19      0.19        58\n",
      "          8       0.14      0.21      0.17        47\n",
      "         10       0.23      0.29      0.25        96\n",
      "         12       0.45      0.32      0.37       603\n",
      "         13       0.19      0.17      0.18        47\n",
      "         14       0.10      0.25      0.14        55\n",
      "         15       0.27      0.33      0.30       272\n",
      "         16       0.54      0.51      0.52      1418\n",
      "         17       0.25      0.37      0.30        95\n",
      "         18       0.08      0.06      0.07        33\n",
      "         19       0.63      0.47      0.54      1970\n",
      "         20       0.55      0.55      0.55       946\n",
      "         21       0.16      0.22      0.18        50\n",
      "         24       0.32      0.32      0.32       148\n",
      "         26       0.22      0.61      0.33        69\n",
      "         27       0.18      0.22      0.20        23\n",
      "         28       0.18      0.30      0.22       105\n",
      "         29       0.40      0.59      0.48       155\n",
      "         30       0.38      0.51      0.43        47\n",
      "         31       0.11      0.29      0.16        42\n",
      "         99       0.04      0.07      0.05        28\n",
      "\n",
      "avg / total       0.47      0.44      0.45      7450\n",
      "\n"
     ]
    },
    {
     "data": {
      "image/png": "[encoded data removed]",
      "text/plain": [
       "<matplotlib.figure.Figure at 0x12a9986d0>"
      ]
     },
     "metadata": {},
     "output_type": "display_data"
    }
   ],
   "source": [
    "%matplotlib inline\n",
    "\n",
    "X_train = X_train.todense()\n",
    "X_train = X_train.astype(np.float)\n",
    "X_test = X_test.todense()\n",
    "X_test = X_test.astype(np.float)\n",
    "y_train = np.array(y_train.tolist())\n",
    "\n",
    "\n",
    "clf = SimpleNaiveBayes()\n",
    "clf.fit(X_train,y_train)\n",
    "y_hat = clf.predict(X_test)\n",
    "\n",
    "#from sklearn.naive_bayes import BernoulliNB\n",
    "#nb = BernoulliNB()\n",
    "#nb.fit(X_train,y_train)\n",
    "#y_hat = nb.predict(X_test)\n",
    "\n",
    "\n",
    "from sklearn import metrics\n",
    "import matplotlib.pyplot as plt\n",
    "def plot_confusion_matrix(y_pred, y):\n",
    "    plt.imshow(metrics.confusion_matrix(y, y_pred), interpolation='nearest',cmap='gray')\n",
    "    plt.colorbar()\n",
    "    plt.ylabel('true value')\n",
    "    plt.xlabel('predicted value')\n",
    "    fig = plt.gcf()\n",
    "    fig.set_size_inches(9,9)    \n",
    "    \n",
    "print \"classification accuracy:\", metrics.accuracy_score(y_hat, y_test)\n",
    "plot_confusion_matrix(y_hat, y_test)\n",
    "print \"Classification Report:\"\n",
    "print metrics.classification_report(y_hat,np.array(y_test))"
   ]
  },
  {
   "cell_type": "code",
   "execution_count": 15,
   "metadata": {
    "collapsed": false
   },
   "outputs": [
    {
     "name": "stdout",
     "output_type": "stream",
     "text": [
      "classification accuracy: 0.434899328859\n",
      "Classification Report:\n",
      "             precision    recall  f1-score   support\n",
      "\n",
      "          1       0.32      0.64      0.43        56\n",
      "          2       0.01      0.67      0.01         3\n",
      "          3       0.51      0.65      0.57       343\n",
      "          4       0.00      0.00      0.00         0\n",
      "          5       0.01      1.00      0.01         1\n",
      "          6       0.13      0.96      0.23        27\n",
      "          7       0.00      0.00      0.00         0\n",
      "          8       0.00      0.00      0.00         0\n",
      "         10       0.00      0.00      0.00         0\n",
      "         12       0.46      0.43      0.44       466\n",
      "         13       0.00      0.00      0.00         0\n",
      "         14       0.00      0.00      0.00         0\n",
      "         15       0.09      0.54      0.16        57\n",
      "         16       0.54      0.57      0.55      1259\n",
      "         17       0.03      1.00      0.06         4\n",
      "         18       0.00      0.00      0.00         0\n",
      "         19       0.81      0.34      0.48      3544\n",
      "         20       0.75      0.45      0.57      1555\n",
      "         21       0.00      0.00      0.00         0\n",
      "         24       0.00      0.00      0.00         0\n",
      "         26       0.00      0.00      0.00         0\n",
      "         27       0.00      0.00      0.00         0\n",
      "         28       0.00      0.00      0.00         1\n",
      "         29       0.35      0.60      0.44       134\n",
      "         30       0.00      0.00      0.00         0\n",
      "         31       0.00      0.00      0.00         0\n",
      "         99       0.00      0.00      0.00         0\n",
      "\n",
      "avg / total       0.70      0.43      0.51      7450\n",
      "\n"
     ]
    },
    {
     "name": "stderr",
     "output_type": "stream",
     "text": [
      "/Users/oriol/anaconda/lib/python2.7/site-packages/sklearn/metrics/classification.py:1076: UndefinedMetricWarning: Recall and F-score are ill-defined and being set to 0.0 in labels with no true samples.\n",
      "  'recall', 'true', average, warn_for)\n"
     ]
    },
    {
     "data": {
      "image/png": "[encoded data removed]",
      "text/plain": [
       "<matplotlib.figure.Figure at 0x114090a50>"
      ]
     },
     "metadata": {},
     "output_type": "display_data"
    }
   ],
   "source": [
    "%matplotlib inline\n",
    "#Fit a Bernoulli Naive Bayes\n",
    "\n",
    "from sklearn.naive_bayes import BernoulliNB\n",
    "nb = BernoulliNB()\n",
    "nb.fit(X_train,y_train)\n",
    "y_hat = nb.predict(X_test)\n",
    "\n",
    "\n",
    "from sklearn import metrics\n",
    "import matplotlib.pyplot as plt\n",
    "def plot_confusion_matrix(y_pred, y):\n",
    "    plt.imshow(metrics.confusion_matrix(y, y_pred), interpolation='nearest',cmap='gray')\n",
    "    plt.colorbar()\n",
    "    plt.ylabel('true value')\n",
    "    plt.xlabel('predicted value')\n",
    "    fig = plt.gcf()\n",
    "    fig.set_size_inches(9,9)    \n",
    "    \n",
    "print \"classification accuracy:\", metrics.accuracy_score(y_hat, y_test)\n",
    "plot_confusion_matrix(y_hat, y_test)\n",
    "print \"Classification Report:\"\n",
    "print metrics.classification_report(y_hat,np.array(y_test))"
   ]
  },
  {
   "cell_type": "markdown",
   "metadata": {},
   "source": [
    "<div class = \"alert alert-success\">**QUESTION:** Identify the three most simple classes.\n",
    "</div>"
   ]
  },
  {
   "cell_type": "code",
   "execution_count": 17,
   "metadata": {
    "collapsed": false
   },
   "outputs": [
    {
     "name": "stdout",
     "output_type": "stream",
     "text": [
      "Code: 1 Terms : [u'cut', u'bush', u'economy', u'budget', u'tax']\n",
      "Code: 2 Terms : [u'race', u'gay', u'new', u'court', u'abortion']\n",
      "Code: 3 Terms : [u'care', u'medicare', u'drug', u'health', u'new']\n",
      "Code: 4 Terms : [u'farm', u'safety', u'new', u'farmers', u'food']\n",
      "Code: 5 Terms : [u'workers', u'strike', u'union', u'immigrants', u'new']\n",
      "Code: 6 Terms : [u'students', u'city', u'new', u'school', u'schools']\n",
      "Code: 7 Terms : [u'rules', u'warming', u'air', u'new', u'pollution']\n",
      "Code: 8 Terms : [u'blackout', u'california', u'power', u'energy', u'oil']\n",
      "Code: 10 Terms : [u'new', u'security', u'800', u'flight', u'crash']\n",
      "Code: 12 Terms : [u'drug', u'case', u'death', u'new', u'police']\n",
      "Code: 13 Terms : [u'plan', u'security', u'new', u'social', u'welfare']\n",
      "Code: 14 Terms : [u'city', u'homeless', u'york', u'rent', u'new']\n",
      "Code: 15 Terms : [u'new', u'billion', u'deal', u'enron', u'microsoft']\n",
      "Code: 16 Terms : [u'bush', u'challenged', u'war', u'iraq', u'nation']\n",
      "Code: 17 Terms : [u'space', u'nasa', u'loss', u'new', u'shuttle']\n",
      "Code: 18 Terms : [u'business', u'bush', u'clinton', u'china', u'trade']\n",
      "Code: 19 Terms : [u'mideast', u'war', u'israel', u'new', u'china']\n",
      "Code: 20 Terms : [u'2000', u'clinton', u'bush', u'president', u'campaign']\n",
      "Code: 21 Terms : [u'park', u'plan', u'zero', u'ground', u'new']\n",
      "Code: 24 Terms : [u'mayor', u'giuliani', u'city', u'budget', u'new']\n",
      "Code: 26 Terms : [u'blizzard', u'new', u'overview', u'hurricane', u'storm']\n",
      "Code: 27 Terms : [u'blaze', u'ferry', u'killed', u'crash', u'fires']\n",
      "Code: 28 Terms : [u'arts', u'tv', u'broadway', u'art', u'new']\n",
      "Code: 29 Terms : [u'world', u'playoffs', u'series', u'yankees', u'baseball']\n",
      "Code: 30 Terms : [u'87', u'79', u'crash', u'dead', u'dies']\n",
      "Code: 31 Terms : [u'faith', u'bishop', u'new', u'church', u'pope']\n",
      "Code: 99 Terms : [u'editors', u'today', u'readers', u'note', u'special']\n"
     ]
    }
   ],
   "source": [
    "#What are the top N most predictive features per class?\n",
    "N = 5\n",
    "voc = vectorizer.get_feature_names()\n",
    "for i, label in enumerate(np.unique(y)):\n",
    "    topN = np.argsort(nb.coef_[i])[-N:]\n",
    "    print 'Code: '+ str(label) + ' Terms : '+ str([voc[i] for i in topN])"
   ]
  },
  {
   "cell_type": "markdown",
   "metadata": {},
   "source": [
    "Let us check what would happen if we enrich the data set with the summary of the article."
   ]
  },
  {
   "cell_type": "code",
   "execution_count": 18,
   "metadata": {
    "collapsed": true
   },
   "outputs": [],
   "source": [
    "raw_data = data['Title']+data['Summary']\n",
    "raw_train = raw_data[split]\n",
    "raw_test = raw_data[np.logical_not(split)]\n",
    "y = data['Topic_2digit']\n",
    "y_train = y[split]\n",
    "y_test = y[np.logical_not(split)]"
   ]
  },
  {
   "cell_type": "code",
   "execution_count": 19,
   "metadata": {
    "collapsed": false
   },
   "outputs": [
    {
     "name": "stdout",
     "output_type": "stream",
     "text": [
      "Example: Nation's Smaller Jails Struggle To Cope With Surge in Inmates Jails overwhelmed with hardened criminals\n",
      "\n",
      "Preprocessed: nation's smaller jails struggle to cope with surge in inmates jails overwhelmed with hardened criminals\n",
      "\n",
      "Tokenized:[u'Nation', u'Smaller', u'Jails', u'Struggle', u'To', u'Cope', u'With', u'Surge', u'in', u'Inmates', u'Jails', u'overwhelmed', u'with', u'hardened', u'criminals']\n",
      "\n",
      "Analyzed data string:[u'nation', u'smaller', u'jails', u'struggle', u'cope', u'surge', u'inmates', u'jails', u'overwhelmed', u'hardened', u'criminals']\n",
      "\n",
      "\n",
      "\n",
      "Number of tokens: 11354\n",
      "\n",
      "Extract of tokes:\n",
      "[u'banned', u'banner', u'banning', u'bans', u'bansenate', u'banus', u'baptist', u'baptists', u'bar', u'barak', u'barbie', u'bare', u'barely', u'bares', u'bargain', u'bargaining', u'bargains', u'barnes', u'barney', u'baron', u'barons', u'barrage', u'barred', u'barrel', u'barren', u'barrier', u'barriers', u'barring', u'bars', u'barter', u'base', u'baseball', u'based', u'basement', u'bases', u'basespentagon', u'bashing', u'basic', u'basis', u'baskeball', u'basketball', u'basks', u'basra', u'bastion', u'bat', u'bath', u'batter', u'battered', u'battering', u'batters', u'battery', u'battle', u'battledemocrats', u'battlefield', u'battleground', u'battles', u'battleus', u'battling', u'bay', u'bayer', u'bbc', u'beach', u'beaches', u'bear', u'bearing', u'bears', u'beat', u'beaten', u'beating', u'beats', u'beautiful', u'beauty', u'beckons', u'bed', u'bedevil', u'bedeviled', u'beef', u'beetle', u'began', u'begin', u'beginning', u'begins', u'beginsphoto', u'begun', u'behavior', u'behemoth', u'beijing', u'beijingus', u'beirut', u'belarus', u'belated', u'belfast', u'belgrade', u'beliefs', u'belies', u'believe', u'believed', u'believes', u'belittles', u'bell']\n"
     ]
    }
   ],
   "source": [
    "# Let us tokenize the data\n",
    "from sklearn.feature_extraction.text import CountVectorizer\n",
    "\n",
    "vectorizer = CountVectorizer(min_df=2, \n",
    " stop_words='english', \n",
    " strip_accents='unicode')\n",
    "\n",
    "#example\n",
    "test_string = unicode(raw_train[0])\n",
    "print \"Example: \" + test_string +\"\\n\"\n",
    "print \"Preprocessed: \" + vectorizer.build_preprocessor()(test_string)+\"\\n\"\n",
    "print \"Tokenized:\" + str(vectorizer.build_tokenizer()(test_string))+\"\\n\"\n",
    "print \"Analyzed data string:\" + str(vectorizer.build_analyzer()(test_string))+\"\\n\"\n",
    "\n",
    "\n",
    "#Fit and convert data\n",
    "X_train = vectorizer.fit_transform(raw_train)\n",
    "X_test = vectorizer.transform(raw_test)\n",
    "\n",
    "print \"\\n\"\n",
    "print \"Number of tokens: \" + str(len(vectorizer.get_feature_names())) +\"\\n\"\n",
    "print \"Extract of tokes:\"\n",
    "print vectorizer.get_feature_names()[1000:1100]"
   ]
  },
  {
   "cell_type": "code",
   "execution_count": 20,
   "metadata": {
    "collapsed": false
   },
   "outputs": [
    {
     "name": "stdout",
     "output_type": "stream",
     "text": [
      "classification accuracy: 0.515570469799\n",
      "Classification Report:\n",
      "             precision    recall  f1-score   support\n",
      "\n",
      "          1       0.45      0.61      0.52        83\n",
      "          2       0.06      0.94      0.11        18\n",
      "          3       0.69      0.59      0.63       514\n",
      "          4       0.00      0.00      0.00         0\n",
      "          5       0.03      0.67      0.06         9\n",
      "          6       0.46      0.87      0.61       106\n",
      "          7       0.00      0.00      0.00         0\n",
      "          8       0.00      0.00      0.00         0\n",
      "         10       0.01      0.50      0.02         2\n",
      "         12       0.61      0.41      0.49       651\n",
      "         13       0.00      0.00      0.00         0\n",
      "         14       0.00      0.00      0.00         0\n",
      "         15       0.23      0.55      0.32       136\n",
      "         16       0.70      0.64      0.67      1466\n",
      "         17       0.06      1.00      0.11         8\n",
      "         18       0.00      0.00      0.00         0\n",
      "         19       0.77      0.41      0.53      2816\n",
      "         20       0.85      0.55      0.67      1436\n",
      "         21       0.00      0.00      0.00         0\n",
      "         24       0.07      0.85      0.13        13\n",
      "         26       0.00      0.00      0.00         0\n",
      "         27       0.00      0.00      0.00         0\n",
      "         28       0.02      0.57      0.04         7\n",
      "         29       0.54      0.67      0.60       185\n",
      "         30       0.00      0.00      0.00         0\n",
      "         31       0.00      0.00      0.00         0\n",
      "         99       0.00      0.00      0.00         0\n",
      "\n",
      "avg / total       0.72      0.52      0.58      7450\n",
      "\n"
     ]
    },
    {
     "data": {
      "image/png": "[encoded data removed]",
      "text/plain": [
       "<matplotlib.figure.Figure at 0x12b306110>"
      ]
     },
     "metadata": {},
     "output_type": "display_data"
    }
   ],
   "source": [
    "from sklearn.naive_bayes import BernoulliNB\n",
    "nb = BernoulliNB()\n",
    "nb.fit(X_train,y_train)\n",
    "\n",
    "y_hat = nb.predict(X_test)\n",
    "from sklearn import metrics\n",
    "import matplotlib.pyplot as plt\n",
    "def plot_confusion_matrix(y_pred, y):\n",
    "    plt.imshow(metrics.confusion_matrix(y, y_pred), interpolation='nearest')\n",
    "    plt.colorbar()\n",
    "    plt.ylabel('true value')\n",
    "    plt.xlabel('predicted value')\n",
    "    fig = plt.gcf()\n",
    "    fig.set_size_inches(9,9)    \n",
    "    \n",
    "print \"classification accuracy:\", metrics.accuracy_score(y_hat, y_test)\n",
    "plot_confusion_matrix(y_hat, y_test)\n",
    "print \"Classification Report:\"\n",
    "print metrics.classification_report(y_hat,np.array(y_test))"
   ]
  },
  {
   "cell_type": "code",
   "execution_count": 21,
   "metadata": {
    "collapsed": false
   },
   "outputs": [
    {
     "name": "stdout",
     "output_type": "stream",
     "text": [
      "Code: 1 Terms : [u'cut', u'economy', u'market', u'budget', u'tax']\n",
      "Code: 2 Terms : [u'gay', u'race', u'new', u'court', u'abortion']\n",
      "Code: 3 Terms : [u'medicare', u'care', u'drug', u'new', u'health']\n",
      "Code: 4 Terms : [u'disease', u'farm', u'new', u'farmers', u'food']\n",
      "Code: 5 Terms : [u'new', u'workers', u'strike', u'union', u'immigrants']\n",
      "Code: 6 Terms : [u'education', u'students', u'new', u'schools', u'school']\n",
      "Code: 7 Terms : [u'water', u'pollution', u'new', u'global', u'warming']\n",
      "Code: 8 Terms : [u'gas', u'prices', u'energy', u'oil', u'power']\n",
      "Code: 10 Terms : [u'investigation', u'800', u'twa', u'flight', u'crash']\n",
      "Code: 12 Terms : [u'death', u'scandal', u'abuse', u'new', u'police']\n",
      "Code: 13 Terms : [u'security', u'clinton', u'social', u'new', u'welfare']\n",
      "Code: 14 Terms : [u'housing', u'york', u'rent', u'nyc', u'new']\n",
      "Code: 15 Terms : [u'new', u'merger', u'scandal', u'antitrust', u'microsoft']\n",
      "Code: 16 Terms : [u'bush', u'challenged', u'war', u'nation', u'iraq']\n",
      "Code: 17 Terms : [u'loss', u'columbia', u'space', u'shuttle', u'new']\n",
      "Code: 18 Terms : [u'deal', u'sanctions', u'clinton', u'china', u'trade']\n",
      "Code: 19 Terms : [u'war', u'peace', u'new', u'china', u'israel']\n",
      "Code: 20 Terms : [u'2000', u'bush', u'president', u'clinton', u'campaign']\n",
      "Code: 21 Terms : [u'memorial', u'zero', u'ground', u'indian', u'new']\n",
      "Code: 24 Terms : [u'city', u'budget', u'governor', u'mayor', u'new']\n",
      "Code: 26 Terms : [u'hurricane', u'york', u'storm', u'new', u'weather']\n",
      "Code: 27 Terms : [u'fires', u'killed', u'accident', u'crash', u'new']\n",
      "Code: 28 Terms : [u'york', u'day', u'museum', u'art', u'new']\n",
      "Code: 29 Terms : [u'world', u'playoffs', u'series', u'yankees', u'baseball']\n",
      "Code: 30 Terms : [u'plane', u'death', u'crash', u'dead', u'dies']\n",
      "Code: 31 Terms : [u'catholic', u'religious', u'new', u'pope', u'church']\n",
      "Code: 99 Terms : [u'park', u'editors', u'new', u'special', u'note']\n"
     ]
    }
   ],
   "source": [
    "#What are the top N most predictive features per class?\n",
    "N = 5\n",
    "voc = vectorizer.get_feature_names()\n",
    "for i, label in enumerate(np.unique(y)):\n",
    "    topN = np.argsort(nb.coef_[i])[-N:]\n",
    "    print 'Code: '+ str(label) + ' Terms : '+ str([voc[i] for i in topN])"
   ]
  },
  {
   "cell_type": "markdown",
   "metadata": {},
   "source": [
    "And now try with our own Simple Naive Bayes"
   ]
  },
  {
   "cell_type": "code",
   "execution_count": 22,
   "metadata": {
    "collapsed": false
   },
   "outputs": [
    {
     "name": "stdout",
     "output_type": "stream",
     "text": [
      "classification accuracy: 0.505637583893\n",
      "Classification Report:\n",
      "             precision    recall  f1-score   support\n",
      "\n",
      "          1       0.50      0.46      0.48       125\n",
      "          2       0.29      0.47      0.36       174\n",
      "          3       0.59      0.60      0.60       428\n",
      "          4       0.20      0.46      0.28        13\n",
      "          5       0.29      0.39      0.33       140\n",
      "          6       0.45      0.57      0.51       158\n",
      "          7       0.32      0.47      0.38        38\n",
      "          8       0.26      0.68      0.38        28\n",
      "         10       0.26      0.46      0.33        70\n",
      "         12       0.50      0.36      0.42       619\n",
      "         13       0.16      0.28      0.21        25\n",
      "         14       0.10      0.38      0.15        37\n",
      "         15       0.30      0.43      0.36       233\n",
      "         16       0.60      0.53      0.57      1519\n",
      "         17       0.30      0.50      0.38        86\n",
      "         18       0.16      0.21      0.18        19\n",
      "         19       0.68      0.46      0.55      2218\n",
      "         20       0.65      0.62      0.64       978\n",
      "         21       0.16      0.37      0.22        30\n",
      "         24       0.36      0.46      0.40       118\n",
      "         26       0.31      0.79      0.44        73\n",
      "         27       0.11      0.38      0.17         8\n",
      "         28       0.30      0.49      0.37       106\n",
      "         29       0.50      0.77      0.61       150\n",
      "         30       0.22      0.82      0.35        17\n",
      "         31       0.12      0.52      0.20        25\n",
      "         99       0.04      0.13      0.06        15\n",
      "\n",
      "avg / total       0.56      0.51      0.52      7450\n",
      "\n"
     ]
    },
    {
     "data": {
      "image/png": "[encoded data removed]",
      "text/plain": [
       "<matplotlib.figure.Figure at 0x12b555ad0>"
      ]
     },
     "metadata": {},
     "output_type": "display_data"
    }
   ],
   "source": [
    "%matplotlib inline\n",
    "\n",
    "X_train = X_train.todense()\n",
    "X_train = X_train.astype(np.float)\n",
    "X_test = X_test.todense()\n",
    "X_test = X_test.astype(np.float)\n",
    "y_train = np.array(y_train.tolist())\n",
    "\n",
    "\n",
    "clf = SimpleNaiveBayes()\n",
    "clf.fit(X_train,y_train)\n",
    "y_hat = clf.predict(X_test)\n",
    "\n",
    "#from sklearn.naive_bayes import BernoulliNB\n",
    "#nb = BernoulliNB()\n",
    "#nb.fit(X_train,y_train)\n",
    "#y_hat = nb.predict(X_test)\n",
    "\n",
    "\n",
    "from sklearn import metrics\n",
    "import matplotlib.pyplot as plt\n",
    "def plot_confusion_matrix(y_pred, y):\n",
    "    plt.imshow(metrics.confusion_matrix(y, y_pred), interpolation='nearest',cmap='gray')\n",
    "    plt.colorbar()\n",
    "    plt.ylabel('true value')\n",
    "    plt.xlabel('predicted value')\n",
    "    fig = plt.gcf()\n",
    "    fig.set_size_inches(9,9)    \n",
    "    \n",
    "print \"classification accuracy:\", metrics.accuracy_score(y_hat, y_test)\n",
    "plot_confusion_matrix(y_hat, y_test)\n",
    "print \"Classification Report:\"\n",
    "print metrics.classification_report(y_hat,np.array(y_test))"
   ]
  },
  {
   "cell_type": "markdown",
   "metadata": {},
   "source": [
    "Observe that adding the small summary improves the recognition rate by $10\\%$. \n",
    "\n",
    "As a side note, Naive Bayes with these models creates a linear decision boundary. For this reason, sometimes NB is called a linear classifier."
   ]
  },
  {
   "cell_type": "markdown",
   "metadata": {},
   "source": [
    "<div class = \"alert alert-danger\" style = \"border-radius:10px\">**DELIVERABLE: ** Modify the SimpleBayes class to consider the Multinomial case. What is the performance achieved in the NY Times dataset?</div>"
   ]
  },
  {
   "cell_type": "code",
   "execution_count": null,
   "metadata": {
    "collapsed": true
   },
   "outputs": [],
   "source": []
  }
 ],
 "metadata": {
  "anaconda-cloud": {},
  "kernelspec": {
   "display_name": "Python [Root]",
   "language": "python",
   "name": "Python [Root]"
  },
  "language_info": {
   "codemirror_mode": {
    "name": "ipython",
    "version": 2
   },
   "file_extension": ".py",
   "mimetype": "text/x-python",
   "name": "python",
   "nbconvert_exporter": "python",
   "pygments_lexer": "ipython2",
   "version": "2.7.12"
  }
 },
 "nbformat": 4,
 "nbformat_minor": 0
}
